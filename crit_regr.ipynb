{
 "cells": [
  {
   "cell_type": "code",
   "execution_count": 61,
   "metadata": {},
   "outputs": [],
   "source": [
    "import pandas as pd\n",
    "import numpy as np\n",
    "from icecream import ic\n",
    "from sklearn.linear_model import LinearRegression, Ridge, Lasso, ElasticNet\n",
    "from sklearn.svm import SVR\n",
    "from sklearn.ensemble import RandomForestRegressor, GradientBoostingRegressor\n",
    "from sklearn.neural_network import MLPRegressor\n",
    "from sklearn.model_selection import cross_val_score"
   ]
  },
  {
   "attachments": {},
   "cell_type": "markdown",
   "metadata": {},
   "source": [
    "# Import"
   ]
  },
  {
   "cell_type": "code",
   "execution_count": 62,
   "metadata": {},
   "outputs": [
    {
     "data": {
      "text/html": [
       "<div>\n",
       "<style scoped>\n",
       "    .dataframe tbody tr th:only-of-type {\n",
       "        vertical-align: middle;\n",
       "    }\n",
       "\n",
       "    .dataframe tbody tr th {\n",
       "        vertical-align: top;\n",
       "    }\n",
       "\n",
       "    .dataframe thead th {\n",
       "        text-align: right;\n",
       "    }\n",
       "</style>\n",
       "<table border=\"1\" class=\"dataframe\">\n",
       "  <thead>\n",
       "    <tr style=\"text-align: right;\">\n",
       "      <th></th>\n",
       "      <th>Crit Chance</th>\n",
       "      <th>Legendary</th>\n",
       "      <th>Fabled</th>\n",
       "      <th>Mythical</th>\n",
       "    </tr>\n",
       "  </thead>\n",
       "  <tbody>\n",
       "    <tr>\n",
       "      <th>0</th>\n",
       "      <td>946</td>\n",
       "      <td>6.2</td>\n",
       "      <td>1.9</td>\n",
       "      <td>0.10</td>\n",
       "    </tr>\n",
       "    <tr>\n",
       "      <th>1</th>\n",
       "      <td>1094</td>\n",
       "      <td>6.0</td>\n",
       "      <td>1.5</td>\n",
       "      <td>0.10</td>\n",
       "    </tr>\n",
       "    <tr>\n",
       "      <th>2</th>\n",
       "      <td>1094</td>\n",
       "      <td>6.3</td>\n",
       "      <td>2.1</td>\n",
       "      <td>0.20</td>\n",
       "    </tr>\n",
       "    <tr>\n",
       "      <th>3</th>\n",
       "      <td>1111</td>\n",
       "      <td>6.5</td>\n",
       "      <td>1.9</td>\n",
       "      <td>0.20</td>\n",
       "    </tr>\n",
       "    <tr>\n",
       "      <th>4</th>\n",
       "      <td>1111</td>\n",
       "      <td>6.2</td>\n",
       "      <td>2.8</td>\n",
       "      <td>0.30</td>\n",
       "    </tr>\n",
       "    <tr>\n",
       "      <th>5</th>\n",
       "      <td>1222</td>\n",
       "      <td>6.3</td>\n",
       "      <td>2.5</td>\n",
       "      <td>0.20</td>\n",
       "    </tr>\n",
       "    <tr>\n",
       "      <th>6</th>\n",
       "      <td>1270</td>\n",
       "      <td>6.5</td>\n",
       "      <td>2.7</td>\n",
       "      <td>0.30</td>\n",
       "    </tr>\n",
       "    <tr>\n",
       "      <th>7</th>\n",
       "      <td>1270</td>\n",
       "      <td>6.7</td>\n",
       "      <td>2.6</td>\n",
       "      <td>0.40</td>\n",
       "    </tr>\n",
       "    <tr>\n",
       "      <th>8</th>\n",
       "      <td>1386</td>\n",
       "      <td>6.5</td>\n",
       "      <td>2.9</td>\n",
       "      <td>0.40</td>\n",
       "    </tr>\n",
       "    <tr>\n",
       "      <th>9</th>\n",
       "      <td>1568</td>\n",
       "      <td>7.0</td>\n",
       "      <td>2.9</td>\n",
       "      <td>0.40</td>\n",
       "    </tr>\n",
       "    <tr>\n",
       "      <th>10</th>\n",
       "      <td>1568</td>\n",
       "      <td>6.7</td>\n",
       "      <td>2.9</td>\n",
       "      <td>0.40</td>\n",
       "    </tr>\n",
       "    <tr>\n",
       "      <th>11</th>\n",
       "      <td>1568</td>\n",
       "      <td>6.9</td>\n",
       "      <td>2.9</td>\n",
       "      <td>0.40</td>\n",
       "    </tr>\n",
       "    <tr>\n",
       "      <th>12</th>\n",
       "      <td>1586</td>\n",
       "      <td>7.0</td>\n",
       "      <td>3.0</td>\n",
       "      <td>0.50</td>\n",
       "    </tr>\n",
       "    <tr>\n",
       "      <th>13</th>\n",
       "      <td>100</td>\n",
       "      <td>1.0</td>\n",
       "      <td>0.0</td>\n",
       "      <td>0.00</td>\n",
       "    </tr>\n",
       "    <tr>\n",
       "      <th>14</th>\n",
       "      <td>500</td>\n",
       "      <td>3.5</td>\n",
       "      <td>1.0</td>\n",
       "      <td>0.00</td>\n",
       "    </tr>\n",
       "    <tr>\n",
       "      <th>15</th>\n",
       "      <td>700</td>\n",
       "      <td>5.0</td>\n",
       "      <td>1.3</td>\n",
       "      <td>0.05</td>\n",
       "    </tr>\n",
       "  </tbody>\n",
       "</table>\n",
       "</div>"
      ],
      "text/plain": [
       "    Crit Chance  Legendary  Fabled  Mythical\n",
       "0           946        6.2     1.9      0.10\n",
       "1          1094        6.0     1.5      0.10\n",
       "2          1094        6.3     2.1      0.20\n",
       "3          1111        6.5     1.9      0.20\n",
       "4          1111        6.2     2.8      0.30\n",
       "5          1222        6.3     2.5      0.20\n",
       "6          1270        6.5     2.7      0.30\n",
       "7          1270        6.7     2.6      0.40\n",
       "8          1386        6.5     2.9      0.40\n",
       "9          1568        7.0     2.9      0.40\n",
       "10         1568        6.7     2.9      0.40\n",
       "11         1568        6.9     2.9      0.40\n",
       "12         1586        7.0     3.0      0.50\n",
       "13          100        1.0     0.0      0.00\n",
       "14          500        3.5     1.0      0.00\n",
       "15          700        5.0     1.3      0.05"
      ]
     },
     "metadata": {},
     "output_type": "display_data"
    },
    {
     "data": {
      "text/plain": [
       "Index(['Crit Chance', 'Legendary', 'Fabled', 'Mythical'], dtype='object')"
      ]
     },
     "execution_count": 62,
     "metadata": {},
     "output_type": "execute_result"
    }
   ],
   "source": [
    "df = pd.read_csv(\"data/crit_regression.txt\", sep=\"\\t\")\n",
    "display(df)\n",
    "df.shape # (13,4)\n",
    "df.columns # Index(['Crit Chance', 'Legendary', 'Fabled', 'Mythical'], dtype='object')"
   ]
  },
  {
   "cell_type": "code",
   "execution_count": 63,
   "metadata": {},
   "outputs": [
    {
     "data": {
      "text/plain": [
       "0.8543687129531817"
      ]
     },
     "execution_count": 63,
     "metadata": {},
     "output_type": "execute_result"
    }
   ],
   "source": [
    "# normalize(df[['Legendary','Fabled', 'Mythical']], axis=0)\n",
    "X = df[\"Crit Chance\"].values.reshape(-1, 1)\n",
    "Y = df[[\"Legendary\",\"Fabled\",\"Mythical\"]]\n",
    "\n",
    "\n",
    "\n",
    "reg = LinearRegression().fit(X, Y)\n",
    "reg.score(X, Y)"
   ]
  },
  {
   "cell_type": "code",
   "execution_count": 64,
   "metadata": {},
   "outputs": [
    {
     "name": "stdout",
     "output_type": "stream",
     "text": [
      "LinearRegression: R^2 = -156013621102735052384124272640.000 (+/- 312027242205470104768248545280.000)\n",
      "Ridge: R^2 = -156013752001938761790133370880.000 (+/- 312027504003877558764638830592.000)\n",
      "Lasso: R^2 = -161194862454736244804029513728.000 (+/- 322389724909472489608059027456.000)\n",
      "ElasticNet: R^2 = -158581334677484737122747285504.000 (+/- 317162669354969474245494571008.000)\n",
      "RandomForestRegressor: R^2 = -204064528143856384976128835584.000 (+/- 408129056287712769952257671168.000)\n",
      "MLPRegressor: R^2 = -567901060338929935410529245855744.000 (+/- 1135802120677859870821058491711488.000)\n"
     ]
    }
   ],
   "source": [
    "# Define the models to test\n",
    "models = [\n",
    "    LinearRegression(),\n",
    "    Ridge(),\n",
    "    Lasso(),\n",
    "    ElasticNet(),\n",
    "    # SVR(),\n",
    "    RandomForestRegressor(),\n",
    "    # GradientBoostingRegressor(),\n",
    "    MLPRegressor()\n",
    "]\n",
    "\n",
    "# Evaluate the models using cross-validation\n",
    "for model in models:\n",
    "    scores = cross_val_score(model, X, Y, cv=5, scoring=\"r2\")\n",
    "    print(f\"{model.__class__.__name__}: R^2 = {scores.mean():.3f} (+/- {scores.std():.3f})\")"
   ]
  },
  {
   "cell_type": "code",
   "execution_count": 65,
   "metadata": {},
   "outputs": [
    {
     "name": "stdout",
     "output_type": "stream",
     "text": [
      "Coefficients: [[0.0034985 ]\n",
      " [0.00198134]\n",
      " [0.0003527 ]]\n"
     ]
    }
   ],
   "source": [
    "# Print the coefficients\n",
    "print(\"Coefficients:\", reg.coef_)"
   ]
  },
  {
   "cell_type": "code",
   "execution_count": 66,
   "metadata": {},
   "outputs": [
    {
     "data": {
      "text/plain": [
       "array([86.60891724,  8.93438792,  3.90327841,  0.55341644])"
      ]
     },
     "metadata": {},
     "output_type": "display_data"
    },
    {
     "data": {
      "text/plain": [
       "1.0532414438270215"
      ]
     },
     "metadata": {},
     "output_type": "display_data"
    }
   ],
   "source": [
    "x_new = 2000\n",
    "y_pred = reg.predict([[x_new]])\n",
    "normal_crits = 100-y_pred.sum()\n",
    "y_pred=np.insert(y_pred,0,values=normal_crits)\n",
    "display(y_pred)\n",
    "weights = np.array([1, 1.25, 1.65, 2])\n",
    "result = np.dot(y_pred / 100, weights)\n",
    "display(result)\n",
    "\n",
    "test_x, test_y = 1568, np.array([6.9,.9,0.4])\n",
    "normal_crits = 100-test_y.sum()\n",
    "test_y=np.insert(test_y,0,values=normal_crits)\n",
    "result = np.dot(test_y / 100, weights)"
   ]
  },
  {
   "cell_type": "code",
   "execution_count": 67,
   "metadata": {},
   "outputs": [
    {
     "name": "stderr",
     "output_type": "stream",
     "text": [
      "ic| y_pred: array([9.53577297e+01, 3.68663083e+00, 9.31274828e-01, 2.43646240e-02])\n",
      "ic| f\"(N,L,F,M) crits: {weights} • {test_result} = {result}\": ('(N,L,F,M) crits: [1.   1.25 1.65 2.  ] • [9.53577297e+01 4.60828854e+00 '\n",
      "                                                               '1.53660347e+00 4.87292481e-02] = 1.015513509708762')\n",
      "ic| enhanced_crit_modified(reg,500): 1.015513509708762\n"
     ]
    },
    {
     "data": {
      "text/plain": [
       "1.015513509708762"
      ]
     },
     "execution_count": 67,
     "metadata": {},
     "output_type": "execute_result"
    }
   ],
   "source": [
    "def enhanced_crit_modified(input_model,input_x):\n",
    "    y_pred = input_model.predict([[input_x]])\n",
    "    normal_crits = 100-y_pred.sum()\n",
    "    y_pred=np.insert(y_pred,0,values=normal_crits)\n",
    "    ic(y_pred)\n",
    "    weights = np.array([1.00, 1.25, 1.65, 2])\n",
    "    test_result = np.array([x*y for x,y in zip(weights,y_pred)])\n",
    "    \n",
    "    # display(test_result.sum())\n",
    "    result = np.dot(y_pred / 100, weights)\n",
    "    ic(f\"(N,L,F,M) crits: {weights} • {test_result} = {result}\")\n",
    "    # display(result)\n",
    "    return result\n",
    "\n",
    "ic(enhanced_crit_modified(reg,500))"
   ]
  },
  {
   "cell_type": "code",
   "execution_count": 82,
   "metadata": {},
   "outputs": [
    {
     "name": "stderr",
     "output_type": "stream",
     "text": [
      "ic| y_pred: array([9.53577297e+01, 3.68663083e+00, 9.31274828e-01, 2.43646240e-02])\n",
      "ic| f\"(N,L,F,M) crits: {weights} • {test_result} = {result}\": ('(N,L,F,M) crits: [1.   1.25 1.65 2.  ] • [9.53577297e+01 4.60828854e+00 '\n",
      "                                                               '1.53660347e+00 4.87292481e-02] = 1.015513509708762')\n",
      "ic| y_pred: array([9.47030567e+01, 4.07932014e+00, 1.15366965e+00, 6.39535354e-02])\n",
      "ic| f\"(N,L,F,M) crits: {weights} • {test_result} = {result}\": ('(N,L,F,M) crits: [1.   1.25 1.65 2.  ] • [94.70305667  5.09915017  '\n",
      "                                                               '1.90355493  0.12790707] = 1.0183366884523053')\n",
      "ic| y_pred: array([94.04838363,  4.47200945,  1.37606448,  0.10354245])\n",
      "ic| f\"(N,L,F,M) crits: {weights} • {test_result} = {result}\": ('(N,L,F,M) crits: [1.   1.25 1.65 2.  ] • [94.04838363  5.59001181  '\n",
      "                                                               '2.27050639  0.20708489] = 1.0211598671958484')\n",
      "ic| y_pred: array([93.39371059,  4.86469875,  1.59845931,  0.14313136])\n",
      "ic| f\"(N,L,F,M) crits: {weights} • {test_result} = {result}\": ('(N,L,F,M) crits: [1.   1.25 1.65 2.  ] • [93.39371059  6.08087344  '\n",
      "                                                               '2.63745785  0.28626272] = 1.0239830459393917')\n",
      "ic| y_pred: array([92.73903754,  5.25738806,  1.82085413,  0.18272027])\n",
      "ic| f\"(N,L,F,M) crits: {weights} • {test_result} = {result}\": ('(N,L,F,M) crits: [1.   1.25 1.65 2.  ] • [92.73903754  6.57173507  '\n",
      "                                                               '3.00440932  0.36544054] = 1.0268062246829348')\n",
      "ic| y_pred: array([92.0843645 ,  5.65007736,  2.04324896,  0.22230918])\n",
      "ic| f\"(N,L,F,M) crits: {weights} • {test_result} = {result}\": ('(N,L,F,M) crits: [1.   1.25 1.65 2.  ] • [92.0843645   7.0625967   '\n",
      "                                                               '3.37136078  0.44461836] = 1.0296294034264781')\n",
      "ic| y_pred: array([91.42969146,  6.04276667,  2.26564378,  0.26189809])\n",
      "ic| f\"(N,L,F,M) crits: {weights} • {test_result} = {result}\": ('(N,L,F,M) crits: [1.   1.25 1.65 2.  ] • [91.42969146  7.55345833  '\n",
      "                                                               '3.73831224  0.52379618] = 1.0324525821700212')\n",
      "ic| y_pred: array([90.77501842,  6.43545597,  2.48803861,  0.301487  ])\n",
      "ic| f\"(N,L,F,M) crits: {weights} • {test_result} = {result}\": ('(N,L,F,M) crits: [1.   1.25 1.65 2.  ] • [90.77501842  8.04431997  '\n",
      "                                                               '4.1052637   0.60297401] = 1.0352757609135645')\n",
      "ic| y_pred: array([90.12034537,  6.82814528,  2.71043343,  0.34107591])\n",
      "ic| f\"(N,L,F,M) crits: {weights} • {test_result} = {result}\": ('(N,L,F,M) crits: [1.   1.25 1.65 2.  ] • [90.12034537  8.5351816   '\n",
      "                                                               '4.47221516  0.68215183] = 1.0380989396571079')\n",
      "ic| y_pred: array([89.46567233,  7.22083458,  2.93282826,  0.38066483])\n",
      "ic| f\"(N,L,F,M) crits: {weights} • {test_result} = {result}\": ('(N,L,F,M) crits: [1.   1.25 1.65 2.  ] • [89.46567233  9.02604323  '\n",
      "                                                               '4.83916663  0.76132965] = 1.0409221184006512')\n",
      "ic| y_pred: array([88.81099929,  7.61352389,  3.15522308,  0.42025374])\n",
      "ic| f\"(N,L,F,M) crits: {weights} • {test_result} = {result}\": ('(N,L,F,M) crits: [1.   1.25 1.65 2.  ] • [88.81099929  9.51690486  '\n",
      "                                                               '5.20611809  0.84050747] = 1.0437452971441945')\n",
      "ic| y_pred: array([88.15632625,  8.00621319,  3.37761791,  0.45984265])\n",
      "ic| f\"(N,L,F,M) crits: {weights} • {test_result} = {result}\": ('(N,L,F,M) crits: [1.   1.25 1.65 2.  ] • [88.15632625 10.00776649  '\n",
      "                                                               '5.57306955  0.9196853 ] = 1.0465684758877378')\n",
      "ic| y_pred: array([87.50165321,  8.3989025 ,  3.60001274,  0.49943156])\n",
      "ic| f\"(N,L,F,M) crits: {weights} • {test_result} = {result}\": ('(N,L,F,M) crits: [1.   1.25 1.65 2.  ] • [87.50165321 10.49862812  '\n",
      "                                                               '5.94002101  0.99886312] = 1.049391654631281')\n",
      "ic| y_pred: array([86.84698016,  8.7915918 ,  3.82240756,  0.53902047])\n",
      "ic| f\"(N,L,F,M) crits: {weights} • {test_result} = {result}\": ('(N,L,F,M) crits: [1.   1.25 1.65 2.  ] • [86.84698016 10.98948976  '\n",
      "                                                               '6.30697248  1.07804094] = 1.052214833374824')\n",
      "ic| y_pred: array([86.19230712,  9.18428111,  4.04480239,  0.57860938])\n",
      "ic| f\"(N,L,F,M) crits: {weights} • {test_result} = {result}\": ('(N,L,F,M) crits: [1.   1.25 1.65 2.  ] • [86.19230712 11.48035139  '\n",
      "                                                               '6.67392394  1.15721877] = 1.0550380121183673')\n",
      "ic| y_pred: array([85.53763408,  9.57697042,  4.26719721,  0.61819829])\n",
      "ic| f\"(N,L,F,M) crits: {weights} • {test_result} = {result}\": ('(N,L,F,M) crits: [1.   1.25 1.65 2.  ] • [85.53763408 11.97121302  '\n",
      "                                                               '7.0408754   1.23639659] = 1.0578611908619107')\n",
      "ic| y_pred: array([84.88296104,  9.96965972,  4.48959204,  0.65778721])\n",
      "ic| f\"(N,L,F,M) crits: {weights} • {test_result} = {result}\": ('(N,L,F,M) crits: [1.   1.25 1.65 2.  ] • [84.88296104 12.46207465  '\n",
      "                                                               '7.40782686  1.31557441] = 1.0606843696054538')\n",
      "ic| y_pred: array([84.22828799, 10.36234903,  4.71198686,  0.69737612])\n",
      "ic| f\"(N,L,F,M) crits: {weights} • {test_result} = {result}\": ('(N,L,F,M) crits: [1.   1.25 1.65 2.  ] • [84.22828799 12.95293628  '\n",
      "                                                               '7.77477833  1.39475223] = 1.063507548348997')\n",
      "ic| y_pred: array([83.57361495, 10.75503833,  4.93438169,  0.73696503])\n",
      "ic| f\"(N,L,F,M) crits: {weights} • {test_result} = {result}\": ('(N,L,F,M) crits: [1.   1.25 1.65 2.  ] • [83.57361495 13.44379791  '\n",
      "                                                               '8.14172979  1.47393006] = 1.0663307270925404')\n",
      "ic| y_pred: array([82.91894191, 11.14772764,  5.15677652,  0.77655394])\n",
      "ic| f\"(N,L,F,M) crits: {weights} • {test_result} = {result}\": ('(N,L,F,M) crits: [1.   1.25 1.65 2.  ] • [82.91894191 13.93465955  '\n",
      "                                                               '8.50868125  1.55310788] = 1.0691539058360837')\n",
      "ic| y_pred: array([82.26426887, 11.54041694,  5.37917134,  0.81614285])\n",
      "ic| f\"(N,L,F,M) crits: {weights} • {test_result} = {result}\": ('(N,L,F,M) crits: [1.   1.25 1.65 2.  ] • [82.26426887 14.42552118  '\n",
      "                                                               '8.87563271  1.6322857 ] = 1.071977084579627')\n",
      "ic| y_pred: array([81.60959582, 11.93310625,  5.60156617,  0.85573176])\n",
      "ic| f\"(N,L,F,M) crits: {weights} • {test_result} = {result}\": ('(N,L,F,M) crits: [1.   1.25 1.65 2.  ] • [81.60959582 14.91638281  '\n",
      "                                                               '9.24258417  1.71146352] = 1.0748002633231701')\n",
      "ic| y_pred: array([80.95492278, 12.32579555,  5.82396099,  0.89532067])\n",
      "ic| f\"(N,L,F,M) crits: {weights} • {test_result} = {result}\": ('(N,L,F,M) crits: [1.   1.25 1.65 2.  ] • [80.95492278 15.40724444  '\n",
      "                                                               '9.60953564  1.79064135] = 1.0776234420667132')\n",
      "ic| y_pred: array([80.30024974, 12.71848486,  6.04635582,  0.93490958])\n",
      "ic| f\"(N,L,F,M) crits: {weights} • {test_result} = {result}\": ('(N,L,F,M) crits: [1.   1.25 1.65 2.  ] • [80.30024974 15.89810607  '\n",
      "                                                               '9.9764871   1.86981917] = 1.0804466208102568')\n",
      "ic| y_pred: array([79.6455767 , 13.11117416,  6.26875064,  0.9744985 ])\n",
      "ic| f\"(N,L,F,M) crits: {weights} • {test_result} = {result}\": ('(N,L,F,M) crits: [1.   1.25 1.65 2.  ] • [79.6455767  16.38896771 '\n",
      "                                                               '10.34343856  1.94899699] = 1.0832697995537999')\n",
      "ic| y_pred: array([78.99090365, 13.50386347,  6.49114547,  1.01408741])\n",
      "ic| f\"(N,L,F,M) crits: {weights} • {test_result} = {result}\": ('(N,L,F,M) crits: [1.   1.25 1.65 2.  ] • [78.99090365 16.87982934 '\n",
      "                                                               '10.71039002  2.02817482] = 1.0860929782973432')\n",
      "ic| y_pred: array([78.33623061, 13.89655277,  6.71354029,  1.05367632])\n",
      "ic| f\"(N,L,F,M) crits: {weights} • {test_result} = {result}\": ('(N,L,F,M) crits: [1.   1.25 1.65 2.  ] • [78.33623061 17.37069097 '\n",
      "                                                               '11.07734149  2.10735264] = 1.0889161570408865')\n",
      "ic| y_pred: array([77.68155757, 14.28924208,  6.93593512,  1.09326523])\n",
      "ic| f\"(N,L,F,M) crits: {weights} • {test_result} = {result}\": ('(N,L,F,M) crits: [1.   1.25 1.65 2.  ] • [77.68155757 17.8615526  '\n",
      "                                                               '11.44429295  2.18653046] = 1.0917393357844296')\n",
      "ic| y_pred: array([77.02688453, 14.68193139,  7.15832995,  1.13285414])\n",
      "ic| f\"(N,L,F,M) crits: {weights} • {test_result} = {result}\": ('(N,L,F,M) crits: [1.   1.25 1.65 2.  ] • [77.02688453 18.35241423 '\n",
      "                                                               '11.81124441  2.26570828] = 1.094562514527973')\n",
      "ic| y_pred: array([76.37221148, 15.07462069,  7.38072477,  1.17244305])\n",
      "ic| f\"(N,L,F,M) crits: {weights} • {test_result} = {result}\": ('(N,L,F,M) crits: [1.   1.25 1.65 2.  ] • [76.37221148 18.84327586 '\n",
      "                                                               '12.17819587  2.34488611] = 1.0973856932715162')\n",
      "ic| y_pred: array([75.71753844, 15.46731   ,  7.6031196 ,  1.21203196])\n",
      "ic| f\"(N,L,F,M) crits: {weights} • {test_result} = {result}\": ('(N,L,F,M) crits: [1.   1.25 1.65 2.  ] • [75.71753844 19.3341375  '\n",
      "                                                               '12.54514734  2.42406393] = 1.1002088720150593')\n",
      "ic| y_pred: array([75.0628654 , 15.8599993 ,  7.82551442,  1.25162088])\n",
      "ic| f\"(N,L,F,M) crits: {weights} • {test_result} = {result}\": ('(N,L,F,M) crits: [1.   1.25 1.65 2.  ] • [75.0628654  19.82499913 '\n",
      "                                                               '12.9120988   2.50324175] = 1.1030320507586027')\n",
      "ic| y_pred: array([74.40819236, 16.25268861,  8.04790925,  1.29120979])\n",
      "ic| f\"(N,L,F,M) crits: {weights} • {test_result} = {result}\": ('(N,L,F,M) crits: [1.   1.25 1.65 2.  ] • [74.40819236 20.31586076 '\n",
      "                                                               '13.27905026  2.58241957] = 1.1058552295021458')\n",
      "ic| y_pred: array([73.75351932, 16.64537791,  8.27030407,  1.3307987 ])\n",
      "ic| f\"(N,L,F,M) crits: {weights} • {test_result} = {result}\": ('(N,L,F,M) crits: [1.   1.25 1.65 2.  ] • [73.75351932 20.80672239 '\n",
      "                                                               '13.64600172  2.6615974 ] = 1.108678408245689')\n",
      "ic| y_pred: array([73.09884627, 17.03806722,  8.4926989 ,  1.37038761])\n",
      "ic| f\"(N,L,F,M) crits: {weights} • {test_result} = {result}\": ('(N,L,F,M) crits: [1.   1.25 1.65 2.  ] • [73.09884627 21.29758402 '\n",
      "                                                               '14.01295318  2.74077522] = 1.1115015869892324')\n",
      "ic| y_pred: array([72.44417323, 17.43075652,  8.71509373,  1.40997652])\n",
      "ic| f\"(N,L,F,M) crits: {weights} • {test_result} = {result}\": ('(N,L,F,M) crits: [1.   1.25 1.65 2.  ] • [72.44417323 21.78844565 '\n",
      "                                                               '14.37990465  2.81995304] = 1.1143247657327757')\n",
      "ic| y_pred: array([71.78950019, 17.82344583,  8.93748855,  1.44956543])\n",
      "ic| f\"(N,L,F,M) crits: {weights} • {test_result} = {result}\": ('(N,L,F,M) crits: [1.   1.25 1.65 2.  ] • [71.78950019 22.27930729 '\n",
      "                                                               '14.74685611  2.89913086] = 1.1171479444763188')\n",
      "ic| y_pred: array([71.13482715, 18.21613513,  9.15988338,  1.48915434])\n",
      "ic| f\"(N,L,F,M) crits: {weights} • {test_result} = {result}\": ('(N,L,F,M) crits: [1.   1.25 1.65 2.  ] • [71.13482715 22.77016892 '\n",
      "                                                               '15.11380757  2.97830869] = 1.1199711232198621')\n",
      "ic| y_pred: array([70.4801541 , 18.60882444,  9.3822782 ,  1.52874326])\n",
      "ic| f\"(N,L,F,M) crits: {weights} • {test_result} = {result}\": ('(N,L,F,M) crits: [1.   1.25 1.65 2.  ] • [70.4801541  23.26103055 '\n",
      "                                                               '15.48075903  3.05748651] = 1.1227943019634052')\n",
      "ic| y_pred: array([69.82548106, 19.00151375,  9.60467303,  1.56833217])\n",
      "ic| f\"(N,L,F,M) crits: {weights} • {test_result} = {result}\": ('(N,L,F,M) crits: [1.   1.25 1.65 2.  ] • [69.82548106 23.75189218 '\n",
      "                                                               '15.8477105   3.13666433] = 1.1256174807069486')\n",
      "ic| y_pred: array([69.17080802, 19.39420305,  9.82706785,  1.60792108])\n",
      "ic| f\"(N,L,F,M) crits: {weights} • {test_result} = {result}\": ('(N,L,F,M) crits: [1.   1.25 1.65 2.  ] • [69.17080802 24.24275381 '\n",
      "                                                               '16.21466196  3.21584216] = 1.1284406594504917')\n",
      "ic| y_pred: array([68.51613498, 19.78689236, 10.04946268,  1.64750999])\n",
      "ic| f\"(N,L,F,M) crits: {weights} • {test_result} = {result}\": ('(N,L,F,M) crits: [1.   1.25 1.65 2.  ] • [68.51613498 24.73361545 '\n",
      "                                                               '16.58161342  3.29501998] = 1.1312638381940352')\n",
      "ic| y_pred: array([67.86146193, 20.17958166, 10.2718575 ,  1.6870989 ])\n",
      "ic| f\"(N,L,F,M) crits: {weights} • {test_result} = {result}\": ('(N,L,F,M) crits: [1.   1.25 1.65 2.  ] • [67.86146193 25.22447708 '\n",
      "                                                               '16.94856488  3.3741978 ] = 1.1340870169375783')\n",
      "ic| y_pred: array([67.20678889, 20.57227097, 10.49425233,  1.72668781])\n",
      "ic| f\"(N,L,F,M) crits: {weights} • {test_result} = {result}\": ('(N,L,F,M) crits: [1.   1.25 1.65 2.  ] • [67.20678889 25.71533871 '\n",
      "                                                               '17.31551634  3.45337562] = 1.1369101956811216')\n",
      "ic| y_pred: array([66.55211585, 20.96496027, 10.71664716,  1.76627672])\n",
      "ic| f\"(N,L,F,M) crits: {weights} • {test_result} = {result}\": ('(N,L,F,M) crits: [1.   1.25 1.65 2.  ] • [66.55211585 26.20620034 '\n",
      "                                                               '17.68246781  3.53255345] = 1.139733374424665')\n",
      "ic| y_pred: array([65.89744281, 21.35764958, 10.93904198,  1.80586563])\n",
      "ic| f\"(N,L,F,M) crits: {weights} • {test_result} = {result}\": ('(N,L,F,M) crits: [1.   1.25 1.65 2.  ] • [65.89744281 26.69706197 '\n",
      "                                                               '18.04941927  3.61173127] = 1.1425565531682083')\n",
      "ic| y_pred: array([65.24276976, 21.75033888, 11.16143681,  1.84545455])\n",
      "ic| f\"(N,L,F,M) crits: {weights} • {test_result} = {result}\": ('(N,L,F,M) crits: [1.   1.25 1.65 2.  ] • [65.24276976 27.1879236  '\n",
      "                                                               '18.41637073  3.69090909] = 1.1453797319117516')\n",
      "ic| y_pred: array([64.58809672, 22.14302819, 11.38383163,  1.88504346])\n",
      "ic| f\"(N,L,F,M) crits: {weights} • {test_result} = {result}\": ('(N,L,F,M) crits: [1.   1.25 1.65 2.  ] • [64.58809672 27.67878524 '\n",
      "                                                               '18.78332219  3.77008691] = 1.148202910655295')\n",
      "ic| y_pred: array([63.93342368, 22.53571749, 11.60622646,  1.92463237])\n",
      "ic| f\"(N,L,F,M) crits: {weights} • {test_result} = {result}\": ('(N,L,F,M) crits: [1.   1.25 1.65 2.  ] • [63.93342368 28.16964687 '\n",
      "                                                               '19.15027366  3.84926474] = 1.151026089398838')\n",
      "ic| y_pred: array([63.27875064, 22.9284068 , 11.82862128,  1.96422128])\n",
      "ic| f\"(N,L,F,M) crits: {weights} • {test_result} = {result}\": ('(N,L,F,M) crits: [1.   1.25 1.65 2.  ] • [63.27875064 28.6605085  '\n",
      "                                                               '19.51722512  3.92844256] = 1.1538492681423813')\n"
     ]
    },
    {
     "data": {
      "image/png": "[encoded data removed]",
      "text/plain": [
       "<Figure size 1200x800 with 1 Axes>"
      ]
     },
     "metadata": {},
     "output_type": "display_data"
    }
   ],
   "source": [
    "import matplotlib.pyplot as plt\n",
    "import numpy as np\n",
    "\n",
    "def plot_function(func, x_range, title=\"Function Plot\", xlabel=\"x\", ylabel=\"y\", y_limits=None, figsize=(12, 8), label=None, logarithmic=False):\n",
    "    \"\"\"\n",
    "    Plots a given function in a specified x range.\n",
    "    \n",
    "    Args:\n",
    "        func (function): The function to be plotted.\n",
    "        x_range (tuple): The range of x values (start, end, num_points).\n",
    "        title (str, optional): The title of the plot. Defaults to \"Function Plot\".\n",
    "        xlabel (str, optional): The x-axis label. Defaults to \"x\".\n",
    "        ylabel (str, optional): The y-axis label. Defaults to \"y\".\n",
    "        y_limits (tuple, optional): The y-axis limits (min, max). Defaults to None.\n",
    "        figsize (tuple, optional): The size of the figure. Defaults to (12, 8).\n",
    "        label (str, optional): The label for the function curve. Defaults to None.\n",
    "    \"\"\"\n",
    "    \n",
    "    # Generate a range of x values\n",
    "    x_values = np.linspace(x_range[0], x_range[1], x_range[2])\n",
    "\n",
    "    # Calculate the corresponding y values using the function\n",
    "    y_values = np.array([func(x) for x in x_values])\n",
    "\n",
    "    # Create the plot\n",
    "    plt.figure(figsize=figsize)\n",
    "    plt.plot(x_values, y_values, label=label or f\"y = {func.__name__}(x)\")\n",
    "\n",
    "    # Set the y-axis limits if specified\n",
    "    if y_limits:\n",
    "        plt.ylim(y_limits)\n",
    "\n",
    "    # Set plot title and labels\n",
    "    plt.title(title)\n",
    "    plt.xlabel(xlabel)\n",
    "    plt.ylabel(ylabel)\n",
    "    plt.legend()\n",
    "\n",
    "    if logarithmic:\n",
    "        print(\"Log on\")\n",
    "        plt.yscale('log')\n",
    "    # Show the plot\n",
    "    plt.show()\n",
    "\n",
    "# Define the function to graph\n",
    "my_function = lambda x: enhanced_crit_modified(reg,x)\n",
    "\n",
    "# Use the plot_function function to plot my_function\n",
    "plot_function(my_function, x_range=(500, 6000, 50), title=\"Enhanced Critical Damage Multiplier\", y_limits=False, logarithmic=False, xlabel=\"Crit Chance\", ylabel=\"Damage Multiplier\", label=\"Coefficient of DPS increase from crit chance\")\n"
   ]
  },
  {
   "cell_type": "code",
   "execution_count": 69,
   "metadata": {},
   "outputs": [],
   "source": [
    "\n",
    "\n",
    "\n",
    "\n",
    "x_new = 5000\n",
    "y_pred = reg.predict([[x_new]])\n",
    "weights = np.array([1.25, 1.65, 2])\n",
    "result = np.dot(y_pred / 100, weights)"
   ]
  },
  {
   "cell_type": "code",
   "execution_count": 70,
   "metadata": {},
   "outputs": [
    {
     "data": {
      "image/png": "[encoded data removed]",
      "text/plain": [
       "<Figure size 1000x600 with 1 Axes>"
      ]
     },
     "metadata": {},
     "output_type": "display_data"
    },
    {
     "data": {
      "image/png": "[encoded data removed]",
      "text/plain": [
       "<Figure size 1000x600 with 1 Axes>"
      ]
     },
     "metadata": {},
     "output_type": "display_data"
    },
    {
     "data": {
      "image/png": "[encoded data removed]",
      "text/plain": [
       "<Figure size 1000x600 with 1 Axes>"
      ]
     },
     "metadata": {},
     "output_type": "display_data"
    }
   ],
   "source": [
    "import matplotlib.pyplot as plt\n",
    "import seaborn as sns\n",
    "\n",
    "def plot_linear_model(X, Y, model, title=\"Linear Model\"):\n",
    "    # Train the model\n",
    "    model.fit(X, Y)\n",
    "    \n",
    "    # Generate predictions and confidence interval\n",
    "    y_pred = model.predict(X)\n",
    "    y_std = Y.std()\n",
    "    y_upper = y_pred + y_std\n",
    "    y_lower = y_pred - y_std\n",
    "\n",
    "    # Create a scatter plot of the actual data\n",
    "    plt.figure(figsize=(10, 6))\n",
    "    sns.scatterplot(x=X.ravel(), y=Y, alpha=0.7, label=\"Actual Data\")\n",
    "\n",
    "    # Plot the linear model\n",
    "    plt.plot(X, y_pred, color='red', linewidth=2, label=\"Linear Model\")\n",
    "\n",
    "    # Plot the confidence interval\n",
    "    plt.fill_between(X.ravel(), y_lower.ravel(), y_upper.ravel(), color='gray', alpha=0.3, label=\"Confidence Interval\")\n",
    "\n",
    "    # Set plot title and labels\n",
    "    plt.title(title)\n",
    "    plt.xlabel(\"Crit Chance\")\n",
    "    plt.ylabel(\"Outcome\")\n",
    "    plt.legend()\n",
    "\n",
    "    # Show the plot\n",
    "    plt.show()\n",
    "\n",
    "# Use the defined function to create a visual for each outcome\n",
    "outcomes = [\"Legendary\", \"Fabled\", \"Mythical\"]\n",
    "\n",
    "for outcome in outcomes:\n",
    "    y = df[outcome]\n",
    "    plot_linear_model(X, y, LinearRegression(), title=f\"Linear Model for {outcome}\")\n"
   ]
  },
  {
   "cell_type": "code",
   "execution_count": 71,
   "metadata": {},
   "outputs": [
    {
     "data": {
      "image/png": "[encoded data removed]",
      "text/plain": [
       "<Figure size 1200x800 with 1 Axes>"
      ]
     },
     "metadata": {},
     "output_type": "display_data"
    },
    {
     "data": {
      "image/png": "[encoded data removed]",
      "text/plain": [
       "<Figure size 1200x800 with 1 Axes>"
      ]
     },
     "metadata": {},
     "output_type": "display_data"
    },
    {
     "data": {
      "image/png": "[encoded data removed]",
      "text/plain": [
       "<Figure size 1200x800 with 1 Axes>"
      ]
     },
     "metadata": {},
     "output_type": "display_data"
    }
   ],
   "source": [
    "def plot_linear_models(X, Y, models, colors, title=\"Linear Models\", xlabel=\"No label\", ylabel=\"No label\"):\n",
    "    plt.figure(figsize=(12, 8))\n",
    "\n",
    "    # Create a scatter plot of the actual data\n",
    "    sns.scatterplot(x=X.ravel(), y=Y, alpha=0.7, label=\"Actual Data\")\n",
    "\n",
    "    # Generate new X values for prediction beyond the dataset\n",
    "    X_new = np.linspace(X.min(), X.max() * 1.5, 200).reshape(-1, 1)\n",
    "\n",
    "    # Train each model and plot it\n",
    "    for model, color in zip(models, colors):\n",
    "        model.fit(X, Y)\n",
    "        y_pred = model.predict(X_new)\n",
    "\n",
    "        plt.plot(X_new, y_pred, linewidth=2, color=color, label=f\"{model.__class__.__name__}\")\n",
    "\n",
    "    # Set plot title and labels\n",
    "    plt.title(title)\n",
    "    plt.xlabel(xlabel)\n",
    "    plt.ylabel(ylabel)\n",
    "    plt.legend()\n",
    "\n",
    "    # Show the plot\n",
    "    plt.show()\n",
    "\n",
    "# Define the models and their colors\n",
    "models = [\n",
    "    LinearRegression(),\n",
    "    Ridge(),\n",
    "    Lasso(),\n",
    "    ElasticNet(),\n",
    "    RandomForestRegressor(),\n",
    "    MLPRegressor()\n",
    "]\n",
    "\n",
    "colors = [\"red\", \"blue\", \"green\", \"orange\", \"purple\", \"brown\"]\n",
    "\n",
    "# Use the defined function to create a visual for each outcome\n",
    "outcomes = [\"Legendary\", \"Fabled\", \"Mythical\"]\n",
    "\n",
    "for outcome in outcomes:\n",
    "    y = df[outcome]\n",
    "    plot_linear_models(X, y, models, colors, title=f\"Linear Models for {outcome}\", xlabel=\"Crit Chance\", ylabel=outcome)\n"
   ]
  },
  {
   "cell_type": "code",
   "execution_count": 72,
   "metadata": {},
   "outputs": [
    {
     "data": {
      "text/html": [
       "<div>\n",
       "<style scoped>\n",
       "    .dataframe tbody tr th:only-of-type {\n",
       "        vertical-align: middle;\n",
       "    }\n",
       "\n",
       "    .dataframe tbody tr th {\n",
       "        vertical-align: top;\n",
       "    }\n",
       "\n",
       "    .dataframe thead th {\n",
       "        text-align: right;\n",
       "    }\n",
       "</style>\n",
       "<table border=\"1\" class=\"dataframe\">\n",
       "  <thead>\n",
       "    <tr style=\"text-align: right;\">\n",
       "      <th></th>\n",
       "      <th>Crit Chance</th>\n",
       "      <th>Legendary</th>\n",
       "      <th>Fabled</th>\n",
       "      <th>Mythical</th>\n",
       "      <th>Normal</th>\n",
       "    </tr>\n",
       "  </thead>\n",
       "  <tbody>\n",
       "    <tr>\n",
       "      <th>0</th>\n",
       "      <td>946</td>\n",
       "      <td>6.2</td>\n",
       "      <td>1.9</td>\n",
       "      <td>0.10</td>\n",
       "      <td>91.80</td>\n",
       "    </tr>\n",
       "    <tr>\n",
       "      <th>1</th>\n",
       "      <td>1094</td>\n",
       "      <td>6.0</td>\n",
       "      <td>1.5</td>\n",
       "      <td>0.10</td>\n",
       "      <td>92.40</td>\n",
       "    </tr>\n",
       "    <tr>\n",
       "      <th>2</th>\n",
       "      <td>1094</td>\n",
       "      <td>6.3</td>\n",
       "      <td>2.1</td>\n",
       "      <td>0.20</td>\n",
       "      <td>91.40</td>\n",
       "    </tr>\n",
       "    <tr>\n",
       "      <th>3</th>\n",
       "      <td>1111</td>\n",
       "      <td>6.5</td>\n",
       "      <td>1.9</td>\n",
       "      <td>0.20</td>\n",
       "      <td>91.40</td>\n",
       "    </tr>\n",
       "    <tr>\n",
       "      <th>4</th>\n",
       "      <td>1111</td>\n",
       "      <td>6.2</td>\n",
       "      <td>2.8</td>\n",
       "      <td>0.30</td>\n",
       "      <td>90.70</td>\n",
       "    </tr>\n",
       "    <tr>\n",
       "      <th>5</th>\n",
       "      <td>1222</td>\n",
       "      <td>6.3</td>\n",
       "      <td>2.5</td>\n",
       "      <td>0.20</td>\n",
       "      <td>91.00</td>\n",
       "    </tr>\n",
       "    <tr>\n",
       "      <th>6</th>\n",
       "      <td>1270</td>\n",
       "      <td>6.5</td>\n",
       "      <td>2.7</td>\n",
       "      <td>0.30</td>\n",
       "      <td>90.50</td>\n",
       "    </tr>\n",
       "    <tr>\n",
       "      <th>7</th>\n",
       "      <td>1270</td>\n",
       "      <td>6.7</td>\n",
       "      <td>2.6</td>\n",
       "      <td>0.40</td>\n",
       "      <td>90.30</td>\n",
       "    </tr>\n",
       "    <tr>\n",
       "      <th>8</th>\n",
       "      <td>1386</td>\n",
       "      <td>6.5</td>\n",
       "      <td>2.9</td>\n",
       "      <td>0.40</td>\n",
       "      <td>90.20</td>\n",
       "    </tr>\n",
       "    <tr>\n",
       "      <th>9</th>\n",
       "      <td>1568</td>\n",
       "      <td>7.0</td>\n",
       "      <td>2.9</td>\n",
       "      <td>0.40</td>\n",
       "      <td>89.70</td>\n",
       "    </tr>\n",
       "    <tr>\n",
       "      <th>10</th>\n",
       "      <td>1568</td>\n",
       "      <td>6.7</td>\n",
       "      <td>2.9</td>\n",
       "      <td>0.40</td>\n",
       "      <td>90.00</td>\n",
       "    </tr>\n",
       "    <tr>\n",
       "      <th>11</th>\n",
       "      <td>1568</td>\n",
       "      <td>6.9</td>\n",
       "      <td>2.9</td>\n",
       "      <td>0.40</td>\n",
       "      <td>89.80</td>\n",
       "    </tr>\n",
       "    <tr>\n",
       "      <th>12</th>\n",
       "      <td>1586</td>\n",
       "      <td>7.0</td>\n",
       "      <td>3.0</td>\n",
       "      <td>0.50</td>\n",
       "      <td>89.50</td>\n",
       "    </tr>\n",
       "    <tr>\n",
       "      <th>13</th>\n",
       "      <td>100</td>\n",
       "      <td>1.0</td>\n",
       "      <td>0.0</td>\n",
       "      <td>0.00</td>\n",
       "      <td>99.00</td>\n",
       "    </tr>\n",
       "    <tr>\n",
       "      <th>14</th>\n",
       "      <td>500</td>\n",
       "      <td>3.5</td>\n",
       "      <td>1.0</td>\n",
       "      <td>0.00</td>\n",
       "      <td>95.50</td>\n",
       "    </tr>\n",
       "    <tr>\n",
       "      <th>15</th>\n",
       "      <td>700</td>\n",
       "      <td>5.0</td>\n",
       "      <td>1.3</td>\n",
       "      <td>0.05</td>\n",
       "      <td>93.65</td>\n",
       "    </tr>\n",
       "  </tbody>\n",
       "</table>\n",
       "</div>"
      ],
      "text/plain": [
       "    Crit Chance  Legendary  Fabled  Mythical  Normal\n",
       "0           946        6.2     1.9      0.10   91.80\n",
       "1          1094        6.0     1.5      0.10   92.40\n",
       "2          1094        6.3     2.1      0.20   91.40\n",
       "3          1111        6.5     1.9      0.20   91.40\n",
       "4          1111        6.2     2.8      0.30   90.70\n",
       "5          1222        6.3     2.5      0.20   91.00\n",
       "6          1270        6.5     2.7      0.30   90.50\n",
       "7          1270        6.7     2.6      0.40   90.30\n",
       "8          1386        6.5     2.9      0.40   90.20\n",
       "9          1568        7.0     2.9      0.40   89.70\n",
       "10         1568        6.7     2.9      0.40   90.00\n",
       "11         1568        6.9     2.9      0.40   89.80\n",
       "12         1586        7.0     3.0      0.50   89.50\n",
       "13          100        1.0     0.0      0.00   99.00\n",
       "14          500        3.5     1.0      0.00   95.50\n",
       "15          700        5.0     1.3      0.05   93.65"
      ]
     },
     "metadata": {},
     "output_type": "display_data"
    },
    {
     "data": {
      "image/png": "[encoded data removed]",
      "text/plain": [
       "<Figure size 1200x800 with 1 Axes>"
      ]
     },
     "metadata": {},
     "output_type": "display_data"
    }
   ],
   "source": [
    "import matplotlib.pyplot as plt\n",
    "import seaborn as sns\n",
    "\n",
    "def plot_stacked_linear_models(X, Y_list, Y_names, models, colors, title=\"Stacked Linear Models\", xlabel=\"Crit Chance\", ylabel=\"Outcomes\", log_scale=False):\n",
    "    plt.figure(figsize=(12, 8))\n",
    "\n",
    "    # Generate new X values for prediction beyond the dataset\n",
    "    X_new = np.linspace(0, 6000, 200).reshape(-1, 1)\n",
    "\n",
    "    # Train each model and plot it\n",
    "    for model in models:\n",
    "        for Y, Y_name, color in zip(Y_list, Y_names, colors):\n",
    "            model.fit(X, Y)\n",
    "            y_pred = model.predict(X_new)\n",
    "            # display(y_pred)\n",
    "            plt.plot(X_new, y_pred, linewidth=2, color=color, label=f\"{model.__class__.__name__} - {Y_name}\")\n",
    "\n",
    "    # Set plot title and labels\n",
    "    plt.title(title)\n",
    "    plt.xlabel(xlabel)\n",
    "    plt.ylabel(ylabel)\n",
    "    plt.legend()\n",
    "    if log_scale:\n",
    "        plt.yscale(\"log\")\n",
    "    # Show the plot\n",
    "    plt.show()\n",
    "\n",
    "\n",
    "\n",
    "# Define the models and their colors\n",
    "models = [\n",
    "    LinearRegression(),\n",
    "    # Ridge(),\n",
    "    # Lasso(),\n",
    "    # ElasticNet(),\n",
    "    # RandomForestRegressor(),\n",
    "    # MLPRegressor()\n",
    "]\n",
    "\n",
    "colors = [\"red\", \"blue\", \"green\", \"orange\", \"purple\", \"brown\"]\n",
    "\n",
    "# Use the defined function to create a visual for all outcomes\n",
    "temp_df = df\n",
    "\n",
    "#Add Normal crit column\n",
    "# temp_df['Normal'] = df.apply(lambda row : sum(row['Legendary'],\n",
    "#                      row['Fabled'], row['Mythical']), axis = 1)\n",
    "temp_df['Normal']=temp_df.apply(lambda x: 100-sum(x[['Legendary','Fabled','Mythical']]), axis=1)\n",
    "display(temp_df)\n",
    "outcomes = [\"Legendary\", \"Fabled\", \"Mythical\"]\n",
    "Y_list = [temp_df[outcome] for outcome in outcomes]\n",
    "# Y_list.append(\n",
    "#     [[outcome] for column in Y_list]\n",
    "# )\n",
    "# display(Y_list)\n",
    "plot_stacked_linear_models(X, Y_list, outcomes, models, colors, title=\"Stacked Linear Models for All Outcomes\", xlabel=\"Crit Chance\", ylabel=\"Outcomes\", log_scale=False)\n"
   ]
  },
  {
   "attachments": {},
   "cell_type": "markdown",
   "metadata": {},
   "source": [
    "### Attempting interactive graphs. WIP"
   ]
  },
  {
   "cell_type": "code",
   "execution_count": 79,
   "metadata": {},
   "outputs": [
    {
     "data": {
      "text/html": [
       "<style>\n",
       "        .bk-notebook-logo {\n",
       "            display: block;\n",
       "            width: 20px;\n",
       "            height: 20px;\n",
       "            background-image: url(data:image/png;base64,iVBORw0KGgoAAAANSUhEUgAAABQAAAAUCAYAAACNiR0NAAAABHNCSVQICAgIfAhkiAAAAAlwSFlzAAALEgAACxIB0t1+/AAAABx0RVh0U29mdHdhcmUAQWRvYmUgRmlyZXdvcmtzIENTNui8sowAAAOkSURBVDiNjZRtaJVlGMd/1/08zzln5zjP1LWcU9N0NkN8m2CYjpgQYQXqSs0I84OLIC0hkEKoPtiH3gmKoiJDU7QpLgoLjLIQCpEsNJ1vqUOdO7ppbuec5+V+rj4ctwzd8IIbbi6u+8f1539dt3A78eXC7QizUF7gyV1fD1Yqg4JWz84yffhm0qkFqBogB9rM8tZdtwVsPUhWhGcFJngGeWrPzHm5oaMmkfEg1usvLFyc8jLRqDOMru7AyC8saQr7GG7f5fvDeH7Ej8CM66nIF+8yngt6HWaKh7k49Soy9nXurCi1o3qUbS3zWfrYeQDTB/Qj6kX6Ybhw4B+bOYoLKCC9H3Nu/leUTZ1JdRWkkn2ldcCamzrcf47KKXdAJllSlxAOkRgyHsGC/zRday5Qld9DyoM4/q/rUoy/CXh3jzOu3bHUVZeU+DEn8FInkPBFlu3+nW3Nw0mk6vCDiWg8CeJaxEwuHS3+z5RgY+YBR6V1Z1nxSOfoaPa4LASWxxdNp+VWTk7+4vzaou8v8PN+xo+KY2xsw6une2frhw05CTYOmQvsEhjhWjn0bmXPjpE1+kplmmkP3suftwTubK9Vq22qKmrBhpY4jvd5afdRA3wGjFAgcnTK2s4hY0/GPNIb0nErGMCRxWOOX64Z8RAC4oCXdklmEvcL8o0BfkNK4lUg9HTl+oPlQxdNo3Mg4Nv175e/1LDGzZen30MEjRUtmXSfiTVu1kK8W4txyV6BMKlbgk3lMwYCiusNy9fVfvvwMxv8Ynl6vxoByANLTWplvuj/nF9m2+PDtt1eiHPBr1oIfhCChQMBw6Aw0UulqTKZdfVvfG7VcfIqLG9bcldL/+pdWTLxLUy8Qq38heUIjh4XlzZxzQm19lLFlr8vdQ97rjZVOLf8nclzckbcD4wxXMidpX30sFd37Fv/GtwwhzhxGVAprjbg0gCAEeIgwCZyTV2Z1REEW8O4py0wsjeloKoMr6iCY6dP92H6Vw/oTyICIthibxjm/DfN9lVz8IqtqKYLUXfoKVMVQVVJOElGjrnnUt9T9wbgp8AyYKaGlqingHZU/uG2NTZSVqwHQTWkx9hxjkpWDaCg6Ckj5qebgBVbT3V3NNXMSiWSDdGV3hrtzla7J+duwPOToIg42ChPQOQjspnSlp1V+Gjdged7+8UN5CRAV7a5EdFNwCjEaBR27b3W890TE7g24NAP/mMDXRWrGoFPQI9ls/MWO2dWFAar/xcOIImbbpA3zgAAAABJRU5ErkJggg==);\n",
       "        }\n",
       "    </style>\n",
       "    <div>\n",
       "        <a href=\"https://bokeh.org\" target=\"_blank\" class=\"bk-notebook-logo\"></a>\n",
       "        <span id=\"c148a81c-49fd-4d0e-bfbd-57a1dd672cd8\">Loading BokehJS ...</span>\n",
       "    </div>\n"
      ]
     },
     "metadata": {},
     "output_type": "display_data"
    },
    {
     "data": {
      "application/javascript": "(function(root) {\n  function now() {\n    return new Date();\n  }\n\n  const force = true;\n\n  if (typeof root._bokeh_onload_callbacks === \"undefined\" || force === true) {\n    root._bokeh_onload_callbacks = [];\n    root._bokeh_is_loading = undefined;\n  }\n\nconst JS_MIME_TYPE = 'application/javascript';\n  const HTML_MIME_TYPE = 'text/html';\n  const EXEC_MIME_TYPE = 'application/vnd.bokehjs_exec.v0+json';\n  const CLASS_NAME = 'output_bokeh rendered_html';\n\n  /**\n   * Render data to the DOM node\n   */\n  function render(props, node) {\n    const script = document.createElement(\"script\");\n    node.appendChild(script);\n  }\n\n  /**\n   * Handle when an output is cleared or removed\n   */\n  function handleClearOutput(event, handle) {\n    const cell = handle.cell;\n\n    const id = cell.output_area._bokeh_element_id;\n    const server_id = cell.output_area._bokeh_server_id;\n    // Clean up Bokeh references\n    if (id != null && id in Bokeh.index) {\n      Bokeh.index[id].model.document.clear();\n      delete Bokeh.index[id];\n    }\n\n    if (server_id !== undefined) {\n      // Clean up Bokeh references\n      const cmd_clean = \"from bokeh.io.state import curstate; print(curstate().uuid_to_server['\" + server_id + \"'].get_sessions()[0].document.roots[0]._id)\";\n      cell.notebook.kernel.execute(cmd_clean, {\n        iopub: {\n          output: function(msg) {\n            const id = msg.content.text.trim();\n            if (id in Bokeh.index) {\n              Bokeh.index[id].model.document.clear();\n              delete Bokeh.index[id];\n            }\n          }\n        }\n      });\n      // Destroy server and session\n      const cmd_destroy = \"import bokeh.io.notebook as ion; ion.destroy_server('\" + server_id + \"')\";\n      cell.notebook.kernel.execute(cmd_destroy);\n    }\n  }\n\n  /**\n   * Handle when a new output is added\n   */\n  function handleAddOutput(event, handle) {\n    const output_area = handle.output_area;\n    const output = handle.output;\n\n    // limit handleAddOutput to display_data with EXEC_MIME_TYPE content only\n    if ((output.output_type != \"display_data\") || (!Object.prototype.hasOwnProperty.call(output.data, EXEC_MIME_TYPE))) {\n      return\n    }\n\n    const toinsert = output_area.element.find(\".\" + CLASS_NAME.split(' ')[0]);\n\n    if (output.metadata[EXEC_MIME_TYPE][\"id\"] !== undefined) {\n      toinsert[toinsert.length - 1].firstChild.textContent = output.data[JS_MIME_TYPE];\n      // store reference to embed id on output_area\n      output_area._bokeh_element_id = output.metadata[EXEC_MIME_TYPE][\"id\"];\n    }\n    if (output.metadata[EXEC_MIME_TYPE][\"server_id\"] !== undefined) {\n      const bk_div = document.createElement(\"div\");\n      bk_div.innerHTML = output.data[HTML_MIME_TYPE];\n      const script_attrs = bk_div.children[0].attributes;\n      for (let i = 0; i < script_attrs.length; i++) {\n        toinsert[toinsert.length - 1].firstChild.setAttribute(script_attrs[i].name, script_attrs[i].value);\n        toinsert[toinsert.length - 1].firstChild.textContent = bk_div.children[0].textContent\n      }\n      // store reference to server id on output_area\n      output_area._bokeh_server_id = output.metadata[EXEC_MIME_TYPE][\"server_id\"];\n    }\n  }\n\n  function register_renderer(events, OutputArea) {\n\n    function append_mime(data, metadata, element) {\n      // create a DOM node to render to\n      const toinsert = this.create_output_subarea(\n        metadata,\n        CLASS_NAME,\n        EXEC_MIME_TYPE\n      );\n      this.keyboard_manager.register_events(toinsert);\n      // Render to node\n      const props = {data: data, metadata: metadata[EXEC_MIME_TYPE]};\n      render(props, toinsert[toinsert.length - 1]);\n      element.append(toinsert);\n      return toinsert\n    }\n\n    /* Handle when an output is cleared or removed */\n    events.on('clear_output.CodeCell', handleClearOutput);\n    events.on('delete.Cell', handleClearOutput);\n\n    /* Handle when a new output is added */\n    events.on('output_added.OutputArea', handleAddOutput);\n\n    /**\n     * Register the mime type and append_mime function with output_area\n     */\n    OutputArea.prototype.register_mime_type(EXEC_MIME_TYPE, append_mime, {\n      /* Is output safe? */\n      safe: true,\n      /* Index of renderer in `output_area.display_order` */\n      index: 0\n    });\n  }\n\n  // register the mime type if in Jupyter Notebook environment and previously unregistered\n  if (root.Jupyter !== undefined) {\n    const events = require('base/js/events');\n    const OutputArea = require('notebook/js/outputarea').OutputArea;\n\n    if (OutputArea.prototype.mime_types().indexOf(EXEC_MIME_TYPE) == -1) {\n      register_renderer(events, OutputArea);\n    }\n  }\n  if (typeof (root._bokeh_timeout) === \"undefined\" || force === true) {\n    root._bokeh_timeout = Date.now() + 5000;\n    root._bokeh_failed_load = false;\n  }\n\n  const NB_LOAD_WARNING = {'data': {'text/html':\n     \"<div style='background-color: #fdd'>\\n\"+\n     \"<p>\\n\"+\n     \"BokehJS does not appear to have successfully loaded. If loading BokehJS from CDN, this \\n\"+\n     \"may be due to a slow or bad network connection. Possible fixes:\\n\"+\n     \"</p>\\n\"+\n     \"<ul>\\n\"+\n     \"<li>re-rerun `output_notebook()` to attempt to load from CDN again, or</li>\\n\"+\n     \"<li>use INLINE resources instead, as so:</li>\\n\"+\n     \"</ul>\\n\"+\n     \"<code>\\n\"+\n     \"from bokeh.resources import INLINE\\n\"+\n     \"output_notebook(resources=INLINE)\\n\"+\n     \"</code>\\n\"+\n     \"</div>\"}};\n\n  function display_loaded() {\n    const el = document.getElementById(\"c148a81c-49fd-4d0e-bfbd-57a1dd672cd8\");\n    if (el != null) {\n      el.textContent = \"BokehJS is loading...\";\n    }\n    if (root.Bokeh !== undefined) {\n      if (el != null) {\n        el.textContent = \"BokehJS \" + root.Bokeh.version + \" successfully loaded.\";\n      }\n    } else if (Date.now() < root._bokeh_timeout) {\n      setTimeout(display_loaded, 100)\n    }\n  }\n\n  function run_callbacks() {\n    try {\n      root._bokeh_onload_callbacks.forEach(function(callback) {\n        if (callback != null)\n          callback();\n      });\n    } finally {\n      delete root._bokeh_onload_callbacks\n    }\n    console.debug(\"Bokeh: all callbacks have finished\");\n  }\n\n  function load_libs(css_urls, js_urls, callback) {\n    if (css_urls == null) css_urls = [];\n    if (js_urls == null) js_urls = [];\n\n    root._bokeh_onload_callbacks.push(callback);\n    if (root._bokeh_is_loading > 0) {\n      console.debug(\"Bokeh: BokehJS is being loaded, scheduling callback at\", now());\n      return null;\n    }\n    if (js_urls == null || js_urls.length === 0) {\n      run_callbacks();\n      return null;\n    }\n    console.debug(\"Bokeh: BokehJS not loaded, scheduling load and callback at\", now());\n    root._bokeh_is_loading = css_urls.length + js_urls.length;\n\n    function on_load() {\n      root._bokeh_is_loading--;\n      if (root._bokeh_is_loading === 0) {\n        console.debug(\"Bokeh: all BokehJS libraries/stylesheets loaded\");\n        run_callbacks()\n      }\n    }\n\n    function on_error(url) {\n      console.error(\"failed to load \" + url);\n    }\n\n    for (let i = 0; i < css_urls.length; i++) {\n      const url = css_urls[i];\n      const element = document.createElement(\"link\");\n      element.onload = on_load;\n      element.onerror = on_error.bind(null, url);\n      element.rel = \"stylesheet\";\n      element.type = \"text/css\";\n      element.href = url;\n      console.debug(\"Bokeh: injecting link tag for BokehJS stylesheet: \", url);\n      document.body.appendChild(element);\n    }\n\n    for (let i = 0; i < js_urls.length; i++) {\n      const url = js_urls[i];\n      const element = document.createElement('script');\n      element.onload = on_load;\n      element.onerror = on_error.bind(null, url);\n      element.async = false;\n      element.src = url;\n      console.debug(\"Bokeh: injecting script tag for BokehJS library: \", url);\n      document.head.appendChild(element);\n    }\n  };\n\n  function inject_raw_css(css) {\n    const element = document.createElement(\"style\");\n    element.appendChild(document.createTextNode(css));\n    document.body.appendChild(element);\n  }\n\n  const js_urls = [\"https://cdn.bokeh.org/bokeh/release/bokeh-3.1.1.min.js\", \"https://cdn.bokeh.org/bokeh/release/bokeh-gl-3.1.1.min.js\", \"https://cdn.bokeh.org/bokeh/release/bokeh-widgets-3.1.1.min.js\", \"https://cdn.bokeh.org/bokeh/release/bokeh-tables-3.1.1.min.js\", \"https://cdn.bokeh.org/bokeh/release/bokeh-mathjax-3.1.1.min.js\"];\n  const css_urls = [];\n\n  const inline_js = [    function(Bokeh) {\n      Bokeh.set_log_level(\"info\");\n    },\nfunction(Bokeh) {\n    }\n  ];\n\n  function run_inline_js() {\n    if (root.Bokeh !== undefined || force === true) {\n          for (let i = 0; i < inline_js.length; i++) {\n      inline_js[i].call(root, root.Bokeh);\n    }\nif (force === true) {\n        display_loaded();\n      }} else if (Date.now() < root._bokeh_timeout) {\n      setTimeout(run_inline_js, 100);\n    } else if (!root._bokeh_failed_load) {\n      console.log(\"Bokeh: BokehJS failed to load within specified timeout.\");\n      root._bokeh_failed_load = true;\n    } else if (force !== true) {\n      const cell = $(document.getElementById(\"c148a81c-49fd-4d0e-bfbd-57a1dd672cd8\")).parents('.cell').data().cell;\n      cell.output_area.append_execute_result(NB_LOAD_WARNING)\n    }\n  }\n\n  if (root._bokeh_is_loading === 0) {\n    console.debug(\"Bokeh: BokehJS loaded, going straight to plotting\");\n    run_inline_js();\n  } else {\n    load_libs(css_urls, js_urls, function() {\n      console.debug(\"Bokeh: BokehJS plotting callback run at\", now());\n      run_inline_js();\n    });\n  }\n}(window));",
      "application/vnd.bokehjs_load.v0+json": ""
     },
     "metadata": {},
     "output_type": "display_data"
    },
    {
     "data": {
      "text/html": [
       "\n",
       "  <div id=\"cdb0da4f-3291-4dfd-8357-cfbcd0030cee\" data-root-id=\"p3155\" style=\"display: contents;\"></div>\n"
      ]
     },
     "metadata": {},
     "output_type": "display_data"
    },
    {
     "data": {
      "application/javascript": "(function(root) {\n  function embed_document(root) {\n  const docs_json = {\"45571884-fda3-4c91-9c30-c23c030ec4ed\":{\"version\":\"3.1.1\",\"title\":\"Bokeh Application\",\"defs\":[],\"roots\":[{\"type\":\"object\",\"name\":\"Figure\",\"id\":\"p3155\",\"attributes\":{\"width\":800,\"height\":400,\"x_range\":{\"type\":\"object\",\"name\":\"DataRange1d\",\"id\":\"p3156\"},\"y_range\":{\"type\":\"object\",\"name\":\"DataRange1d\",\"id\":\"p3157\"},\"x_scale\":{\"type\":\"object\",\"name\":\"LinearScale\",\"id\":\"p3169\"},\"y_scale\":{\"type\":\"object\",\"name\":\"LinearScale\",\"id\":\"p3171\"},\"title\":{\"type\":\"object\",\"name\":\"Title\",\"id\":\"p3158\",\"attributes\":{\"text\":\"Stacked Linear Models for All Outcomes\"}},\"renderers\":[{\"type\":\"object\",\"name\":\"GlyphRenderer\",\"id\":\"p3208\",\"attributes\":{\"data_source\":{\"type\":\"object\",\"name\":\"ColumnDataSource\",\"id\":\"p3202\",\"attributes\":{\"selected\":{\"type\":\"object\",\"name\":\"Selection\",\"id\":\"p3203\",\"attributes\":{\"indices\":[],\"line_indices\":[]}},\"selection_policy\":{\"type\":\"object\",\"name\":\"UnionRenderers\",\"id\":\"p3204\"},\"data\":{\"type\":\"map\",\"entries\":[[\"x\",{\"type\":\"ndarray\",\"array\":{\"type\":\"bytes\",\"data\":\"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\"},\"shape\":[200],\"dtype\":\"float64\",\"order\":\"little\"}],[\"y\",{\"type\":\"ndarray\",\"array\":{\"type\":\"bytes\",\"data\":\"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\"},\"shape\":[200],\"dtype\":\"float64\",\"order\":\"little\"}]]}}},\"view\":{\"type\":\"object\",\"name\":\"CDSView\",\"id\":\"p3209\",\"attributes\":{\"filter\":{\"type\":\"object\",\"name\":\"AllIndices\",\"id\":\"p3210\"}}},\"glyph\":{\"type\":\"object\",\"name\":\"Line\",\"id\":\"p3205\",\"attributes\":{\"x\":{\"type\":\"field\",\"field\":\"x\"},\"y\":{\"type\":\"field\",\"field\":\"y\"},\"line_color\":\"orangered\"}},\"nonselection_glyph\":{\"type\":\"object\",\"name\":\"Line\",\"id\":\"p3206\",\"attributes\":{\"x\":{\"type\":\"field\",\"field\":\"x\"},\"y\":{\"type\":\"field\",\"field\":\"y\"},\"line_color\":\"orangered\",\"line_alpha\":0.1}},\"muted_glyph\":{\"type\":\"object\",\"name\":\"Line\",\"id\":\"p3207\",\"attributes\":{\"x\":{\"type\":\"field\",\"field\":\"x\"},\"y\":{\"type\":\"field\",\"field\":\"y\"},\"line_color\":\"orangered\",\"line_alpha\":0.2}}}},{\"type\":\"object\",\"name\":\"GlyphRenderer\",\"id\":\"p3219\",\"attributes\":{\"data_source\":{\"type\":\"object\",\"name\":\"ColumnDataSource\",\"id\":\"p3213\",\"attributes\":{\"selected\":{\"type\":\"object\",\"name\":\"Selection\",\"id\":\"p3214\",\"attributes\":{\"indices\":[],\"line_indices\":[]}},\"selection_policy\":{\"type\":\"object\",\"name\":\"UnionRenderers\",\"id\":\"p3215\"},\"data\":{\"type\":\"map\",\"entries\":[[\"x\",{\"type\":\"ndarray\",\"array\":{\"type\":\"bytes\",\"data\":\"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\"},\"shape\":[200],\"dtype\":\"float64\",\"order\":\"little\"}],[\"y\",{\"type\":\"ndarray\",\"array\":{\"type\":\"bytes\",\"data\":\"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\"},\"shape\":[200],\"dtype\":\"float64\",\"order\":\"little\"}]]}}},\"view\":{\"type\":\"object\",\"name\":\"CDSView\",\"id\":\"p3220\",\"attributes\":{\"filter\":{\"type\":\"object\",\"name\":\"AllIndices\",\"id\":\"p3221\"}}},\"glyph\":{\"type\":\"object\",\"name\":\"Line\",\"id\":\"p3216\",\"attributes\":{\"x\":{\"type\":\"field\",\"field\":\"x\"},\"y\":{\"type\":\"field\",\"field\":\"y\"},\"line_color\":\"purple\"}},\"nonselection_glyph\":{\"type\":\"object\",\"name\":\"Line\",\"id\":\"p3217\",\"attributes\":{\"x\":{\"type\":\"field\",\"field\":\"x\"},\"y\":{\"type\":\"field\",\"field\":\"y\"},\"line_color\":\"purple\",\"line_alpha\":0.1}},\"muted_glyph\":{\"type\":\"object\",\"name\":\"Line\",\"id\":\"p3218\",\"attributes\":{\"x\":{\"type\":\"field\",\"field\":\"x\"},\"y\":{\"type\":\"field\",\"field\":\"y\"},\"line_color\":\"purple\",\"line_alpha\":0.2}}}},{\"type\":\"object\",\"name\":\"GlyphRenderer\",\"id\":\"p3229\",\"attributes\":{\"data_source\":{\"type\":\"object\",\"name\":\"ColumnDataSource\",\"id\":\"p3223\",\"attributes\":{\"selected\":{\"type\":\"object\",\"name\":\"Selection\",\"id\":\"p3224\",\"attributes\":{\"indices\":[],\"line_indices\":[]}},\"selection_policy\":{\"type\":\"object\",\"name\":\"UnionRenderers\",\"id\":\"p3225\"},\"data\":{\"type\":\"map\",\"entries\":[[\"x\",{\"type\":\"ndarray\",\"array\":{\"type\":\"bytes\",\"data\":\"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\"},\"shape\":[200],\"dtype\":\"float64\",\"order\":\"little\"}],[\"y\",{\"type\":\"ndarray\",\"array\":{\"type\":\"bytes\",\"data\":\"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\"},\"shape\":[200],\"dtype\":\"float64\",\"order\":\"little\"}]]}}},\"view\":{\"type\":\"object\",\"name\":\"CDSView\",\"id\":\"p3230\",\"attributes\":{\"filter\":{\"type\":\"object\",\"name\":\"AllIndices\",\"id\":\"p3231\"}}},\"glyph\":{\"type\":\"object\",\"name\":\"Line\",\"id\":\"p3226\",\"attributes\":{\"x\":{\"type\":\"field\",\"field\":\"x\"},\"y\":{\"type\":\"field\",\"field\":\"y\"},\"line_color\":\"red\"}},\"nonselection_glyph\":{\"type\":\"object\",\"name\":\"Line\",\"id\":\"p3227\",\"attributes\":{\"x\":{\"type\":\"field\",\"field\":\"x\"},\"y\":{\"type\":\"field\",\"field\":\"y\"},\"line_color\":\"red\",\"line_alpha\":0.1}},\"muted_glyph\":{\"type\":\"object\",\"name\":\"Line\",\"id\":\"p3228\",\"attributes\":{\"x\":{\"type\":\"field\",\"field\":\"x\"},\"y\":{\"type\":\"field\",\"field\":\"y\"},\"line_color\":\"red\",\"line_alpha\":0.2}}}}],\"toolbar\":{\"type\":\"object\",\"name\":\"Toolbar\",\"id\":\"p3163\",\"attributes\":{\"tools\":[{\"type\":\"object\",\"name\":\"PanTool\",\"id\":\"p3187\"},{\"type\":\"object\",\"name\":\"WheelZoomTool\",\"id\":\"p3188\"},{\"type\":\"object\",\"name\":\"BoxZoomTool\",\"id\":\"p3189\",\"attributes\":{\"overlay\":{\"type\":\"object\",\"name\":\"BoxAnnotation\",\"id\":\"p3190\",\"attributes\":{\"syncable\":false,\"level\":\"overlay\",\"visible\":false,\"left_units\":\"canvas\",\"right_units\":\"canvas\",\"bottom_units\":\"canvas\",\"top_units\":\"canvas\",\"line_color\":\"black\",\"line_alpha\":1.0,\"line_width\":2,\"line_dash\":[4,4],\"fill_color\":\"lightgrey\",\"fill_alpha\":0.5}}}},{\"type\":\"object\",\"name\":\"SaveTool\",\"id\":\"p3191\"},{\"type\":\"object\",\"name\":\"ResetTool\",\"id\":\"p3192\"},{\"type\":\"object\",\"name\":\"HelpTool\",\"id\":\"p3193\"}]}},\"left\":[{\"type\":\"object\",\"name\":\"LinearAxis\",\"id\":\"p3180\",\"attributes\":{\"ticker\":{\"type\":\"object\",\"name\":\"BasicTicker\",\"id\":\"p3182\",\"attributes\":{\"mantissas\":[1,2,5]}},\"formatter\":{\"type\":\"object\",\"name\":\"BasicTickFormatter\",\"id\":\"p3183\"},\"axis_label\":\"Outcomes\",\"major_label_policy\":{\"type\":\"object\",\"name\":\"AllLabels\",\"id\":\"p3181\"}}}],\"below\":[{\"type\":\"object\",\"name\":\"LinearAxis\",\"id\":\"p3173\",\"attributes\":{\"ticker\":{\"type\":\"object\",\"name\":\"BasicTicker\",\"id\":\"p3175\",\"attributes\":{\"mantissas\":[1,2,5]}},\"formatter\":{\"type\":\"object\",\"name\":\"BasicTickFormatter\",\"id\":\"p3176\"},\"axis_label\":\"Crit Chance\",\"major_label_policy\":{\"type\":\"object\",\"name\":\"AllLabels\",\"id\":\"p3174\"}}}],\"center\":[{\"type\":\"object\",\"name\":\"Grid\",\"id\":\"p3179\",\"attributes\":{\"axis\":{\"id\":\"p3173\"}}},{\"type\":\"object\",\"name\":\"Grid\",\"id\":\"p3186\",\"attributes\":{\"dimension\":1,\"axis\":{\"id\":\"p3180\"}}},{\"type\":\"object\",\"name\":\"Legend\",\"id\":\"p3211\",\"attributes\":{\"location\":\"top_left\",\"click_policy\":\"mute\",\"items\":[{\"type\":\"object\",\"name\":\"LegendItem\",\"id\":\"p3212\",\"attributes\":{\"label\":{\"type\":\"value\",\"value\":\"LinearRegression - Legendary\"},\"renderers\":[{\"id\":\"p3208\"}]}},{\"type\":\"object\",\"name\":\"LegendItem\",\"id\":\"p3222\",\"attributes\":{\"label\":{\"type\":\"value\",\"value\":\"LinearRegression - Fabled\"},\"renderers\":[{\"id\":\"p3219\"}]}},{\"type\":\"object\",\"name\":\"LegendItem\",\"id\":\"p3232\",\"attributes\":{\"label\":{\"type\":\"value\",\"value\":\"LinearRegression - Mythical\"},\"renderers\":[{\"id\":\"p3229\"}]}}]}}]}}],\"callbacks\":{\"type\":\"map\"}}};\n  const render_items = [{\"docid\":\"45571884-fda3-4c91-9c30-c23c030ec4ed\",\"roots\":{\"p3155\":\"cdb0da4f-3291-4dfd-8357-cfbcd0030cee\"},\"root_ids\":[\"p3155\"]}];\n  root.Bokeh.embed.embed_items_notebook(docs_json, render_items);\n  }\n  if (root.Bokeh !== undefined) {\n    embed_document(root);\n  } else {\n    let attempts = 0;\n    const timer = setInterval(function(root) {\n      if (root.Bokeh !== undefined) {\n        clearInterval(timer);\n        embed_document(root);\n      } else {\n        attempts++;\n        if (attempts > 100) {\n          clearInterval(timer);\n          console.log(\"Bokeh: ERROR: Unable to run BokehJS code because BokehJS library is missing\");\n        }\n      }\n    }, 10, root)\n  }\n})(window);",
      "application/vnd.bokehjs_exec.v0+json": ""
     },
     "metadata": {
      "application/vnd.bokehjs_exec.v0+json": {
       "id": "p3155"
      }
     },
     "output_type": "display_data"
    }
   ],
   "source": [
    "from bokeh.plotting import figure, show, output_notebook\n",
    "from bokeh.layouts import gridplot\n",
    "from bokeh.models import ColumnDataSource, Legend, LegendItem\n",
    "\n",
    "output_notebook()\n",
    "\n",
    "def plot_stacked_linear_models_bokeh(X, Y_list, Y_names, models, colors, title=\"Stacked Linear Models\", xlabel=\"Crit Chance\", ylabel=\"Outcomes\", log_scale=False):\n",
    "    # Generate new X values for prediction beyond the dataset\n",
    "    X_new = np.linspace(0, 6000, 200).reshape(-1, 1)\n",
    "\n",
    "    # Create an empty list to store traces\n",
    "    traces = []\n",
    "\n",
    "    # Train each model and add the traces to the list\n",
    "    for model in models:\n",
    "        for Y, Y_name, color in zip(Y_list, Y_names, colors):\n",
    "            model.fit(X, Y)\n",
    "            y_pred = model.predict(X_new)\n",
    "            trace = {\"x\": X_new.reshape(-1), \"y\": y_pred.reshape(-1), \"name\": f\"{model.__class__.__name__} - {Y_name}\", \"color\": color}\n",
    "            traces.append(trace)\n",
    "\n",
    "    # Create the figure\n",
    "    p = figure(title=title, x_axis_label=xlabel, y_axis_label=ylabel, width=800, height=400)\n",
    "\n",
    "    # Add traces to the figure\n",
    "    for trace in traces:\n",
    "        r = p.line(x=trace[\"x\"], y=trace[\"y\"], line_color=trace[\"color\"], legend_label=trace[\"name\"], muted_color=trace[\"color\"], muted_alpha=0.2)\n",
    "\n",
    "    # Set plot title and labels\n",
    "    p.legend.location = \"top_left\"\n",
    "    p.legend.click_policy=\"mute\"\n",
    "\n",
    "    # Show the plot\n",
    "    show(p)\n",
    "\n",
    "# Define the models and their colors\n",
    "models = [\n",
    "    LinearRegression(),\n",
    "]\n",
    "\n",
    "colors = [\"orangered\",\"purple\", \"red\", \"blue\", \"green\", \"orange\", \"purple\", \"brown\"]\n",
    "\n",
    "# Use the defined function to create a visual for all outcomes\n",
    "temp_df = df\n",
    "\n",
    "# Add Normal crit column\n",
    "temp_df['Normal'] = temp_df.apply(lambda x: 100 - sum(x[['Legendary', 'Fabled', 'Mythical']]), axis=1)\n",
    "outcomes = [\"Legendary\", \"Fabled\", \"Mythical\"]\n",
    "Y_list = [temp_df[outcome] for outcome in outcomes]\n",
    "\n",
    "plot_stacked_linear_models_bokeh(X, Y_list, outcomes, models, colors, title=\"Stacked Linear Models for All Outcomes\", xlabel=\"Crit Chance\", ylabel=\"Outcomes\", log_scale=False)\n"
   ]
  },
  {
   "cell_type": "code",
   "execution_count": 74,
   "metadata": {},
   "outputs": [
    {
     "data": {
      "application/vnd.plotly.v1+json": {
       "config": {
        "plotlyServerURL": "https://plot.ly"
       },
       "data": [
        {
         "line": {
          "color": "red"
         },
         "mode": "lines",
         "name": "LinearRegression - Legendary",
         "type": "scatter",
         "x": [
          0,
          30.150753768844222,
          60.301507537688444,
          90.45226130653266,
          120.60301507537689,
          150.7537688442211,
          180.90452261306532,
          211.05527638190955,
          241.20603015075378,
          271.356783919598,
          301.5075376884422,
          331.65829145728645,
          361.80904522613065,
          391.9597989949749,
          422.1105527638191,
          452.26130653266335,
          482.41206030150755,
          512.5628140703518,
          542.713567839196,
          572.8643216080402,
          603.0150753768844,
          633.1658291457287,
          663.3165829145729,
          693.4673366834171,
          723.6180904522613,
          753.7688442211055,
          783.9195979899498,
          814.070351758794,
          844.2211055276382,
          874.3718592964824,
          904.5226130653267,
          934.6733668341709,
          964.8241206030151,
          994.9748743718593,
          1025.1256281407036,
          1055.2763819095478,
          1085.427135678392,
          1115.5778894472362,
          1145.7286432160804,
          1175.8793969849246,
          1206.0301507537688,
          1236.180904522613,
          1266.3316582914574,
          1296.4824120603016,
          1326.6331658291458,
          1356.78391959799,
          1386.9346733668342,
          1417.0854271356784,
          1447.2361809045226,
          1477.3869346733668,
          1507.537688442211,
          1537.6884422110554,
          1567.8391959798996,
          1597.9899497487438,
          1628.140703517588,
          1658.2914572864322,
          1688.4422110552764,
          1718.5929648241206,
          1748.7437185929648,
          1778.894472361809,
          1809.0452261306534,
          1839.1959798994976,
          1869.3467336683418,
          1899.497487437186,
          1929.6482412060302,
          1959.7989949748744,
          1989.9497487437186,
          2020.1005025125628,
          2050.251256281407,
          2080.402010050251,
          2110.5527638190956,
          2140.7035175879396,
          2170.854271356784,
          2201.005025125628,
          2231.1557788944724,
          2261.306532663317,
          2291.457286432161,
          2321.608040201005,
          2351.758793969849,
          2381.9095477386936,
          2412.0603015075376,
          2442.211055276382,
          2472.361809045226,
          2502.5125628140704,
          2532.663316582915,
          2562.814070351759,
          2592.964824120603,
          2623.115577889447,
          2653.2663316582916,
          2683.4170854271356,
          2713.56783919598,
          2743.718592964824,
          2773.8693467336684,
          2804.020100502513,
          2834.170854271357,
          2864.321608040201,
          2894.472361809045,
          2924.6231155778896,
          2954.7738693467336,
          2984.924623115578,
          3015.075376884422,
          3045.2261306532664,
          3075.376884422111,
          3105.527638190955,
          3135.6783919597992,
          3165.829145728643,
          3195.9798994974876,
          3226.1306532663316,
          3256.281407035176,
          3286.43216080402,
          3316.5829145728644,
          3346.733668341709,
          3376.884422110553,
          3407.0351758793972,
          3437.185929648241,
          3467.3366834170856,
          3497.4874371859296,
          3527.638190954774,
          3557.788944723618,
          3587.9396984924624,
          3618.090452261307,
          3648.241206030151,
          3678.3919597989952,
          3708.542713567839,
          3738.6934673366836,
          3768.8442211055276,
          3798.994974874372,
          3829.145728643216,
          3859.2964824120604,
          3889.447236180905,
          3919.597989949749,
          3949.7487437185932,
          3979.899497487437,
          4010.0502512562816,
          4040.2010050251256,
          4070.35175879397,
          4100.502512562814,
          4130.653266331658,
          4160.804020100502,
          4190.954773869347,
          4221.105527638191,
          4251.256281407035,
          4281.407035175879,
          4311.557788944724,
          4341.708542713568,
          4371.859296482412,
          4402.010050251256,
          4432.160804020101,
          4462.311557788945,
          4492.462311557789,
          4522.613065326634,
          4552.763819095478,
          4582.914572864322,
          4613.065326633166,
          4643.21608040201,
          4673.366834170854,
          4703.517587939698,
          4733.668341708543,
          4763.819095477387,
          4793.969849246231,
          4824.120603015075,
          4854.27135678392,
          4884.422110552764,
          4914.572864321608,
          4944.723618090452,
          4974.874371859297,
          5005.025125628141,
          5035.175879396985,
          5065.32663316583,
          5095.477386934674,
          5125.628140703518,
          5155.778894472362,
          5185.929648241206,
          5216.08040201005,
          5246.231155778894,
          5276.381909547739,
          5306.532663316583,
          5336.683417085427,
          5366.834170854271,
          5396.984924623116,
          5427.13567839196,
          5457.286432160804,
          5487.437185929648,
          5517.587939698493,
          5547.738693467337,
          5577.889447236181,
          5608.040201005026,
          5638.19095477387,
          5668.341708542714,
          5698.492462311558,
          5728.643216080402,
          5758.793969849246,
          5788.94472361809,
          5819.095477386935,
          5849.246231155779,
          5879.396984924623,
          5909.547738693467,
          5939.698492462312,
          5969.849246231156,
          6000
         ],
         "y": [
          1.93737847370631,
          2.042861028106529,
          2.1483435825067474,
          2.2538261369069663,
          2.3593086913071852,
          2.4647912457074037,
          2.5702738001076226,
          2.6757563545078416,
          2.7812389089080605,
          2.8867214633082794,
          2.992204017708498,
          3.097686572108717,
          3.2031691265089357,
          3.308651680909154,
          3.414134235309373,
          3.519616789709592,
          3.6250993441098105,
          3.73058189851003,
          3.8360644529102483,
          3.9415470073104673,
          4.047029561710685,
          4.1525121161109055,
          4.257994670511124,
          4.3634772249113425,
          4.468959779311561,
          4.574442333711779,
          4.679924888111999,
          4.785407442512218,
          4.890889996912437,
          4.996372551312655,
          5.101855105712874,
          5.207337660113093,
          5.312820214513311,
          5.418302768913531,
          5.523785323313749,
          5.629267877713968,
          5.734750432114187,
          5.840232986514406,
          5.945715540914625,
          6.051198095314843,
          6.156680649715062,
          6.26216320411528,
          6.367645758515501,
          6.473128312915719,
          6.578610867315938,
          6.684093421716156,
          6.7895759761163745,
          6.895058530516593,
          7.0005410849168115,
          7.106023639317032,
          7.21150619371725,
          7.316988748117469,
          7.422471302517687,
          7.527953856917907,
          7.633436411318126,
          7.738918965718344,
          7.844401520118563,
          7.949884074518781,
          8.055366628919,
          8.160849183319218,
          8.266331737719439,
          8.371814292119657,
          8.477296846519875,
          8.582779400920094,
          8.688261955320312,
          8.793744509720533,
          8.899227064120751,
          9.00470961852097,
          9.110192172921188,
          9.215674727321407,
          9.321157281721627,
          9.426639836121844,
          9.532122390522064,
          9.637604944922282,
          9.7430874993225,
          9.848570053722721,
          9.95405260812294,
          10.059535162523158,
          10.165017716923376,
          10.270500271323597,
          10.375982825723813,
          10.481465380124034,
          10.586947934524252,
          10.69243048892447,
          10.79791304332469,
          10.903395597724908,
          11.008878152125128,
          11.114360706525346,
          11.219843260925565,
          11.325325815325783,
          11.430808369726003,
          11.53629092412622,
          11.64177347852644,
          11.747256032926659,
          11.852738587326877,
          11.958221141727098,
          12.063703696127314,
          12.169186250527535,
          12.274668804927753,
          12.380151359327972,
          12.48563391372819,
          12.59111646812841,
          12.696599022528629,
          12.802081576928847,
          12.907564131329066,
          13.013046685729284,
          13.118529240129504,
          13.224011794529721,
          13.329494348929941,
          13.43497690333016,
          13.540459457730378,
          13.645942012130599,
          13.751424566530815,
          13.856907120931035,
          13.962389675331254,
          14.067872229731472,
          14.173354784131691,
          14.278837338531911,
          14.384319892932128,
          14.489802447332348,
          14.595285001732567,
          14.700767556132785,
          14.806250110533005,
          14.911732664933222,
          15.017215219333442,
          15.12269777373366,
          15.22818032813388,
          15.333662882534098,
          15.439145436934316,
          15.544627991334536,
          15.650110545734755,
          15.755593100134973,
          15.861075654535192,
          15.966558208935412,
          16.07204076333563,
          16.177523317735847,
          16.283005872136066,
          16.388488426536284,
          16.493970980936503,
          16.599453535336725,
          16.704936089736943,
          16.81041864413716,
          16.915901198537377,
          17.0213837529376,
          17.126866307337817,
          17.232348861738036,
          17.337831416138254,
          17.443313970538473,
          17.54879652493869,
          17.65427907933891,
          17.75976163373913,
          17.86524418813935,
          17.97072674253957,
          18.076209296939787,
          18.181691851340005,
          18.287174405740224,
          18.392656960140442,
          18.498139514540664,
          18.603622068940883,
          18.709104623341098,
          18.814587177741316,
          18.92006973214154,
          19.025552286541757,
          19.131034840941975,
          19.236517395342194,
          19.341999949742412,
          19.44748250414263,
          19.55296505854285,
          19.65844761294307,
          19.76393016734329,
          19.869412721743505,
          19.974895276143723,
          20.080377830543945,
          20.185860384944164,
          20.291342939344382,
          20.3968254937446,
          20.50230804814482,
          20.607790602545037,
          20.713273156945256,
          20.818755711345478,
          20.924238265745696,
          21.02972082014591,
          21.13520337454613,
          21.240685928946352,
          21.34616848334657,
          21.45165103774679,
          21.557133592147007,
          21.662616146547226,
          21.768098700947444,
          21.873581255347663,
          21.979063809747885,
          22.084546364148103,
          22.190028918548318,
          22.29551147294854,
          22.40099402734876,
          22.506476581748977,
          22.611959136149196,
          22.717441690549414,
          22.822924244949633,
          22.92840679934985
         ]
        },
        {
         "line": {
          "color": "blue"
         },
         "mode": "lines",
         "name": "LinearRegression - Fabled",
         "type": "scatter",
         "x": [
          0,
          30.150753768844222,
          60.301507537688444,
          90.45226130653266,
          120.60301507537689,
          150.7537688442211,
          180.90452261306532,
          211.05527638190955,
          241.20603015075378,
          271.356783919598,
          301.5075376884422,
          331.65829145728645,
          361.80904522613065,
          391.9597989949749,
          422.1105527638191,
          452.26130653266335,
          482.41206030150755,
          512.5628140703518,
          542.713567839196,
          572.8643216080402,
          603.0150753768844,
          633.1658291457287,
          663.3165829145729,
          693.4673366834171,
          723.6180904522613,
          753.7688442211055,
          783.9195979899498,
          814.070351758794,
          844.2211055276382,
          874.3718592964824,
          904.5226130653267,
          934.6733668341709,
          964.8241206030151,
          994.9748743718593,
          1025.1256281407036,
          1055.2763819095478,
          1085.427135678392,
          1115.5778894472362,
          1145.7286432160804,
          1175.8793969849246,
          1206.0301507537688,
          1236.180904522613,
          1266.3316582914574,
          1296.4824120603016,
          1326.6331658291458,
          1356.78391959799,
          1386.9346733668342,
          1417.0854271356784,
          1447.2361809045226,
          1477.3869346733668,
          1507.537688442211,
          1537.6884422110554,
          1567.8391959798996,
          1597.9899497487438,
          1628.140703517588,
          1658.2914572864322,
          1688.4422110552764,
          1718.5929648241206,
          1748.7437185929648,
          1778.894472361809,
          1809.0452261306534,
          1839.1959798994976,
          1869.3467336683418,
          1899.497487437186,
          1929.6482412060302,
          1959.7989949748744,
          1989.9497487437186,
          2020.1005025125628,
          2050.251256281407,
          2080.402010050251,
          2110.5527638190956,
          2140.7035175879396,
          2170.854271356784,
          2201.005025125628,
          2231.1557788944724,
          2261.306532663317,
          2291.457286432161,
          2321.608040201005,
          2351.758793969849,
          2381.9095477386936,
          2412.0603015075376,
          2442.211055276382,
          2472.361809045226,
          2502.5125628140704,
          2532.663316582915,
          2562.814070351759,
          2592.964824120603,
          2623.115577889447,
          2653.2663316582916,
          2683.4170854271356,
          2713.56783919598,
          2743.718592964824,
          2773.8693467336684,
          2804.020100502513,
          2834.170854271357,
          2864.321608040201,
          2894.472361809045,
          2924.6231155778896,
          2954.7738693467336,
          2984.924623115578,
          3015.075376884422,
          3045.2261306532664,
          3075.376884422111,
          3105.527638190955,
          3135.6783919597992,
          3165.829145728643,
          3195.9798994974876,
          3226.1306532663316,
          3256.281407035176,
          3286.43216080402,
          3316.5829145728644,
          3346.733668341709,
          3376.884422110553,
          3407.0351758793972,
          3437.185929648241,
          3467.3366834170856,
          3497.4874371859296,
          3527.638190954774,
          3557.788944723618,
          3587.9396984924624,
          3618.090452261307,
          3648.241206030151,
          3678.3919597989952,
          3708.542713567839,
          3738.6934673366836,
          3768.8442211055276,
          3798.994974874372,
          3829.145728643216,
          3859.2964824120604,
          3889.447236180905,
          3919.597989949749,
          3949.7487437185932,
          3979.899497487437,
          4010.0502512562816,
          4040.2010050251256,
          4070.35175879397,
          4100.502512562814,
          4130.653266331658,
          4160.804020100502,
          4190.954773869347,
          4221.105527638191,
          4251.256281407035,
          4281.407035175879,
          4311.557788944724,
          4341.708542713568,
          4371.859296482412,
          4402.010050251256,
          4432.160804020101,
          4462.311557788945,
          4492.462311557789,
          4522.613065326634,
          4552.763819095478,
          4582.914572864322,
          4613.065326633166,
          4643.21608040201,
          4673.366834170854,
          4703.517587939698,
          4733.668341708543,
          4763.819095477387,
          4793.969849246231,
          4824.120603015075,
          4854.27135678392,
          4884.422110552764,
          4914.572864321608,
          4944.723618090452,
          4974.874371859297,
          5005.025125628141,
          5035.175879396985,
          5065.32663316583,
          5095.477386934674,
          5125.628140703518,
          5155.778894472362,
          5185.929648241206,
          5216.08040201005,
          5246.231155778894,
          5276.381909547739,
          5306.532663316583,
          5336.683417085427,
          5366.834170854271,
          5396.984924623116,
          5427.13567839196,
          5457.286432160804,
          5487.437185929648,
          5517.587939698493,
          5547.738693467337,
          5577.889447236181,
          5608.040201005026,
          5638.19095477387,
          5668.341708542714,
          5698.492462311558,
          5728.643216080402,
          5758.793969849246,
          5788.94472361809,
          5819.095477386935,
          5849.246231155779,
          5879.396984924623,
          5909.547738693467,
          5939.698492462312,
          5969.849246231156,
          6000
         ],
         "y": [
          -0.05939303148823383,
          0.0003457339157926301,
          0.06008449931981909,
          0.11982326472384555,
          0.179562030127872,
          0.23930079553189842,
          0.29903956093592493,
          0.3587783263399514,
          0.41851709174397783,
          0.47825585714800434,
          0.5379946225520307,
          0.5977333879560572,
          0.6574721533600837,
          0.7172109187641101,
          0.7769496841681366,
          0.836688449572163,
          0.8964272149761895,
          0.956165980380216,
          1.0159047457842425,
          1.0756435111882687,
          1.1353822765922952,
          1.1951210419963219,
          1.2548598074003483,
          1.3145985728043748,
          1.3743373382084012,
          1.4340761036124274,
          1.493814869016454,
          1.5535536344204806,
          1.613292399824507,
          1.6730311652285335,
          1.73276993063256,
          1.7925086960365864,
          1.8522474614406128,
          1.9119862268446393,
          1.971724992248666,
          2.031463757652692,
          2.091202523056719,
          2.150941288460745,
          2.2106800538647713,
          2.270418819268798,
          2.330157584672824,
          2.389896350076851,
          2.4496351154808775,
          2.5093738808849038,
          2.5691126462889304,
          2.6288514116929567,
          2.6885901770969833,
          2.7483289425010096,
          2.8080677079050362,
          2.8678064733090625,
          2.9275452387130887,
          2.987284004117116,
          3.047022769521142,
          3.1067615349251687,
          3.166500300329195,
          3.226239065733221,
          3.285977831137248,
          3.345716596541274,
          3.4054553619453007,
          3.465194127349327,
          3.5249328927533536,
          3.5846716581573803,
          3.6444104235614065,
          3.704149188965433,
          3.7638879543694594,
          3.8236267197734857,
          3.8833654851775123,
          3.943104250581539,
          4.002843015985565,
          4.062581781389591,
          4.122320546793619,
          4.182059312197644,
          4.241798077601672,
          4.301536843005698,
          4.3612756084097235,
          4.421014373813751,
          4.480753139217777,
          4.540491904621804,
          4.60023067002583,
          4.659969435429856,
          4.719708200833882,
          4.779446966237909,
          4.839185731641935,
          4.898924497045963,
          4.9586632624499885,
          5.018402027854014,
          5.078140793258042,
          5.137879558662068,
          5.197618324066095,
          5.257357089470121,
          5.317095854874147,
          5.3768346202781725,
          5.4365733856822,
          5.496312151086228,
          5.556050916490253,
          5.615789681894279,
          5.675528447298307,
          5.7352672127023325,
          5.795005978106358,
          5.854744743510386,
          5.914483508914412,
          5.974222274318439,
          6.033961039722465,
          6.093699805126491,
          6.153438570530518,
          6.213177335934544,
          6.272916101338572,
          6.3326548667425975,
          6.392393632146623,
          6.452132397550649,
          6.511871162954677,
          6.571609928358704,
          6.63134869376273,
          6.691087459166756,
          6.7508262245707815,
          6.810564989974809,
          6.870303755378835,
          6.930042520782862,
          6.989781286186888,
          7.049520051590914,
          7.1092588169949416,
          7.168997582398967,
          7.228736347802995,
          7.288475113207021,
          7.3482138786110465,
          7.407952644015072,
          7.4676914094191,
          7.527430174823126,
          7.587168940227153,
          7.646907705631179,
          7.706646471035205,
          7.766385236439232,
          7.826124001843258,
          7.885862767247286,
          7.945601532651311,
          8.005340298055337,
          8.065079063459365,
          8.12481782886339,
          8.184556594267416,
          8.244295359671444,
          8.30403412507547,
          8.363772890479495,
          8.423511655883521,
          8.48325042128755,
          8.542989186691576,
          8.602727952095602,
          8.662466717499628,
          8.722205482903655,
          8.781944248307681,
          8.841683013711707,
          8.901421779115735,
          8.96116054451976,
          9.020899309923786,
          9.080638075327814,
          9.140376840731841,
          9.200115606135867,
          9.259854371539893,
          9.31959313694392,
          9.379331902347946,
          9.439070667751972,
          9.498809433155998,
          9.558548198560025,
          9.618286963964051,
          9.678025729368079,
          9.737764494772104,
          9.797503260176132,
          9.857242025580158,
          9.916980790984184,
          9.976719556388211,
          10.036458321792237,
          10.096197087196263,
          10.155935852600289,
          10.215674618004316,
          10.275413383408344,
          10.33515214881237,
          10.394890914216397,
          10.454629679620423,
          10.514368445024449,
          10.574107210428474,
          10.633845975832502,
          10.693584741236528,
          10.753323506640553,
          10.81306227204458,
          10.872801037448609,
          10.932539802852634,
          10.99227856825666,
          11.052017333660688,
          11.111756099064714,
          11.17149486446874,
          11.231233629872765,
          11.290972395276793,
          11.350711160680818,
          11.410449926084846,
          11.470188691488874,
          11.5299274568929,
          11.589666222296925,
          11.649404987700951,
          11.709143753104978,
          11.768882518509004,
          11.82862128391303
         ]
        },
        {
         "line": {
          "color": "green"
         },
         "mode": "lines",
         "name": "LinearRegression - Mythical",
         "type": "scatter",
         "x": [
          0,
          30.150753768844222,
          60.301507537688444,
          90.45226130653266,
          120.60301507537689,
          150.7537688442211,
          180.90452261306532,
          211.05527638190955,
          241.20603015075378,
          271.356783919598,
          301.5075376884422,
          331.65829145728645,
          361.80904522613065,
          391.9597989949749,
          422.1105527638191,
          452.26130653266335,
          482.41206030150755,
          512.5628140703518,
          542.713567839196,
          572.8643216080402,
          603.0150753768844,
          633.1658291457287,
          663.3165829145729,
          693.4673366834171,
          723.6180904522613,
          753.7688442211055,
          783.9195979899498,
          814.070351758794,
          844.2211055276382,
          874.3718592964824,
          904.5226130653267,
          934.6733668341709,
          964.8241206030151,
          994.9748743718593,
          1025.1256281407036,
          1055.2763819095478,
          1085.427135678392,
          1115.5778894472362,
          1145.7286432160804,
          1175.8793969849246,
          1206.0301507537688,
          1236.180904522613,
          1266.3316582914574,
          1296.4824120603016,
          1326.6331658291458,
          1356.78391959799,
          1386.9346733668342,
          1417.0854271356784,
          1447.2361809045226,
          1477.3869346733668,
          1507.537688442211,
          1537.6884422110554,
          1567.8391959798996,
          1597.9899497487438,
          1628.140703517588,
          1658.2914572864322,
          1688.4422110552764,
          1718.5929648241206,
          1748.7437185929648,
          1778.894472361809,
          1809.0452261306534,
          1839.1959798994976,
          1869.3467336683418,
          1899.497487437186,
          1929.6482412060302,
          1959.7989949748744,
          1989.9497487437186,
          2020.1005025125628,
          2050.251256281407,
          2080.402010050251,
          2110.5527638190956,
          2140.7035175879396,
          2170.854271356784,
          2201.005025125628,
          2231.1557788944724,
          2261.306532663317,
          2291.457286432161,
          2321.608040201005,
          2351.758793969849,
          2381.9095477386936,
          2412.0603015075376,
          2442.211055276382,
          2472.361809045226,
          2502.5125628140704,
          2532.663316582915,
          2562.814070351759,
          2592.964824120603,
          2623.115577889447,
          2653.2663316582916,
          2683.4170854271356,
          2713.56783919598,
          2743.718592964824,
          2773.8693467336684,
          2804.020100502513,
          2834.170854271357,
          2864.321608040201,
          2894.472361809045,
          2924.6231155778896,
          2954.7738693467336,
          2984.924623115578,
          3015.075376884422,
          3045.2261306532664,
          3075.376884422111,
          3105.527638190955,
          3135.6783919597992,
          3165.829145728643,
          3195.9798994974876,
          3226.1306532663316,
          3256.281407035176,
          3286.43216080402,
          3316.5829145728644,
          3346.733668341709,
          3376.884422110553,
          3407.0351758793972,
          3437.185929648241,
          3467.3366834170856,
          3497.4874371859296,
          3527.638190954774,
          3557.788944723618,
          3587.9396984924624,
          3618.090452261307,
          3648.241206030151,
          3678.3919597989952,
          3708.542713567839,
          3738.6934673366836,
          3768.8442211055276,
          3798.994974874372,
          3829.145728643216,
          3859.2964824120604,
          3889.447236180905,
          3919.597989949749,
          3949.7487437185932,
          3979.899497487437,
          4010.0502512562816,
          4040.2010050251256,
          4070.35175879397,
          4100.502512562814,
          4130.653266331658,
          4160.804020100502,
          4190.954773869347,
          4221.105527638191,
          4251.256281407035,
          4281.407035175879,
          4311.557788944724,
          4341.708542713568,
          4371.859296482412,
          4402.010050251256,
          4432.160804020101,
          4462.311557788945,
          4492.462311557789,
          4522.613065326634,
          4552.763819095478,
          4582.914572864322,
          4613.065326633166,
          4643.21608040201,
          4673.366834170854,
          4703.517587939698,
          4733.668341708543,
          4763.819095477387,
          4793.969849246231,
          4824.120603015075,
          4854.27135678392,
          4884.422110552764,
          4914.572864321608,
          4944.723618090452,
          4974.874371859297,
          5005.025125628141,
          5035.175879396985,
          5065.32663316583,
          5095.477386934674,
          5125.628140703518,
          5155.778894472362,
          5185.929648241206,
          5216.08040201005,
          5246.231155778894,
          5276.381909547739,
          5306.532663316583,
          5336.683417085427,
          5366.834170854271,
          5396.984924623116,
          5427.13567839196,
          5457.286432160804,
          5487.437185929648,
          5517.587939698493,
          5547.738693467337,
          5577.889447236181,
          5608.040201005026,
          5638.19095477387,
          5668.341708542714,
          5698.492462311558,
          5728.643216080402,
          5758.793969849246,
          5788.94472361809,
          5819.095477386935,
          5849.246231155779,
          5879.396984924623,
          5909.547738693467,
          5939.698492462312,
          5969.849246231156,
          6000
         ],
         "y": [
          -0.1519859810250293,
          -0.14135177368391263,
          -0.13071756634279597,
          -0.12008335900167932,
          -0.10944915166056265,
          -0.09881494431944599,
          -0.08818073697832933,
          -0.07754652963721266,
          -0.066912322296096,
          -0.056278114954979336,
          -0.04564390761386268,
          -0.03500970027274601,
          -0.024375492931629356,
          -0.013741285590512686,
          -0.003107078249396017,
          0.007527129091720652,
          0.018161336432837294,
          0.028795543773953963,
          0.03942975111507063,
          0.050063958456187274,
          0.06069816579730394,
          0.07133237313842064,
          0.08196658047953728,
          0.09260078782065395,
          0.10323499516177059,
          0.11386920250288723,
          0.12450340984400393,
          0.13513761718512057,
          0.14577182452623727,
          0.1564060318673539,
          0.1670402392084706,
          0.17767444654958725,
          0.1883086538907039,
          0.19894286123182053,
          0.20957706857293723,
          0.22021127591405393,
          0.23084548325517057,
          0.2414796905962872,
          0.25211389793740385,
          0.26274810527852055,
          0.2733823126196372,
          0.28401651996075383,
          0.2946507273018706,
          0.3052849346429872,
          0.31591914198410387,
          0.3265533493252205,
          0.3371875566663372,
          0.34782176400745385,
          0.3584559713485705,
          0.36909017868968713,
          0.3797243860308038,
          0.3903585933719205,
          0.40099280071303717,
          0.4116270080541538,
          0.42226121539527045,
          0.4328954227363872,
          0.44352963007750384,
          0.4541638374186205,
          0.46479804475973713,
          0.47543225210085377,
          0.4860664594419705,
          0.49670066678308716,
          0.5073348741242039,
          0.5179690814653204,
          0.5286032888064371,
          0.5392374961475537,
          0.5498717034886704,
          0.5605059108297872,
          0.5711401181709037,
          0.5817743255120205,
          0.5924085328531372,
          0.6030427401942537,
          0.6136769475353705,
          0.624311154876487,
          0.6349453622176038,
          0.6455795695587205,
          0.6562137768998371,
          0.6668479842409538,
          0.6774821915820703,
          0.6881163989231871,
          0.6987506062643036,
          0.7093848136054204,
          0.7200190209465369,
          0.7306532282876537,
          0.7412874356287704,
          0.751921642969887,
          0.7625558503110037,
          0.7731900576521202,
          0.783824264993237,
          0.7944584723343535,
          0.8050926796754703,
          0.815726887016587,
          0.8263610943577038,
          0.8369953016988203,
          0.8476295090399371,
          0.8582637163810538,
          0.8688979237221703,
          0.8795321310632871,
          0.8901663384044036,
          0.9008005457455204,
          0.9114347530866369,
          0.9220689604277537,
          0.9327031677688704,
          0.9433373751099869,
          0.9539715824511037,
          0.9646057897922202,
          0.975239997133337,
          0.9858742044744535,
          0.9965084118155703,
          1.007142619156687,
          1.0177768264978038,
          1.0284110338389203,
          1.039045241180037,
          1.0496794485211538,
          1.0603136558622703,
          1.070947863203387,
          1.0815820705445036,
          1.0922162778856204,
          1.102850485226737,
          1.1134846925678537,
          1.1241188999089704,
          1.134753107250087,
          1.1453873145912037,
          1.1560215219323202,
          1.166655729273437,
          1.1772899366145535,
          1.1879241439556703,
          1.1985583512967868,
          1.2091925586379035,
          1.2198267659790203,
          1.2304609733201368,
          1.2410951806612536,
          1.25172938800237,
          1.2623635953434869,
          1.2729978026846036,
          1.2836320100257201,
          1.294266217366837,
          1.3049004247079536,
          1.3155346320490702,
          1.326168839390187,
          1.3368030467313037,
          1.3474372540724202,
          1.3580714614135367,
          1.3687056687546537,
          1.3793398760957702,
          1.3899740834368868,
          1.4006082907780033,
          1.4112424981191203,
          1.4218767054602368,
          1.4325109128013533,
          1.4431451201424703,
          1.4537793274835868,
          1.4644135348247034,
          1.4750477421658201,
          1.4856819495069369,
          1.4963161568480534,
          1.5069503641891702,
          1.517584571530287,
          1.5282187788714034,
          1.5388529862125202,
          1.5494871935536367,
          1.5601214008947535,
          1.5707556082358702,
          1.5813898155769868,
          1.5920240229181033,
          1.6026582302592203,
          1.6132924376003368,
          1.6239266449414533,
          1.6345608522825703,
          1.6451950596236868,
          1.6558292669648034,
          1.66646347430592,
          1.6770976816470369,
          1.6877318889881534,
          1.69836609632927,
          1.709000303670387,
          1.7196345110115034,
          1.73026871835262,
          1.7409029256937365,
          1.7515371330348535,
          1.76217134037597,
          1.7728055477170868,
          1.7834397550582033,
          1.79407396239932,
          1.8047081697404368,
          1.8153423770815533,
          1.82597658442267,
          1.8366107917637868,
          1.8472449991049034,
          1.8578792064460197,
          1.8685134137871369,
          1.8791476211282532,
          1.88978182846937,
          1.9004160358104867,
          1.9110502431516034,
          1.9216844504927202,
          1.9323186578338365,
          1.9429528651749532,
          1.95358707251607,
          1.9642212798571868
         ]
        }
       ],
       "layout": {
        "hovermode": "closest",
        "template": {
         "data": {
          "bar": [
           {
            "error_x": {
             "color": "#2a3f5f"
            },
            "error_y": {
             "color": "#2a3f5f"
            },
            "marker": {
             "line": {
              "color": "#E5ECF6",
              "width": 0.5
             },
             "pattern": {
              "fillmode": "overlay",
              "size": 10,
              "solidity": 0.2
             }
            },
            "type": "bar"
           }
          ],
          "barpolar": [
           {
            "marker": {
             "line": {
              "color": "#E5ECF6",
              "width": 0.5
             },
             "pattern": {
              "fillmode": "overlay",
              "size": 10,
              "solidity": 0.2
             }
            },
            "type": "barpolar"
           }
          ],
          "carpet": [
           {
            "aaxis": {
             "endlinecolor": "#2a3f5f",
             "gridcolor": "white",
             "linecolor": "white",
             "minorgridcolor": "white",
             "startlinecolor": "#2a3f5f"
            },
            "baxis": {
             "endlinecolor": "#2a3f5f",
             "gridcolor": "white",
             "linecolor": "white",
             "minorgridcolor": "white",
             "startlinecolor": "#2a3f5f"
            },
            "type": "carpet"
           }
          ],
          "choropleth": [
           {
            "colorbar": {
             "outlinewidth": 0,
             "ticks": ""
            },
            "type": "choropleth"
           }
          ],
          "contour": [
           {
            "colorbar": {
             "outlinewidth": 0,
             "ticks": ""
            },
            "colorscale": [
             [
              0,
              "#0d0887"
             ],
             [
              0.1111111111111111,
              "#46039f"
             ],
             [
              0.2222222222222222,
              "#7201a8"
             ],
             [
              0.3333333333333333,
              "#9c179e"
             ],
             [
              0.4444444444444444,
              "#bd3786"
             ],
             [
              0.5555555555555556,
              "#d8576b"
             ],
             [
              0.6666666666666666,
              "#ed7953"
             ],
             [
              0.7777777777777778,
              "#fb9f3a"
             ],
             [
              0.8888888888888888,
              "#fdca26"
             ],
             [
              1,
              "#f0f921"
             ]
            ],
            "type": "contour"
           }
          ],
          "contourcarpet": [
           {
            "colorbar": {
             "outlinewidth": 0,
             "ticks": ""
            },
            "type": "contourcarpet"
           }
          ],
          "heatmap": [
           {
            "colorbar": {
             "outlinewidth": 0,
             "ticks": ""
            },
            "colorscale": [
             [
              0,
              "#0d0887"
             ],
             [
              0.1111111111111111,
              "#46039f"
             ],
             [
              0.2222222222222222,
              "#7201a8"
             ],
             [
              0.3333333333333333,
              "#9c179e"
             ],
             [
              0.4444444444444444,
              "#bd3786"
             ],
             [
              0.5555555555555556,
              "#d8576b"
             ],
             [
              0.6666666666666666,
              "#ed7953"
             ],
             [
              0.7777777777777778,
              "#fb9f3a"
             ],
             [
              0.8888888888888888,
              "#fdca26"
             ],
             [
              1,
              "#f0f921"
             ]
            ],
            "type": "heatmap"
           }
          ],
          "heatmapgl": [
           {
            "colorbar": {
             "outlinewidth": 0,
             "ticks": ""
            },
            "colorscale": [
             [
              0,
              "#0d0887"
             ],
             [
              0.1111111111111111,
              "#46039f"
             ],
             [
              0.2222222222222222,
              "#7201a8"
             ],
             [
              0.3333333333333333,
              "#9c179e"
             ],
             [
              0.4444444444444444,
              "#bd3786"
             ],
             [
              0.5555555555555556,
              "#d8576b"
             ],
             [
              0.6666666666666666,
              "#ed7953"
             ],
             [
              0.7777777777777778,
              "#fb9f3a"
             ],
             [
              0.8888888888888888,
              "#fdca26"
             ],
             [
              1,
              "#f0f921"
             ]
            ],
            "type": "heatmapgl"
           }
          ],
          "histogram": [
           {
            "marker": {
             "pattern": {
              "fillmode": "overlay",
              "size": 10,
              "solidity": 0.2
             }
            },
            "type": "histogram"
           }
          ],
          "histogram2d": [
           {
            "colorbar": {
             "outlinewidth": 0,
             "ticks": ""
            },
            "colorscale": [
             [
              0,
              "#0d0887"
             ],
             [
              0.1111111111111111,
              "#46039f"
             ],
             [
              0.2222222222222222,
              "#7201a8"
             ],
             [
              0.3333333333333333,
              "#9c179e"
             ],
             [
              0.4444444444444444,
              "#bd3786"
             ],
             [
              0.5555555555555556,
              "#d8576b"
             ],
             [
              0.6666666666666666,
              "#ed7953"
             ],
             [
              0.7777777777777778,
              "#fb9f3a"
             ],
             [
              0.8888888888888888,
              "#fdca26"
             ],
             [
              1,
              "#f0f921"
             ]
            ],
            "type": "histogram2d"
           }
          ],
          "histogram2dcontour": [
           {
            "colorbar": {
             "outlinewidth": 0,
             "ticks": ""
            },
            "colorscale": [
             [
              0,
              "#0d0887"
             ],
             [
              0.1111111111111111,
              "#46039f"
             ],
             [
              0.2222222222222222,
              "#7201a8"
             ],
             [
              0.3333333333333333,
              "#9c179e"
             ],
             [
              0.4444444444444444,
              "#bd3786"
             ],
             [
              0.5555555555555556,
              "#d8576b"
             ],
             [
              0.6666666666666666,
              "#ed7953"
             ],
             [
              0.7777777777777778,
              "#fb9f3a"
             ],
             [
              0.8888888888888888,
              "#fdca26"
             ],
             [
              1,
              "#f0f921"
             ]
            ],
            "type": "histogram2dcontour"
           }
          ],
          "mesh3d": [
           {
            "colorbar": {
             "outlinewidth": 0,
             "ticks": ""
            },
            "type": "mesh3d"
           }
          ],
          "parcoords": [
           {
            "line": {
             "colorbar": {
              "outlinewidth": 0,
              "ticks": ""
             }
            },
            "type": "parcoords"
           }
          ],
          "pie": [
           {
            "automargin": true,
            "type": "pie"
           }
          ],
          "scatter": [
           {
            "fillpattern": {
             "fillmode": "overlay",
             "size": 10,
             "solidity": 0.2
            },
            "type": "scatter"
           }
          ],
          "scatter3d": [
           {
            "line": {
             "colorbar": {
              "outlinewidth": 0,
              "ticks": ""
             }
            },
            "marker": {
             "colorbar": {
              "outlinewidth": 0,
              "ticks": ""
             }
            },
            "type": "scatter3d"
           }
          ],
          "scattercarpet": [
           {
            "marker": {
             "colorbar": {
              "outlinewidth": 0,
              "ticks": ""
             }
            },
            "type": "scattercarpet"
           }
          ],
          "scattergeo": [
           {
            "marker": {
             "colorbar": {
              "outlinewidth": 0,
              "ticks": ""
             }
            },
            "type": "scattergeo"
           }
          ],
          "scattergl": [
           {
            "marker": {
             "colorbar": {
              "outlinewidth": 0,
              "ticks": ""
             }
            },
            "type": "scattergl"
           }
          ],
          "scattermapbox": [
           {
            "marker": {
             "colorbar": {
              "outlinewidth": 0,
              "ticks": ""
             }
            },
            "type": "scattermapbox"
           }
          ],
          "scatterpolar": [
           {
            "marker": {
             "colorbar": {
              "outlinewidth": 0,
              "ticks": ""
             }
            },
            "type": "scatterpolar"
           }
          ],
          "scatterpolargl": [
           {
            "marker": {
             "colorbar": {
              "outlinewidth": 0,
              "ticks": ""
             }
            },
            "type": "scatterpolargl"
           }
          ],
          "scatterternary": [
           {
            "marker": {
             "colorbar": {
              "outlinewidth": 0,
              "ticks": ""
             }
            },
            "type": "scatterternary"
           }
          ],
          "surface": [
           {
            "colorbar": {
             "outlinewidth": 0,
             "ticks": ""
            },
            "colorscale": [
             [
              0,
              "#0d0887"
             ],
             [
              0.1111111111111111,
              "#46039f"
             ],
             [
              0.2222222222222222,
              "#7201a8"
             ],
             [
              0.3333333333333333,
              "#9c179e"
             ],
             [
              0.4444444444444444,
              "#bd3786"
             ],
             [
              0.5555555555555556,
              "#d8576b"
             ],
             [
              0.6666666666666666,
              "#ed7953"
             ],
             [
              0.7777777777777778,
              "#fb9f3a"
             ],
             [
              0.8888888888888888,
              "#fdca26"
             ],
             [
              1,
              "#f0f921"
             ]
            ],
            "type": "surface"
           }
          ],
          "table": [
           {
            "cells": {
             "fill": {
              "color": "#EBF0F8"
             },
             "line": {
              "color": "white"
             }
            },
            "header": {
             "fill": {
              "color": "#C8D4E3"
             },
             "line": {
              "color": "white"
             }
            },
            "type": "table"
           }
          ]
         },
         "layout": {
          "annotationdefaults": {
           "arrowcolor": "#2a3f5f",
           "arrowhead": 0,
           "arrowwidth": 1
          },
          "autotypenumbers": "strict",
          "coloraxis": {
           "colorbar": {
            "outlinewidth": 0,
            "ticks": ""
           }
          },
          "colorscale": {
           "diverging": [
            [
             0,
             "#8e0152"
            ],
            [
             0.1,
             "#c51b7d"
            ],
            [
             0.2,
             "#de77ae"
            ],
            [
             0.3,
             "#f1b6da"
            ],
            [
             0.4,
             "#fde0ef"
            ],
            [
             0.5,
             "#f7f7f7"
            ],
            [
             0.6,
             "#e6f5d0"
            ],
            [
             0.7,
             "#b8e186"
            ],
            [
             0.8,
             "#7fbc41"
            ],
            [
             0.9,
             "#4d9221"
            ],
            [
             1,
             "#276419"
            ]
           ],
           "sequential": [
            [
             0,
             "#0d0887"
            ],
            [
             0.1111111111111111,
             "#46039f"
            ],
            [
             0.2222222222222222,
             "#7201a8"
            ],
            [
             0.3333333333333333,
             "#9c179e"
            ],
            [
             0.4444444444444444,
             "#bd3786"
            ],
            [
             0.5555555555555556,
             "#d8576b"
            ],
            [
             0.6666666666666666,
             "#ed7953"
            ],
            [
             0.7777777777777778,
             "#fb9f3a"
            ],
            [
             0.8888888888888888,
             "#fdca26"
            ],
            [
             1,
             "#f0f921"
            ]
           ],
           "sequentialminus": [
            [
             0,
             "#0d0887"
            ],
            [
             0.1111111111111111,
             "#46039f"
            ],
            [
             0.2222222222222222,
             "#7201a8"
            ],
            [
             0.3333333333333333,
             "#9c179e"
            ],
            [
             0.4444444444444444,
             "#bd3786"
            ],
            [
             0.5555555555555556,
             "#d8576b"
            ],
            [
             0.6666666666666666,
             "#ed7953"
            ],
            [
             0.7777777777777778,
             "#fb9f3a"
            ],
            [
             0.8888888888888888,
             "#fdca26"
            ],
            [
             1,
             "#f0f921"
            ]
           ]
          },
          "colorway": [
           "#636efa",
           "#EF553B",
           "#00cc96",
           "#ab63fa",
           "#FFA15A",
           "#19d3f3",
           "#FF6692",
           "#B6E880",
           "#FF97FF",
           "#FECB52"
          ],
          "font": {
           "color": "#2a3f5f"
          },
          "geo": {
           "bgcolor": "white",
           "lakecolor": "white",
           "landcolor": "#E5ECF6",
           "showlakes": true,
           "showland": true,
           "subunitcolor": "white"
          },
          "hoverlabel": {
           "align": "left"
          },
          "hovermode": "closest",
          "mapbox": {
           "style": "light"
          },
          "paper_bgcolor": "white",
          "plot_bgcolor": "#E5ECF6",
          "polar": {
           "angularaxis": {
            "gridcolor": "white",
            "linecolor": "white",
            "ticks": ""
           },
           "bgcolor": "#E5ECF6",
           "radialaxis": {
            "gridcolor": "white",
            "linecolor": "white",
            "ticks": ""
           }
          },
          "scene": {
           "xaxis": {
            "backgroundcolor": "#E5ECF6",
            "gridcolor": "white",
            "gridwidth": 2,
            "linecolor": "white",
            "showbackground": true,
            "ticks": "",
            "zerolinecolor": "white"
           },
           "yaxis": {
            "backgroundcolor": "#E5ECF6",
            "gridcolor": "white",
            "gridwidth": 2,
            "linecolor": "white",
            "showbackground": true,
            "ticks": "",
            "zerolinecolor": "white"
           },
           "zaxis": {
            "backgroundcolor": "#E5ECF6",
            "gridcolor": "white",
            "gridwidth": 2,
            "linecolor": "white",
            "showbackground": true,
            "ticks": "",
            "zerolinecolor": "white"
           }
          },
          "shapedefaults": {
           "line": {
            "color": "#2a3f5f"
           }
          },
          "ternary": {
           "aaxis": {
            "gridcolor": "white",
            "linecolor": "white",
            "ticks": ""
           },
           "baxis": {
            "gridcolor": "white",
            "linecolor": "white",
            "ticks": ""
           },
           "bgcolor": "#E5ECF6",
           "caxis": {
            "gridcolor": "white",
            "linecolor": "white",
            "ticks": ""
           }
          },
          "title": {
           "x": 0.05
          },
          "xaxis": {
           "automargin": true,
           "gridcolor": "white",
           "linecolor": "white",
           "ticks": "",
           "title": {
            "standoff": 15
           },
           "zerolinecolor": "white",
           "zerolinewidth": 2
          },
          "yaxis": {
           "automargin": true,
           "gridcolor": "white",
           "linecolor": "white",
           "ticks": "",
           "title": {
            "standoff": 15
           },
           "zerolinecolor": "white",
           "zerolinewidth": 2
          }
         }
        },
        "title": {
         "text": "Stacked Linear Models for All Outcomes"
        },
        "xaxis": {
         "title": {
          "text": "Crit Chance"
         }
        },
        "yaxis": {
         "title": {
          "text": "Outcomes"
         },
         "type": "linear"
        }
       }
      },
      "text/html": [
       "<div>                            <div id=\"53c4d00f-40b5-4403-b66c-c761bc910618\" class=\"plotly-graph-div\" style=\"height:525px; width:100%;\"></div>            <script type=\"text/javascript\">                require([\"plotly\"], function(Plotly) {                    window.PLOTLYENV=window.PLOTLYENV || {};                                    if (document.getElementById(\"53c4d00f-40b5-4403-b66c-c761bc910618\")) {                    Plotly.newPlot(                        \"53c4d00f-40b5-4403-b66c-c761bc910618\",                        [{\"line\":{\"color\":\"red\"},\"mode\":\"lines\",\"name\":\"LinearRegression - Legendary\",\"x\":[0.0,30.150753768844222,60.301507537688444,90.45226130653266,120.60301507537689,150.7537688442211,180.90452261306532,211.05527638190955,241.20603015075378,271.356783919598,301.5075376884422,331.65829145728645,361.80904522613065,391.9597989949749,422.1105527638191,452.26130653266335,482.41206030150755,512.5628140703518,542.713567839196,572.8643216080402,603.0150753768844,633.1658291457287,663.3165829145729,693.4673366834171,723.6180904522613,753.7688442211055,783.9195979899498,814.070351758794,844.2211055276382,874.3718592964824,904.5226130653267,934.6733668341709,964.8241206030151,994.9748743718593,1025.1256281407036,1055.2763819095478,1085.427135678392,1115.5778894472362,1145.7286432160804,1175.8793969849246,1206.0301507537688,1236.180904522613,1266.3316582914574,1296.4824120603016,1326.6331658291458,1356.78391959799,1386.9346733668342,1417.0854271356784,1447.2361809045226,1477.3869346733668,1507.537688442211,1537.6884422110554,1567.8391959798996,1597.9899497487438,1628.140703517588,1658.2914572864322,1688.4422110552764,1718.5929648241206,1748.7437185929648,1778.894472361809,1809.0452261306534,1839.1959798994976,1869.3467336683418,1899.497487437186,1929.6482412060302,1959.7989949748744,1989.9497487437186,2020.1005025125628,2050.251256281407,2080.402010050251,2110.5527638190956,2140.7035175879396,2170.854271356784,2201.005025125628,2231.1557788944724,2261.306532663317,2291.457286432161,2321.608040201005,2351.758793969849,2381.9095477386936,2412.0603015075376,2442.211055276382,2472.361809045226,2502.5125628140704,2532.663316582915,2562.814070351759,2592.964824120603,2623.115577889447,2653.2663316582916,2683.4170854271356,2713.56783919598,2743.718592964824,2773.8693467336684,2804.020100502513,2834.170854271357,2864.321608040201,2894.472361809045,2924.6231155778896,2954.7738693467336,2984.924623115578,3015.075376884422,3045.2261306532664,3075.376884422111,3105.527638190955,3135.6783919597992,3165.829145728643,3195.9798994974876,3226.1306532663316,3256.281407035176,3286.43216080402,3316.5829145728644,3346.733668341709,3376.884422110553,3407.0351758793972,3437.185929648241,3467.3366834170856,3497.4874371859296,3527.638190954774,3557.788944723618,3587.9396984924624,3618.090452261307,3648.241206030151,3678.3919597989952,3708.542713567839,3738.6934673366836,3768.8442211055276,3798.994974874372,3829.145728643216,3859.2964824120604,3889.447236180905,3919.597989949749,3949.7487437185932,3979.899497487437,4010.0502512562816,4040.2010050251256,4070.35175879397,4100.502512562814,4130.653266331658,4160.804020100502,4190.954773869347,4221.105527638191,4251.256281407035,4281.407035175879,4311.557788944724,4341.708542713568,4371.859296482412,4402.010050251256,4432.160804020101,4462.311557788945,4492.462311557789,4522.613065326634,4552.763819095478,4582.914572864322,4613.065326633166,4643.21608040201,4673.366834170854,4703.517587939698,4733.668341708543,4763.819095477387,4793.969849246231,4824.120603015075,4854.27135678392,4884.422110552764,4914.572864321608,4944.723618090452,4974.874371859297,5005.025125628141,5035.175879396985,5065.32663316583,5095.477386934674,5125.628140703518,5155.778894472362,5185.929648241206,5216.08040201005,5246.231155778894,5276.381909547739,5306.532663316583,5336.683417085427,5366.834170854271,5396.984924623116,5427.13567839196,5457.286432160804,5487.437185929648,5517.587939698493,5547.738693467337,5577.889447236181,5608.040201005026,5638.19095477387,5668.341708542714,5698.492462311558,5728.643216080402,5758.793969849246,5788.94472361809,5819.095477386935,5849.246231155779,5879.396984924623,5909.547738693467,5939.698492462312,5969.849246231156,6000.0],\"y\":[1.93737847370631,2.042861028106529,2.1483435825067474,2.2538261369069663,2.3593086913071852,2.4647912457074037,2.5702738001076226,2.6757563545078416,2.7812389089080605,2.8867214633082794,2.992204017708498,3.097686572108717,3.2031691265089357,3.308651680909154,3.414134235309373,3.519616789709592,3.6250993441098105,3.73058189851003,3.8360644529102483,3.9415470073104673,4.047029561710685,4.1525121161109055,4.257994670511124,4.3634772249113425,4.468959779311561,4.574442333711779,4.679924888111999,4.785407442512218,4.890889996912437,4.996372551312655,5.101855105712874,5.207337660113093,5.312820214513311,5.418302768913531,5.523785323313749,5.629267877713968,5.734750432114187,5.840232986514406,5.945715540914625,6.051198095314843,6.156680649715062,6.26216320411528,6.367645758515501,6.473128312915719,6.578610867315938,6.684093421716156,6.7895759761163745,6.895058530516593,7.0005410849168115,7.106023639317032,7.21150619371725,7.316988748117469,7.422471302517687,7.527953856917907,7.633436411318126,7.738918965718344,7.844401520118563,7.949884074518781,8.055366628919,8.160849183319218,8.266331737719439,8.371814292119657,8.477296846519875,8.582779400920094,8.688261955320312,8.793744509720533,8.899227064120751,9.00470961852097,9.110192172921188,9.215674727321407,9.321157281721627,9.426639836121844,9.532122390522064,9.637604944922282,9.7430874993225,9.848570053722721,9.95405260812294,10.059535162523158,10.165017716923376,10.270500271323597,10.375982825723813,10.481465380124034,10.586947934524252,10.69243048892447,10.79791304332469,10.903395597724908,11.008878152125128,11.114360706525346,11.219843260925565,11.325325815325783,11.430808369726003,11.53629092412622,11.64177347852644,11.747256032926659,11.852738587326877,11.958221141727098,12.063703696127314,12.169186250527535,12.274668804927753,12.380151359327972,12.48563391372819,12.59111646812841,12.696599022528629,12.802081576928847,12.907564131329066,13.013046685729284,13.118529240129504,13.224011794529721,13.329494348929941,13.43497690333016,13.540459457730378,13.645942012130599,13.751424566530815,13.856907120931035,13.962389675331254,14.067872229731472,14.173354784131691,14.278837338531911,14.384319892932128,14.489802447332348,14.595285001732567,14.700767556132785,14.806250110533005,14.911732664933222,15.017215219333442,15.12269777373366,15.22818032813388,15.333662882534098,15.439145436934316,15.544627991334536,15.650110545734755,15.755593100134973,15.861075654535192,15.966558208935412,16.07204076333563,16.177523317735847,16.283005872136066,16.388488426536284,16.493970980936503,16.599453535336725,16.704936089736943,16.81041864413716,16.915901198537377,17.0213837529376,17.126866307337817,17.232348861738036,17.337831416138254,17.443313970538473,17.54879652493869,17.65427907933891,17.75976163373913,17.86524418813935,17.97072674253957,18.076209296939787,18.181691851340005,18.287174405740224,18.392656960140442,18.498139514540664,18.603622068940883,18.709104623341098,18.814587177741316,18.92006973214154,19.025552286541757,19.131034840941975,19.236517395342194,19.341999949742412,19.44748250414263,19.55296505854285,19.65844761294307,19.76393016734329,19.869412721743505,19.974895276143723,20.080377830543945,20.185860384944164,20.291342939344382,20.3968254937446,20.50230804814482,20.607790602545037,20.713273156945256,20.818755711345478,20.924238265745696,21.02972082014591,21.13520337454613,21.240685928946352,21.34616848334657,21.45165103774679,21.557133592147007,21.662616146547226,21.768098700947444,21.873581255347663,21.979063809747885,22.084546364148103,22.190028918548318,22.29551147294854,22.40099402734876,22.506476581748977,22.611959136149196,22.717441690549414,22.822924244949633,22.92840679934985],\"type\":\"scatter\"},{\"line\":{\"color\":\"blue\"},\"mode\":\"lines\",\"name\":\"LinearRegression - Fabled\",\"x\":[0.0,30.150753768844222,60.301507537688444,90.45226130653266,120.60301507537689,150.7537688442211,180.90452261306532,211.05527638190955,241.20603015075378,271.356783919598,301.5075376884422,331.65829145728645,361.80904522613065,391.9597989949749,422.1105527638191,452.26130653266335,482.41206030150755,512.5628140703518,542.713567839196,572.8643216080402,603.0150753768844,633.1658291457287,663.3165829145729,693.4673366834171,723.6180904522613,753.7688442211055,783.9195979899498,814.070351758794,844.2211055276382,874.3718592964824,904.5226130653267,934.6733668341709,964.8241206030151,994.9748743718593,1025.1256281407036,1055.2763819095478,1085.427135678392,1115.5778894472362,1145.7286432160804,1175.8793969849246,1206.0301507537688,1236.180904522613,1266.3316582914574,1296.4824120603016,1326.6331658291458,1356.78391959799,1386.9346733668342,1417.0854271356784,1447.2361809045226,1477.3869346733668,1507.537688442211,1537.6884422110554,1567.8391959798996,1597.9899497487438,1628.140703517588,1658.2914572864322,1688.4422110552764,1718.5929648241206,1748.7437185929648,1778.894472361809,1809.0452261306534,1839.1959798994976,1869.3467336683418,1899.497487437186,1929.6482412060302,1959.7989949748744,1989.9497487437186,2020.1005025125628,2050.251256281407,2080.402010050251,2110.5527638190956,2140.7035175879396,2170.854271356784,2201.005025125628,2231.1557788944724,2261.306532663317,2291.457286432161,2321.608040201005,2351.758793969849,2381.9095477386936,2412.0603015075376,2442.211055276382,2472.361809045226,2502.5125628140704,2532.663316582915,2562.814070351759,2592.964824120603,2623.115577889447,2653.2663316582916,2683.4170854271356,2713.56783919598,2743.718592964824,2773.8693467336684,2804.020100502513,2834.170854271357,2864.321608040201,2894.472361809045,2924.6231155778896,2954.7738693467336,2984.924623115578,3015.075376884422,3045.2261306532664,3075.376884422111,3105.527638190955,3135.6783919597992,3165.829145728643,3195.9798994974876,3226.1306532663316,3256.281407035176,3286.43216080402,3316.5829145728644,3346.733668341709,3376.884422110553,3407.0351758793972,3437.185929648241,3467.3366834170856,3497.4874371859296,3527.638190954774,3557.788944723618,3587.9396984924624,3618.090452261307,3648.241206030151,3678.3919597989952,3708.542713567839,3738.6934673366836,3768.8442211055276,3798.994974874372,3829.145728643216,3859.2964824120604,3889.447236180905,3919.597989949749,3949.7487437185932,3979.899497487437,4010.0502512562816,4040.2010050251256,4070.35175879397,4100.502512562814,4130.653266331658,4160.804020100502,4190.954773869347,4221.105527638191,4251.256281407035,4281.407035175879,4311.557788944724,4341.708542713568,4371.859296482412,4402.010050251256,4432.160804020101,4462.311557788945,4492.462311557789,4522.613065326634,4552.763819095478,4582.914572864322,4613.065326633166,4643.21608040201,4673.366834170854,4703.517587939698,4733.668341708543,4763.819095477387,4793.969849246231,4824.120603015075,4854.27135678392,4884.422110552764,4914.572864321608,4944.723618090452,4974.874371859297,5005.025125628141,5035.175879396985,5065.32663316583,5095.477386934674,5125.628140703518,5155.778894472362,5185.929648241206,5216.08040201005,5246.231155778894,5276.381909547739,5306.532663316583,5336.683417085427,5366.834170854271,5396.984924623116,5427.13567839196,5457.286432160804,5487.437185929648,5517.587939698493,5547.738693467337,5577.889447236181,5608.040201005026,5638.19095477387,5668.341708542714,5698.492462311558,5728.643216080402,5758.793969849246,5788.94472361809,5819.095477386935,5849.246231155779,5879.396984924623,5909.547738693467,5939.698492462312,5969.849246231156,6000.0],\"y\":[-0.05939303148823383,0.0003457339157926301,0.06008449931981909,0.11982326472384555,0.179562030127872,0.23930079553189842,0.29903956093592493,0.3587783263399514,0.41851709174397783,0.47825585714800434,0.5379946225520307,0.5977333879560572,0.6574721533600837,0.7172109187641101,0.7769496841681366,0.836688449572163,0.8964272149761895,0.956165980380216,1.0159047457842425,1.0756435111882687,1.1353822765922952,1.1951210419963219,1.2548598074003483,1.3145985728043748,1.3743373382084012,1.4340761036124274,1.493814869016454,1.5535536344204806,1.613292399824507,1.6730311652285335,1.73276993063256,1.7925086960365864,1.8522474614406128,1.9119862268446393,1.971724992248666,2.031463757652692,2.091202523056719,2.150941288460745,2.2106800538647713,2.270418819268798,2.330157584672824,2.389896350076851,2.4496351154808775,2.5093738808849038,2.5691126462889304,2.6288514116929567,2.6885901770969833,2.7483289425010096,2.8080677079050362,2.8678064733090625,2.9275452387130887,2.987284004117116,3.047022769521142,3.1067615349251687,3.166500300329195,3.226239065733221,3.285977831137248,3.345716596541274,3.4054553619453007,3.465194127349327,3.5249328927533536,3.5846716581573803,3.6444104235614065,3.704149188965433,3.7638879543694594,3.8236267197734857,3.8833654851775123,3.943104250581539,4.002843015985565,4.062581781389591,4.122320546793619,4.182059312197644,4.241798077601672,4.301536843005698,4.3612756084097235,4.421014373813751,4.480753139217777,4.540491904621804,4.60023067002583,4.659969435429856,4.719708200833882,4.779446966237909,4.839185731641935,4.898924497045963,4.9586632624499885,5.018402027854014,5.078140793258042,5.137879558662068,5.197618324066095,5.257357089470121,5.317095854874147,5.3768346202781725,5.4365733856822,5.496312151086228,5.556050916490253,5.615789681894279,5.675528447298307,5.7352672127023325,5.795005978106358,5.854744743510386,5.914483508914412,5.974222274318439,6.033961039722465,6.093699805126491,6.153438570530518,6.213177335934544,6.272916101338572,6.3326548667425975,6.392393632146623,6.452132397550649,6.511871162954677,6.571609928358704,6.63134869376273,6.691087459166756,6.7508262245707815,6.810564989974809,6.870303755378835,6.930042520782862,6.989781286186888,7.049520051590914,7.1092588169949416,7.168997582398967,7.228736347802995,7.288475113207021,7.3482138786110465,7.407952644015072,7.4676914094191,7.527430174823126,7.587168940227153,7.646907705631179,7.706646471035205,7.766385236439232,7.826124001843258,7.885862767247286,7.945601532651311,8.005340298055337,8.065079063459365,8.12481782886339,8.184556594267416,8.244295359671444,8.30403412507547,8.363772890479495,8.423511655883521,8.48325042128755,8.542989186691576,8.602727952095602,8.662466717499628,8.722205482903655,8.781944248307681,8.841683013711707,8.901421779115735,8.96116054451976,9.020899309923786,9.080638075327814,9.140376840731841,9.200115606135867,9.259854371539893,9.31959313694392,9.379331902347946,9.439070667751972,9.498809433155998,9.558548198560025,9.618286963964051,9.678025729368079,9.737764494772104,9.797503260176132,9.857242025580158,9.916980790984184,9.976719556388211,10.036458321792237,10.096197087196263,10.155935852600289,10.215674618004316,10.275413383408344,10.33515214881237,10.394890914216397,10.454629679620423,10.514368445024449,10.574107210428474,10.633845975832502,10.693584741236528,10.753323506640553,10.81306227204458,10.872801037448609,10.932539802852634,10.99227856825666,11.052017333660688,11.111756099064714,11.17149486446874,11.231233629872765,11.290972395276793,11.350711160680818,11.410449926084846,11.470188691488874,11.5299274568929,11.589666222296925,11.649404987700951,11.709143753104978,11.768882518509004,11.82862128391303],\"type\":\"scatter\"},{\"line\":{\"color\":\"green\"},\"mode\":\"lines\",\"name\":\"LinearRegression - Mythical\",\"x\":[0.0,30.150753768844222,60.301507537688444,90.45226130653266,120.60301507537689,150.7537688442211,180.90452261306532,211.05527638190955,241.20603015075378,271.356783919598,301.5075376884422,331.65829145728645,361.80904522613065,391.9597989949749,422.1105527638191,452.26130653266335,482.41206030150755,512.5628140703518,542.713567839196,572.8643216080402,603.0150753768844,633.1658291457287,663.3165829145729,693.4673366834171,723.6180904522613,753.7688442211055,783.9195979899498,814.070351758794,844.2211055276382,874.3718592964824,904.5226130653267,934.6733668341709,964.8241206030151,994.9748743718593,1025.1256281407036,1055.2763819095478,1085.427135678392,1115.5778894472362,1145.7286432160804,1175.8793969849246,1206.0301507537688,1236.180904522613,1266.3316582914574,1296.4824120603016,1326.6331658291458,1356.78391959799,1386.9346733668342,1417.0854271356784,1447.2361809045226,1477.3869346733668,1507.537688442211,1537.6884422110554,1567.8391959798996,1597.9899497487438,1628.140703517588,1658.2914572864322,1688.4422110552764,1718.5929648241206,1748.7437185929648,1778.894472361809,1809.0452261306534,1839.1959798994976,1869.3467336683418,1899.497487437186,1929.6482412060302,1959.7989949748744,1989.9497487437186,2020.1005025125628,2050.251256281407,2080.402010050251,2110.5527638190956,2140.7035175879396,2170.854271356784,2201.005025125628,2231.1557788944724,2261.306532663317,2291.457286432161,2321.608040201005,2351.758793969849,2381.9095477386936,2412.0603015075376,2442.211055276382,2472.361809045226,2502.5125628140704,2532.663316582915,2562.814070351759,2592.964824120603,2623.115577889447,2653.2663316582916,2683.4170854271356,2713.56783919598,2743.718592964824,2773.8693467336684,2804.020100502513,2834.170854271357,2864.321608040201,2894.472361809045,2924.6231155778896,2954.7738693467336,2984.924623115578,3015.075376884422,3045.2261306532664,3075.376884422111,3105.527638190955,3135.6783919597992,3165.829145728643,3195.9798994974876,3226.1306532663316,3256.281407035176,3286.43216080402,3316.5829145728644,3346.733668341709,3376.884422110553,3407.0351758793972,3437.185929648241,3467.3366834170856,3497.4874371859296,3527.638190954774,3557.788944723618,3587.9396984924624,3618.090452261307,3648.241206030151,3678.3919597989952,3708.542713567839,3738.6934673366836,3768.8442211055276,3798.994974874372,3829.145728643216,3859.2964824120604,3889.447236180905,3919.597989949749,3949.7487437185932,3979.899497487437,4010.0502512562816,4040.2010050251256,4070.35175879397,4100.502512562814,4130.653266331658,4160.804020100502,4190.954773869347,4221.105527638191,4251.256281407035,4281.407035175879,4311.557788944724,4341.708542713568,4371.859296482412,4402.010050251256,4432.160804020101,4462.311557788945,4492.462311557789,4522.613065326634,4552.763819095478,4582.914572864322,4613.065326633166,4643.21608040201,4673.366834170854,4703.517587939698,4733.668341708543,4763.819095477387,4793.969849246231,4824.120603015075,4854.27135678392,4884.422110552764,4914.572864321608,4944.723618090452,4974.874371859297,5005.025125628141,5035.175879396985,5065.32663316583,5095.477386934674,5125.628140703518,5155.778894472362,5185.929648241206,5216.08040201005,5246.231155778894,5276.381909547739,5306.532663316583,5336.683417085427,5366.834170854271,5396.984924623116,5427.13567839196,5457.286432160804,5487.437185929648,5517.587939698493,5547.738693467337,5577.889447236181,5608.040201005026,5638.19095477387,5668.341708542714,5698.492462311558,5728.643216080402,5758.793969849246,5788.94472361809,5819.095477386935,5849.246231155779,5879.396984924623,5909.547738693467,5939.698492462312,5969.849246231156,6000.0],\"y\":[-0.1519859810250293,-0.14135177368391263,-0.13071756634279597,-0.12008335900167932,-0.10944915166056265,-0.09881494431944599,-0.08818073697832933,-0.07754652963721266,-0.066912322296096,-0.056278114954979336,-0.04564390761386268,-0.03500970027274601,-0.024375492931629356,-0.013741285590512686,-0.003107078249396017,0.007527129091720652,0.018161336432837294,0.028795543773953963,0.03942975111507063,0.050063958456187274,0.06069816579730394,0.07133237313842064,0.08196658047953728,0.09260078782065395,0.10323499516177059,0.11386920250288723,0.12450340984400393,0.13513761718512057,0.14577182452623727,0.1564060318673539,0.1670402392084706,0.17767444654958725,0.1883086538907039,0.19894286123182053,0.20957706857293723,0.22021127591405393,0.23084548325517057,0.2414796905962872,0.25211389793740385,0.26274810527852055,0.2733823126196372,0.28401651996075383,0.2946507273018706,0.3052849346429872,0.31591914198410387,0.3265533493252205,0.3371875566663372,0.34782176400745385,0.3584559713485705,0.36909017868968713,0.3797243860308038,0.3903585933719205,0.40099280071303717,0.4116270080541538,0.42226121539527045,0.4328954227363872,0.44352963007750384,0.4541638374186205,0.46479804475973713,0.47543225210085377,0.4860664594419705,0.49670066678308716,0.5073348741242039,0.5179690814653204,0.5286032888064371,0.5392374961475537,0.5498717034886704,0.5605059108297872,0.5711401181709037,0.5817743255120205,0.5924085328531372,0.6030427401942537,0.6136769475353705,0.624311154876487,0.6349453622176038,0.6455795695587205,0.6562137768998371,0.6668479842409538,0.6774821915820703,0.6881163989231871,0.6987506062643036,0.7093848136054204,0.7200190209465369,0.7306532282876537,0.7412874356287704,0.751921642969887,0.7625558503110037,0.7731900576521202,0.783824264993237,0.7944584723343535,0.8050926796754703,0.815726887016587,0.8263610943577038,0.8369953016988203,0.8476295090399371,0.8582637163810538,0.8688979237221703,0.8795321310632871,0.8901663384044036,0.9008005457455204,0.9114347530866369,0.9220689604277537,0.9327031677688704,0.9433373751099869,0.9539715824511037,0.9646057897922202,0.975239997133337,0.9858742044744535,0.9965084118155703,1.007142619156687,1.0177768264978038,1.0284110338389203,1.039045241180037,1.0496794485211538,1.0603136558622703,1.070947863203387,1.0815820705445036,1.0922162778856204,1.102850485226737,1.1134846925678537,1.1241188999089704,1.134753107250087,1.1453873145912037,1.1560215219323202,1.166655729273437,1.1772899366145535,1.1879241439556703,1.1985583512967868,1.2091925586379035,1.2198267659790203,1.2304609733201368,1.2410951806612536,1.25172938800237,1.2623635953434869,1.2729978026846036,1.2836320100257201,1.294266217366837,1.3049004247079536,1.3155346320490702,1.326168839390187,1.3368030467313037,1.3474372540724202,1.3580714614135367,1.3687056687546537,1.3793398760957702,1.3899740834368868,1.4006082907780033,1.4112424981191203,1.4218767054602368,1.4325109128013533,1.4431451201424703,1.4537793274835868,1.4644135348247034,1.4750477421658201,1.4856819495069369,1.4963161568480534,1.5069503641891702,1.517584571530287,1.5282187788714034,1.5388529862125202,1.5494871935536367,1.5601214008947535,1.5707556082358702,1.5813898155769868,1.5920240229181033,1.6026582302592203,1.6132924376003368,1.6239266449414533,1.6345608522825703,1.6451950596236868,1.6558292669648034,1.66646347430592,1.6770976816470369,1.6877318889881534,1.69836609632927,1.709000303670387,1.7196345110115034,1.73026871835262,1.7409029256937365,1.7515371330348535,1.76217134037597,1.7728055477170868,1.7834397550582033,1.79407396239932,1.8047081697404368,1.8153423770815533,1.82597658442267,1.8366107917637868,1.8472449991049034,1.8578792064460197,1.8685134137871369,1.8791476211282532,1.88978182846937,1.9004160358104867,1.9110502431516034,1.9216844504927202,1.9323186578338365,1.9429528651749532,1.95358707251607,1.9642212798571868],\"type\":\"scatter\"}],                        {\"hovermode\":\"closest\",\"title\":{\"text\":\"Stacked Linear Models for All Outcomes\"},\"xaxis\":{\"title\":{\"text\":\"Crit Chance\"}},\"yaxis\":{\"title\":{\"text\":\"Outcomes\"},\"type\":\"linear\"},\"template\":{\"data\":{\"histogram2dcontour\":[{\"type\":\"histogram2dcontour\",\"colorbar\":{\"outlinewidth\":0,\"ticks\":\"\"},\"colorscale\":[[0.0,\"#0d0887\"],[0.1111111111111111,\"#46039f\"],[0.2222222222222222,\"#7201a8\"],[0.3333333333333333,\"#9c179e\"],[0.4444444444444444,\"#bd3786\"],[0.5555555555555556,\"#d8576b\"],[0.6666666666666666,\"#ed7953\"],[0.7777777777777778,\"#fb9f3a\"],[0.8888888888888888,\"#fdca26\"],[1.0,\"#f0f921\"]]}],\"choropleth\":[{\"type\":\"choropleth\",\"colorbar\":{\"outlinewidth\":0,\"ticks\":\"\"}}],\"histogram2d\":[{\"type\":\"histogram2d\",\"colorbar\":{\"outlinewidth\":0,\"ticks\":\"\"},\"colorscale\":[[0.0,\"#0d0887\"],[0.1111111111111111,\"#46039f\"],[0.2222222222222222,\"#7201a8\"],[0.3333333333333333,\"#9c179e\"],[0.4444444444444444,\"#bd3786\"],[0.5555555555555556,\"#d8576b\"],[0.6666666666666666,\"#ed7953\"],[0.7777777777777778,\"#fb9f3a\"],[0.8888888888888888,\"#fdca26\"],[1.0,\"#f0f921\"]]}],\"heatmap\":[{\"type\":\"heatmap\",\"colorbar\":{\"outlinewidth\":0,\"ticks\":\"\"},\"colorscale\":[[0.0,\"#0d0887\"],[0.1111111111111111,\"#46039f\"],[0.2222222222222222,\"#7201a8\"],[0.3333333333333333,\"#9c179e\"],[0.4444444444444444,\"#bd3786\"],[0.5555555555555556,\"#d8576b\"],[0.6666666666666666,\"#ed7953\"],[0.7777777777777778,\"#fb9f3a\"],[0.8888888888888888,\"#fdca26\"],[1.0,\"#f0f921\"]]}],\"heatmapgl\":[{\"type\":\"heatmapgl\",\"colorbar\":{\"outlinewidth\":0,\"ticks\":\"\"},\"colorscale\":[[0.0,\"#0d0887\"],[0.1111111111111111,\"#46039f\"],[0.2222222222222222,\"#7201a8\"],[0.3333333333333333,\"#9c179e\"],[0.4444444444444444,\"#bd3786\"],[0.5555555555555556,\"#d8576b\"],[0.6666666666666666,\"#ed7953\"],[0.7777777777777778,\"#fb9f3a\"],[0.8888888888888888,\"#fdca26\"],[1.0,\"#f0f921\"]]}],\"contourcarpet\":[{\"type\":\"contourcarpet\",\"colorbar\":{\"outlinewidth\":0,\"ticks\":\"\"}}],\"contour\":[{\"type\":\"contour\",\"colorbar\":{\"outlinewidth\":0,\"ticks\":\"\"},\"colorscale\":[[0.0,\"#0d0887\"],[0.1111111111111111,\"#46039f\"],[0.2222222222222222,\"#7201a8\"],[0.3333333333333333,\"#9c179e\"],[0.4444444444444444,\"#bd3786\"],[0.5555555555555556,\"#d8576b\"],[0.6666666666666666,\"#ed7953\"],[0.7777777777777778,\"#fb9f3a\"],[0.8888888888888888,\"#fdca26\"],[1.0,\"#f0f921\"]]}],\"surface\":[{\"type\":\"surface\",\"colorbar\":{\"outlinewidth\":0,\"ticks\":\"\"},\"colorscale\":[[0.0,\"#0d0887\"],[0.1111111111111111,\"#46039f\"],[0.2222222222222222,\"#7201a8\"],[0.3333333333333333,\"#9c179e\"],[0.4444444444444444,\"#bd3786\"],[0.5555555555555556,\"#d8576b\"],[0.6666666666666666,\"#ed7953\"],[0.7777777777777778,\"#fb9f3a\"],[0.8888888888888888,\"#fdca26\"],[1.0,\"#f0f921\"]]}],\"mesh3d\":[{\"type\":\"mesh3d\",\"colorbar\":{\"outlinewidth\":0,\"ticks\":\"\"}}],\"scatter\":[{\"fillpattern\":{\"fillmode\":\"overlay\",\"size\":10,\"solidity\":0.2},\"type\":\"scatter\"}],\"parcoords\":[{\"type\":\"parcoords\",\"line\":{\"colorbar\":{\"outlinewidth\":0,\"ticks\":\"\"}}}],\"scatterpolargl\":[{\"type\":\"scatterpolargl\",\"marker\":{\"colorbar\":{\"outlinewidth\":0,\"ticks\":\"\"}}}],\"bar\":[{\"error_x\":{\"color\":\"#2a3f5f\"},\"error_y\":{\"color\":\"#2a3f5f\"},\"marker\":{\"line\":{\"color\":\"#E5ECF6\",\"width\":0.5},\"pattern\":{\"fillmode\":\"overlay\",\"size\":10,\"solidity\":0.2}},\"type\":\"bar\"}],\"scattergeo\":[{\"type\":\"scattergeo\",\"marker\":{\"colorbar\":{\"outlinewidth\":0,\"ticks\":\"\"}}}],\"scatterpolar\":[{\"type\":\"scatterpolar\",\"marker\":{\"colorbar\":{\"outlinewidth\":0,\"ticks\":\"\"}}}],\"histogram\":[{\"marker\":{\"pattern\":{\"fillmode\":\"overlay\",\"size\":10,\"solidity\":0.2}},\"type\":\"histogram\"}],\"scattergl\":[{\"type\":\"scattergl\",\"marker\":{\"colorbar\":{\"outlinewidth\":0,\"ticks\":\"\"}}}],\"scatter3d\":[{\"type\":\"scatter3d\",\"line\":{\"colorbar\":{\"outlinewidth\":0,\"ticks\":\"\"}},\"marker\":{\"colorbar\":{\"outlinewidth\":0,\"ticks\":\"\"}}}],\"scattermapbox\":[{\"type\":\"scattermapbox\",\"marker\":{\"colorbar\":{\"outlinewidth\":0,\"ticks\":\"\"}}}],\"scatterternary\":[{\"type\":\"scatterternary\",\"marker\":{\"colorbar\":{\"outlinewidth\":0,\"ticks\":\"\"}}}],\"scattercarpet\":[{\"type\":\"scattercarpet\",\"marker\":{\"colorbar\":{\"outlinewidth\":0,\"ticks\":\"\"}}}],\"carpet\":[{\"aaxis\":{\"endlinecolor\":\"#2a3f5f\",\"gridcolor\":\"white\",\"linecolor\":\"white\",\"minorgridcolor\":\"white\",\"startlinecolor\":\"#2a3f5f\"},\"baxis\":{\"endlinecolor\":\"#2a3f5f\",\"gridcolor\":\"white\",\"linecolor\":\"white\",\"minorgridcolor\":\"white\",\"startlinecolor\":\"#2a3f5f\"},\"type\":\"carpet\"}],\"table\":[{\"cells\":{\"fill\":{\"color\":\"#EBF0F8\"},\"line\":{\"color\":\"white\"}},\"header\":{\"fill\":{\"color\":\"#C8D4E3\"},\"line\":{\"color\":\"white\"}},\"type\":\"table\"}],\"barpolar\":[{\"marker\":{\"line\":{\"color\":\"#E5ECF6\",\"width\":0.5},\"pattern\":{\"fillmode\":\"overlay\",\"size\":10,\"solidity\":0.2}},\"type\":\"barpolar\"}],\"pie\":[{\"automargin\":true,\"type\":\"pie\"}]},\"layout\":{\"autotypenumbers\":\"strict\",\"colorway\":[\"#636efa\",\"#EF553B\",\"#00cc96\",\"#ab63fa\",\"#FFA15A\",\"#19d3f3\",\"#FF6692\",\"#B6E880\",\"#FF97FF\",\"#FECB52\"],\"font\":{\"color\":\"#2a3f5f\"},\"hovermode\":\"closest\",\"hoverlabel\":{\"align\":\"left\"},\"paper_bgcolor\":\"white\",\"plot_bgcolor\":\"#E5ECF6\",\"polar\":{\"bgcolor\":\"#E5ECF6\",\"angularaxis\":{\"gridcolor\":\"white\",\"linecolor\":\"white\",\"ticks\":\"\"},\"radialaxis\":{\"gridcolor\":\"white\",\"linecolor\":\"white\",\"ticks\":\"\"}},\"ternary\":{\"bgcolor\":\"#E5ECF6\",\"aaxis\":{\"gridcolor\":\"white\",\"linecolor\":\"white\",\"ticks\":\"\"},\"baxis\":{\"gridcolor\":\"white\",\"linecolor\":\"white\",\"ticks\":\"\"},\"caxis\":{\"gridcolor\":\"white\",\"linecolor\":\"white\",\"ticks\":\"\"}},\"coloraxis\":{\"colorbar\":{\"outlinewidth\":0,\"ticks\":\"\"}},\"colorscale\":{\"sequential\":[[0.0,\"#0d0887\"],[0.1111111111111111,\"#46039f\"],[0.2222222222222222,\"#7201a8\"],[0.3333333333333333,\"#9c179e\"],[0.4444444444444444,\"#bd3786\"],[0.5555555555555556,\"#d8576b\"],[0.6666666666666666,\"#ed7953\"],[0.7777777777777778,\"#fb9f3a\"],[0.8888888888888888,\"#fdca26\"],[1.0,\"#f0f921\"]],\"sequentialminus\":[[0.0,\"#0d0887\"],[0.1111111111111111,\"#46039f\"],[0.2222222222222222,\"#7201a8\"],[0.3333333333333333,\"#9c179e\"],[0.4444444444444444,\"#bd3786\"],[0.5555555555555556,\"#d8576b\"],[0.6666666666666666,\"#ed7953\"],[0.7777777777777778,\"#fb9f3a\"],[0.8888888888888888,\"#fdca26\"],[1.0,\"#f0f921\"]],\"diverging\":[[0,\"#8e0152\"],[0.1,\"#c51b7d\"],[0.2,\"#de77ae\"],[0.3,\"#f1b6da\"],[0.4,\"#fde0ef\"],[0.5,\"#f7f7f7\"],[0.6,\"#e6f5d0\"],[0.7,\"#b8e186\"],[0.8,\"#7fbc41\"],[0.9,\"#4d9221\"],[1,\"#276419\"]]},\"xaxis\":{\"gridcolor\":\"white\",\"linecolor\":\"white\",\"ticks\":\"\",\"title\":{\"standoff\":15},\"zerolinecolor\":\"white\",\"automargin\":true,\"zerolinewidth\":2},\"yaxis\":{\"gridcolor\":\"white\",\"linecolor\":\"white\",\"ticks\":\"\",\"title\":{\"standoff\":15},\"zerolinecolor\":\"white\",\"automargin\":true,\"zerolinewidth\":2},\"scene\":{\"xaxis\":{\"backgroundcolor\":\"#E5ECF6\",\"gridcolor\":\"white\",\"linecolor\":\"white\",\"showbackground\":true,\"ticks\":\"\",\"zerolinecolor\":\"white\",\"gridwidth\":2},\"yaxis\":{\"backgroundcolor\":\"#E5ECF6\",\"gridcolor\":\"white\",\"linecolor\":\"white\",\"showbackground\":true,\"ticks\":\"\",\"zerolinecolor\":\"white\",\"gridwidth\":2},\"zaxis\":{\"backgroundcolor\":\"#E5ECF6\",\"gridcolor\":\"white\",\"linecolor\":\"white\",\"showbackground\":true,\"ticks\":\"\",\"zerolinecolor\":\"white\",\"gridwidth\":2}},\"shapedefaults\":{\"line\":{\"color\":\"#2a3f5f\"}},\"annotationdefaults\":{\"arrowcolor\":\"#2a3f5f\",\"arrowhead\":0,\"arrowwidth\":1},\"geo\":{\"bgcolor\":\"white\",\"landcolor\":\"#E5ECF6\",\"subunitcolor\":\"white\",\"showland\":true,\"showlakes\":true,\"lakecolor\":\"white\"},\"title\":{\"x\":0.05},\"mapbox\":{\"style\":\"light\"}}}},                        {\"responsive\": true}                    ).then(function(){\n",
       "                            \n",
       "var gd = document.getElementById('53c4d00f-40b5-4403-b66c-c761bc910618');\n",
       "var x = new MutationObserver(function (mutations, observer) {{\n",
       "        var display = window.getComputedStyle(gd).display;\n",
       "        if (!display || display === 'none') {{\n",
       "            console.log([gd, 'removed!']);\n",
       "            Plotly.purge(gd);\n",
       "            observer.disconnect();\n",
       "        }}\n",
       "}});\n",
       "\n",
       "// Listen for the removal of the full notebook cells\n",
       "var notebookContainer = gd.closest('#notebook-container');\n",
       "if (notebookContainer) {{\n",
       "    x.observe(notebookContainer, {childList: true});\n",
       "}}\n",
       "\n",
       "// Listen for the clearing of the current output cell\n",
       "var outputEl = gd.closest('.output');\n",
       "if (outputEl) {{\n",
       "    x.observe(outputEl, {childList: true});\n",
       "}}\n",
       "\n",
       "                        })                };                });            </script>        </div>"
      ]
     },
     "metadata": {},
     "output_type": "display_data"
    },
    {
     "data": {
      "text/html": [
       "        <script type=\"text/javascript\">\n",
       "        window.PlotlyConfig = {MathJaxConfig: 'local'};\n",
       "        if (window.MathJax && window.MathJax.Hub && window.MathJax.Hub.Config) {window.MathJax.Hub.Config({SVG: {font: \"STIX-Web\"}});}\n",
       "        if (typeof require !== 'undefined') {\n",
       "        require.undef(\"plotly\");\n",
       "        requirejs.config({\n",
       "            paths: {\n",
       "                'plotly': ['https://cdn.plot.ly/plotly-2.20.0.min']\n",
       "            }\n",
       "        });\n",
       "        require(['plotly'], function(Plotly) {\n",
       "            window._Plotly = Plotly;\n",
       "        });\n",
       "        }\n",
       "        </script>\n",
       "        "
      ]
     },
     "metadata": {},
     "output_type": "display_data"
    },
    {
     "data": {
      "application/vnd.plotly.v1+json": {
       "config": {
        "linkText": "Export to plot.ly",
        "plotlyServerURL": "https://plot.ly",
        "showLink": false
       },
       "data": [
        {
         "line": {
          "color": "red"
         },
         "mode": "lines",
         "name": "LinearRegression - Legendary",
         "type": "scatter",
         "x": [
          0,
          30.150753768844222,
          60.301507537688444,
          90.45226130653266,
          120.60301507537689,
          150.7537688442211,
          180.90452261306532,
          211.05527638190955,
          241.20603015075378,
          271.356783919598,
          301.5075376884422,
          331.65829145728645,
          361.80904522613065,
          391.9597989949749,
          422.1105527638191,
          452.26130653266335,
          482.41206030150755,
          512.5628140703518,
          542.713567839196,
          572.8643216080402,
          603.0150753768844,
          633.1658291457287,
          663.3165829145729,
          693.4673366834171,
          723.6180904522613,
          753.7688442211055,
          783.9195979899498,
          814.070351758794,
          844.2211055276382,
          874.3718592964824,
          904.5226130653267,
          934.6733668341709,
          964.8241206030151,
          994.9748743718593,
          1025.1256281407036,
          1055.2763819095478,
          1085.427135678392,
          1115.5778894472362,
          1145.7286432160804,
          1175.8793969849246,
          1206.0301507537688,
          1236.180904522613,
          1266.3316582914574,
          1296.4824120603016,
          1326.6331658291458,
          1356.78391959799,
          1386.9346733668342,
          1417.0854271356784,
          1447.2361809045226,
          1477.3869346733668,
          1507.537688442211,
          1537.6884422110554,
          1567.8391959798996,
          1597.9899497487438,
          1628.140703517588,
          1658.2914572864322,
          1688.4422110552764,
          1718.5929648241206,
          1748.7437185929648,
          1778.894472361809,
          1809.0452261306534,
          1839.1959798994976,
          1869.3467336683418,
          1899.497487437186,
          1929.6482412060302,
          1959.7989949748744,
          1989.9497487437186,
          2020.1005025125628,
          2050.251256281407,
          2080.402010050251,
          2110.5527638190956,
          2140.7035175879396,
          2170.854271356784,
          2201.005025125628,
          2231.1557788944724,
          2261.306532663317,
          2291.457286432161,
          2321.608040201005,
          2351.758793969849,
          2381.9095477386936,
          2412.0603015075376,
          2442.211055276382,
          2472.361809045226,
          2502.5125628140704,
          2532.663316582915,
          2562.814070351759,
          2592.964824120603,
          2623.115577889447,
          2653.2663316582916,
          2683.4170854271356,
          2713.56783919598,
          2743.718592964824,
          2773.8693467336684,
          2804.020100502513,
          2834.170854271357,
          2864.321608040201,
          2894.472361809045,
          2924.6231155778896,
          2954.7738693467336,
          2984.924623115578,
          3015.075376884422,
          3045.2261306532664,
          3075.376884422111,
          3105.527638190955,
          3135.6783919597992,
          3165.829145728643,
          3195.9798994974876,
          3226.1306532663316,
          3256.281407035176,
          3286.43216080402,
          3316.5829145728644,
          3346.733668341709,
          3376.884422110553,
          3407.0351758793972,
          3437.185929648241,
          3467.3366834170856,
          3497.4874371859296,
          3527.638190954774,
          3557.788944723618,
          3587.9396984924624,
          3618.090452261307,
          3648.241206030151,
          3678.3919597989952,
          3708.542713567839,
          3738.6934673366836,
          3768.8442211055276,
          3798.994974874372,
          3829.145728643216,
          3859.2964824120604,
          3889.447236180905,
          3919.597989949749,
          3949.7487437185932,
          3979.899497487437,
          4010.0502512562816,
          4040.2010050251256,
          4070.35175879397,
          4100.502512562814,
          4130.653266331658,
          4160.804020100502,
          4190.954773869347,
          4221.105527638191,
          4251.256281407035,
          4281.407035175879,
          4311.557788944724,
          4341.708542713568,
          4371.859296482412,
          4402.010050251256,
          4432.160804020101,
          4462.311557788945,
          4492.462311557789,
          4522.613065326634,
          4552.763819095478,
          4582.914572864322,
          4613.065326633166,
          4643.21608040201,
          4673.366834170854,
          4703.517587939698,
          4733.668341708543,
          4763.819095477387,
          4793.969849246231,
          4824.120603015075,
          4854.27135678392,
          4884.422110552764,
          4914.572864321608,
          4944.723618090452,
          4974.874371859297,
          5005.025125628141,
          5035.175879396985,
          5065.32663316583,
          5095.477386934674,
          5125.628140703518,
          5155.778894472362,
          5185.929648241206,
          5216.08040201005,
          5246.231155778894,
          5276.381909547739,
          5306.532663316583,
          5336.683417085427,
          5366.834170854271,
          5396.984924623116,
          5427.13567839196,
          5457.286432160804,
          5487.437185929648,
          5517.587939698493,
          5547.738693467337,
          5577.889447236181,
          5608.040201005026,
          5638.19095477387,
          5668.341708542714,
          5698.492462311558,
          5728.643216080402,
          5758.793969849246,
          5788.94472361809,
          5819.095477386935,
          5849.246231155779,
          5879.396984924623,
          5909.547738693467,
          5939.698492462312,
          5969.849246231156,
          6000
         ],
         "y": [
          1.93737847370631,
          2.042861028106529,
          2.1483435825067474,
          2.2538261369069663,
          2.3593086913071852,
          2.4647912457074037,
          2.5702738001076226,
          2.6757563545078416,
          2.7812389089080605,
          2.8867214633082794,
          2.992204017708498,
          3.097686572108717,
          3.2031691265089357,
          3.308651680909154,
          3.414134235309373,
          3.519616789709592,
          3.6250993441098105,
          3.73058189851003,
          3.8360644529102483,
          3.9415470073104673,
          4.047029561710685,
          4.1525121161109055,
          4.257994670511124,
          4.3634772249113425,
          4.468959779311561,
          4.574442333711779,
          4.679924888111999,
          4.785407442512218,
          4.890889996912437,
          4.996372551312655,
          5.101855105712874,
          5.207337660113093,
          5.312820214513311,
          5.418302768913531,
          5.523785323313749,
          5.629267877713968,
          5.734750432114187,
          5.840232986514406,
          5.945715540914625,
          6.051198095314843,
          6.156680649715062,
          6.26216320411528,
          6.367645758515501,
          6.473128312915719,
          6.578610867315938,
          6.684093421716156,
          6.7895759761163745,
          6.895058530516593,
          7.0005410849168115,
          7.106023639317032,
          7.21150619371725,
          7.316988748117469,
          7.422471302517687,
          7.527953856917907,
          7.633436411318126,
          7.738918965718344,
          7.844401520118563,
          7.949884074518781,
          8.055366628919,
          8.160849183319218,
          8.266331737719439,
          8.371814292119657,
          8.477296846519875,
          8.582779400920094,
          8.688261955320312,
          8.793744509720533,
          8.899227064120751,
          9.00470961852097,
          9.110192172921188,
          9.215674727321407,
          9.321157281721627,
          9.426639836121844,
          9.532122390522064,
          9.637604944922282,
          9.7430874993225,
          9.848570053722721,
          9.95405260812294,
          10.059535162523158,
          10.165017716923376,
          10.270500271323597,
          10.375982825723813,
          10.481465380124034,
          10.586947934524252,
          10.69243048892447,
          10.79791304332469,
          10.903395597724908,
          11.008878152125128,
          11.114360706525346,
          11.219843260925565,
          11.325325815325783,
          11.430808369726003,
          11.53629092412622,
          11.64177347852644,
          11.747256032926659,
          11.852738587326877,
          11.958221141727098,
          12.063703696127314,
          12.169186250527535,
          12.274668804927753,
          12.380151359327972,
          12.48563391372819,
          12.59111646812841,
          12.696599022528629,
          12.802081576928847,
          12.907564131329066,
          13.013046685729284,
          13.118529240129504,
          13.224011794529721,
          13.329494348929941,
          13.43497690333016,
          13.540459457730378,
          13.645942012130599,
          13.751424566530815,
          13.856907120931035,
          13.962389675331254,
          14.067872229731472,
          14.173354784131691,
          14.278837338531911,
          14.384319892932128,
          14.489802447332348,
          14.595285001732567,
          14.700767556132785,
          14.806250110533005,
          14.911732664933222,
          15.017215219333442,
          15.12269777373366,
          15.22818032813388,
          15.333662882534098,
          15.439145436934316,
          15.544627991334536,
          15.650110545734755,
          15.755593100134973,
          15.861075654535192,
          15.966558208935412,
          16.07204076333563,
          16.177523317735847,
          16.283005872136066,
          16.388488426536284,
          16.493970980936503,
          16.599453535336725,
          16.704936089736943,
          16.81041864413716,
          16.915901198537377,
          17.0213837529376,
          17.126866307337817,
          17.232348861738036,
          17.337831416138254,
          17.443313970538473,
          17.54879652493869,
          17.65427907933891,
          17.75976163373913,
          17.86524418813935,
          17.97072674253957,
          18.076209296939787,
          18.181691851340005,
          18.287174405740224,
          18.392656960140442,
          18.498139514540664,
          18.603622068940883,
          18.709104623341098,
          18.814587177741316,
          18.92006973214154,
          19.025552286541757,
          19.131034840941975,
          19.236517395342194,
          19.341999949742412,
          19.44748250414263,
          19.55296505854285,
          19.65844761294307,
          19.76393016734329,
          19.869412721743505,
          19.974895276143723,
          20.080377830543945,
          20.185860384944164,
          20.291342939344382,
          20.3968254937446,
          20.50230804814482,
          20.607790602545037,
          20.713273156945256,
          20.818755711345478,
          20.924238265745696,
          21.02972082014591,
          21.13520337454613,
          21.240685928946352,
          21.34616848334657,
          21.45165103774679,
          21.557133592147007,
          21.662616146547226,
          21.768098700947444,
          21.873581255347663,
          21.979063809747885,
          22.084546364148103,
          22.190028918548318,
          22.29551147294854,
          22.40099402734876,
          22.506476581748977,
          22.611959136149196,
          22.717441690549414,
          22.822924244949633,
          22.92840679934985
         ]
        },
        {
         "line": {
          "color": "blue"
         },
         "mode": "lines",
         "name": "LinearRegression - Fabled",
         "type": "scatter",
         "x": [
          0,
          30.150753768844222,
          60.301507537688444,
          90.45226130653266,
          120.60301507537689,
          150.7537688442211,
          180.90452261306532,
          211.05527638190955,
          241.20603015075378,
          271.356783919598,
          301.5075376884422,
          331.65829145728645,
          361.80904522613065,
          391.9597989949749,
          422.1105527638191,
          452.26130653266335,
          482.41206030150755,
          512.5628140703518,
          542.713567839196,
          572.8643216080402,
          603.0150753768844,
          633.1658291457287,
          663.3165829145729,
          693.4673366834171,
          723.6180904522613,
          753.7688442211055,
          783.9195979899498,
          814.070351758794,
          844.2211055276382,
          874.3718592964824,
          904.5226130653267,
          934.6733668341709,
          964.8241206030151,
          994.9748743718593,
          1025.1256281407036,
          1055.2763819095478,
          1085.427135678392,
          1115.5778894472362,
          1145.7286432160804,
          1175.8793969849246,
          1206.0301507537688,
          1236.180904522613,
          1266.3316582914574,
          1296.4824120603016,
          1326.6331658291458,
          1356.78391959799,
          1386.9346733668342,
          1417.0854271356784,
          1447.2361809045226,
          1477.3869346733668,
          1507.537688442211,
          1537.6884422110554,
          1567.8391959798996,
          1597.9899497487438,
          1628.140703517588,
          1658.2914572864322,
          1688.4422110552764,
          1718.5929648241206,
          1748.7437185929648,
          1778.894472361809,
          1809.0452261306534,
          1839.1959798994976,
          1869.3467336683418,
          1899.497487437186,
          1929.6482412060302,
          1959.7989949748744,
          1989.9497487437186,
          2020.1005025125628,
          2050.251256281407,
          2080.402010050251,
          2110.5527638190956,
          2140.7035175879396,
          2170.854271356784,
          2201.005025125628,
          2231.1557788944724,
          2261.306532663317,
          2291.457286432161,
          2321.608040201005,
          2351.758793969849,
          2381.9095477386936,
          2412.0603015075376,
          2442.211055276382,
          2472.361809045226,
          2502.5125628140704,
          2532.663316582915,
          2562.814070351759,
          2592.964824120603,
          2623.115577889447,
          2653.2663316582916,
          2683.4170854271356,
          2713.56783919598,
          2743.718592964824,
          2773.8693467336684,
          2804.020100502513,
          2834.170854271357,
          2864.321608040201,
          2894.472361809045,
          2924.6231155778896,
          2954.7738693467336,
          2984.924623115578,
          3015.075376884422,
          3045.2261306532664,
          3075.376884422111,
          3105.527638190955,
          3135.6783919597992,
          3165.829145728643,
          3195.9798994974876,
          3226.1306532663316,
          3256.281407035176,
          3286.43216080402,
          3316.5829145728644,
          3346.733668341709,
          3376.884422110553,
          3407.0351758793972,
          3437.185929648241,
          3467.3366834170856,
          3497.4874371859296,
          3527.638190954774,
          3557.788944723618,
          3587.9396984924624,
          3618.090452261307,
          3648.241206030151,
          3678.3919597989952,
          3708.542713567839,
          3738.6934673366836,
          3768.8442211055276,
          3798.994974874372,
          3829.145728643216,
          3859.2964824120604,
          3889.447236180905,
          3919.597989949749,
          3949.7487437185932,
          3979.899497487437,
          4010.0502512562816,
          4040.2010050251256,
          4070.35175879397,
          4100.502512562814,
          4130.653266331658,
          4160.804020100502,
          4190.954773869347,
          4221.105527638191,
          4251.256281407035,
          4281.407035175879,
          4311.557788944724,
          4341.708542713568,
          4371.859296482412,
          4402.010050251256,
          4432.160804020101,
          4462.311557788945,
          4492.462311557789,
          4522.613065326634,
          4552.763819095478,
          4582.914572864322,
          4613.065326633166,
          4643.21608040201,
          4673.366834170854,
          4703.517587939698,
          4733.668341708543,
          4763.819095477387,
          4793.969849246231,
          4824.120603015075,
          4854.27135678392,
          4884.422110552764,
          4914.572864321608,
          4944.723618090452,
          4974.874371859297,
          5005.025125628141,
          5035.175879396985,
          5065.32663316583,
          5095.477386934674,
          5125.628140703518,
          5155.778894472362,
          5185.929648241206,
          5216.08040201005,
          5246.231155778894,
          5276.381909547739,
          5306.532663316583,
          5336.683417085427,
          5366.834170854271,
          5396.984924623116,
          5427.13567839196,
          5457.286432160804,
          5487.437185929648,
          5517.587939698493,
          5547.738693467337,
          5577.889447236181,
          5608.040201005026,
          5638.19095477387,
          5668.341708542714,
          5698.492462311558,
          5728.643216080402,
          5758.793969849246,
          5788.94472361809,
          5819.095477386935,
          5849.246231155779,
          5879.396984924623,
          5909.547738693467,
          5939.698492462312,
          5969.849246231156,
          6000
         ],
         "y": [
          -0.05939303148823383,
          0.0003457339157926301,
          0.06008449931981909,
          0.11982326472384555,
          0.179562030127872,
          0.23930079553189842,
          0.29903956093592493,
          0.3587783263399514,
          0.41851709174397783,
          0.47825585714800434,
          0.5379946225520307,
          0.5977333879560572,
          0.6574721533600837,
          0.7172109187641101,
          0.7769496841681366,
          0.836688449572163,
          0.8964272149761895,
          0.956165980380216,
          1.0159047457842425,
          1.0756435111882687,
          1.1353822765922952,
          1.1951210419963219,
          1.2548598074003483,
          1.3145985728043748,
          1.3743373382084012,
          1.4340761036124274,
          1.493814869016454,
          1.5535536344204806,
          1.613292399824507,
          1.6730311652285335,
          1.73276993063256,
          1.7925086960365864,
          1.8522474614406128,
          1.9119862268446393,
          1.971724992248666,
          2.031463757652692,
          2.091202523056719,
          2.150941288460745,
          2.2106800538647713,
          2.270418819268798,
          2.330157584672824,
          2.389896350076851,
          2.4496351154808775,
          2.5093738808849038,
          2.5691126462889304,
          2.6288514116929567,
          2.6885901770969833,
          2.7483289425010096,
          2.8080677079050362,
          2.8678064733090625,
          2.9275452387130887,
          2.987284004117116,
          3.047022769521142,
          3.1067615349251687,
          3.166500300329195,
          3.226239065733221,
          3.285977831137248,
          3.345716596541274,
          3.4054553619453007,
          3.465194127349327,
          3.5249328927533536,
          3.5846716581573803,
          3.6444104235614065,
          3.704149188965433,
          3.7638879543694594,
          3.8236267197734857,
          3.8833654851775123,
          3.943104250581539,
          4.002843015985565,
          4.062581781389591,
          4.122320546793619,
          4.182059312197644,
          4.241798077601672,
          4.301536843005698,
          4.3612756084097235,
          4.421014373813751,
          4.480753139217777,
          4.540491904621804,
          4.60023067002583,
          4.659969435429856,
          4.719708200833882,
          4.779446966237909,
          4.839185731641935,
          4.898924497045963,
          4.9586632624499885,
          5.018402027854014,
          5.078140793258042,
          5.137879558662068,
          5.197618324066095,
          5.257357089470121,
          5.317095854874147,
          5.3768346202781725,
          5.4365733856822,
          5.496312151086228,
          5.556050916490253,
          5.615789681894279,
          5.675528447298307,
          5.7352672127023325,
          5.795005978106358,
          5.854744743510386,
          5.914483508914412,
          5.974222274318439,
          6.033961039722465,
          6.093699805126491,
          6.153438570530518,
          6.213177335934544,
          6.272916101338572,
          6.3326548667425975,
          6.392393632146623,
          6.452132397550649,
          6.511871162954677,
          6.571609928358704,
          6.63134869376273,
          6.691087459166756,
          6.7508262245707815,
          6.810564989974809,
          6.870303755378835,
          6.930042520782862,
          6.989781286186888,
          7.049520051590914,
          7.1092588169949416,
          7.168997582398967,
          7.228736347802995,
          7.288475113207021,
          7.3482138786110465,
          7.407952644015072,
          7.4676914094191,
          7.527430174823126,
          7.587168940227153,
          7.646907705631179,
          7.706646471035205,
          7.766385236439232,
          7.826124001843258,
          7.885862767247286,
          7.945601532651311,
          8.005340298055337,
          8.065079063459365,
          8.12481782886339,
          8.184556594267416,
          8.244295359671444,
          8.30403412507547,
          8.363772890479495,
          8.423511655883521,
          8.48325042128755,
          8.542989186691576,
          8.602727952095602,
          8.662466717499628,
          8.722205482903655,
          8.781944248307681,
          8.841683013711707,
          8.901421779115735,
          8.96116054451976,
          9.020899309923786,
          9.080638075327814,
          9.140376840731841,
          9.200115606135867,
          9.259854371539893,
          9.31959313694392,
          9.379331902347946,
          9.439070667751972,
          9.498809433155998,
          9.558548198560025,
          9.618286963964051,
          9.678025729368079,
          9.737764494772104,
          9.797503260176132,
          9.857242025580158,
          9.916980790984184,
          9.976719556388211,
          10.036458321792237,
          10.096197087196263,
          10.155935852600289,
          10.215674618004316,
          10.275413383408344,
          10.33515214881237,
          10.394890914216397,
          10.454629679620423,
          10.514368445024449,
          10.574107210428474,
          10.633845975832502,
          10.693584741236528,
          10.753323506640553,
          10.81306227204458,
          10.872801037448609,
          10.932539802852634,
          10.99227856825666,
          11.052017333660688,
          11.111756099064714,
          11.17149486446874,
          11.231233629872765,
          11.290972395276793,
          11.350711160680818,
          11.410449926084846,
          11.470188691488874,
          11.5299274568929,
          11.589666222296925,
          11.649404987700951,
          11.709143753104978,
          11.768882518509004,
          11.82862128391303
         ]
        },
        {
         "line": {
          "color": "green"
         },
         "mode": "lines",
         "name": "LinearRegression - Mythical",
         "type": "scatter",
         "x": [
          0,
          30.150753768844222,
          60.301507537688444,
          90.45226130653266,
          120.60301507537689,
          150.7537688442211,
          180.90452261306532,
          211.05527638190955,
          241.20603015075378,
          271.356783919598,
          301.5075376884422,
          331.65829145728645,
          361.80904522613065,
          391.9597989949749,
          422.1105527638191,
          452.26130653266335,
          482.41206030150755,
          512.5628140703518,
          542.713567839196,
          572.8643216080402,
          603.0150753768844,
          633.1658291457287,
          663.3165829145729,
          693.4673366834171,
          723.6180904522613,
          753.7688442211055,
          783.9195979899498,
          814.070351758794,
          844.2211055276382,
          874.3718592964824,
          904.5226130653267,
          934.6733668341709,
          964.8241206030151,
          994.9748743718593,
          1025.1256281407036,
          1055.2763819095478,
          1085.427135678392,
          1115.5778894472362,
          1145.7286432160804,
          1175.8793969849246,
          1206.0301507537688,
          1236.180904522613,
          1266.3316582914574,
          1296.4824120603016,
          1326.6331658291458,
          1356.78391959799,
          1386.9346733668342,
          1417.0854271356784,
          1447.2361809045226,
          1477.3869346733668,
          1507.537688442211,
          1537.6884422110554,
          1567.8391959798996,
          1597.9899497487438,
          1628.140703517588,
          1658.2914572864322,
          1688.4422110552764,
          1718.5929648241206,
          1748.7437185929648,
          1778.894472361809,
          1809.0452261306534,
          1839.1959798994976,
          1869.3467336683418,
          1899.497487437186,
          1929.6482412060302,
          1959.7989949748744,
          1989.9497487437186,
          2020.1005025125628,
          2050.251256281407,
          2080.402010050251,
          2110.5527638190956,
          2140.7035175879396,
          2170.854271356784,
          2201.005025125628,
          2231.1557788944724,
          2261.306532663317,
          2291.457286432161,
          2321.608040201005,
          2351.758793969849,
          2381.9095477386936,
          2412.0603015075376,
          2442.211055276382,
          2472.361809045226,
          2502.5125628140704,
          2532.663316582915,
          2562.814070351759,
          2592.964824120603,
          2623.115577889447,
          2653.2663316582916,
          2683.4170854271356,
          2713.56783919598,
          2743.718592964824,
          2773.8693467336684,
          2804.020100502513,
          2834.170854271357,
          2864.321608040201,
          2894.472361809045,
          2924.6231155778896,
          2954.7738693467336,
          2984.924623115578,
          3015.075376884422,
          3045.2261306532664,
          3075.376884422111,
          3105.527638190955,
          3135.6783919597992,
          3165.829145728643,
          3195.9798994974876,
          3226.1306532663316,
          3256.281407035176,
          3286.43216080402,
          3316.5829145728644,
          3346.733668341709,
          3376.884422110553,
          3407.0351758793972,
          3437.185929648241,
          3467.3366834170856,
          3497.4874371859296,
          3527.638190954774,
          3557.788944723618,
          3587.9396984924624,
          3618.090452261307,
          3648.241206030151,
          3678.3919597989952,
          3708.542713567839,
          3738.6934673366836,
          3768.8442211055276,
          3798.994974874372,
          3829.145728643216,
          3859.2964824120604,
          3889.447236180905,
          3919.597989949749,
          3949.7487437185932,
          3979.899497487437,
          4010.0502512562816,
          4040.2010050251256,
          4070.35175879397,
          4100.502512562814,
          4130.653266331658,
          4160.804020100502,
          4190.954773869347,
          4221.105527638191,
          4251.256281407035,
          4281.407035175879,
          4311.557788944724,
          4341.708542713568,
          4371.859296482412,
          4402.010050251256,
          4432.160804020101,
          4462.311557788945,
          4492.462311557789,
          4522.613065326634,
          4552.763819095478,
          4582.914572864322,
          4613.065326633166,
          4643.21608040201,
          4673.366834170854,
          4703.517587939698,
          4733.668341708543,
          4763.819095477387,
          4793.969849246231,
          4824.120603015075,
          4854.27135678392,
          4884.422110552764,
          4914.572864321608,
          4944.723618090452,
          4974.874371859297,
          5005.025125628141,
          5035.175879396985,
          5065.32663316583,
          5095.477386934674,
          5125.628140703518,
          5155.778894472362,
          5185.929648241206,
          5216.08040201005,
          5246.231155778894,
          5276.381909547739,
          5306.532663316583,
          5336.683417085427,
          5366.834170854271,
          5396.984924623116,
          5427.13567839196,
          5457.286432160804,
          5487.437185929648,
          5517.587939698493,
          5547.738693467337,
          5577.889447236181,
          5608.040201005026,
          5638.19095477387,
          5668.341708542714,
          5698.492462311558,
          5728.643216080402,
          5758.793969849246,
          5788.94472361809,
          5819.095477386935,
          5849.246231155779,
          5879.396984924623,
          5909.547738693467,
          5939.698492462312,
          5969.849246231156,
          6000
         ],
         "y": [
          -0.1519859810250293,
          -0.14135177368391263,
          -0.13071756634279597,
          -0.12008335900167932,
          -0.10944915166056265,
          -0.09881494431944599,
          -0.08818073697832933,
          -0.07754652963721266,
          -0.066912322296096,
          -0.056278114954979336,
          -0.04564390761386268,
          -0.03500970027274601,
          -0.024375492931629356,
          -0.013741285590512686,
          -0.003107078249396017,
          0.007527129091720652,
          0.018161336432837294,
          0.028795543773953963,
          0.03942975111507063,
          0.050063958456187274,
          0.06069816579730394,
          0.07133237313842064,
          0.08196658047953728,
          0.09260078782065395,
          0.10323499516177059,
          0.11386920250288723,
          0.12450340984400393,
          0.13513761718512057,
          0.14577182452623727,
          0.1564060318673539,
          0.1670402392084706,
          0.17767444654958725,
          0.1883086538907039,
          0.19894286123182053,
          0.20957706857293723,
          0.22021127591405393,
          0.23084548325517057,
          0.2414796905962872,
          0.25211389793740385,
          0.26274810527852055,
          0.2733823126196372,
          0.28401651996075383,
          0.2946507273018706,
          0.3052849346429872,
          0.31591914198410387,
          0.3265533493252205,
          0.3371875566663372,
          0.34782176400745385,
          0.3584559713485705,
          0.36909017868968713,
          0.3797243860308038,
          0.3903585933719205,
          0.40099280071303717,
          0.4116270080541538,
          0.42226121539527045,
          0.4328954227363872,
          0.44352963007750384,
          0.4541638374186205,
          0.46479804475973713,
          0.47543225210085377,
          0.4860664594419705,
          0.49670066678308716,
          0.5073348741242039,
          0.5179690814653204,
          0.5286032888064371,
          0.5392374961475537,
          0.5498717034886704,
          0.5605059108297872,
          0.5711401181709037,
          0.5817743255120205,
          0.5924085328531372,
          0.6030427401942537,
          0.6136769475353705,
          0.624311154876487,
          0.6349453622176038,
          0.6455795695587205,
          0.6562137768998371,
          0.6668479842409538,
          0.6774821915820703,
          0.6881163989231871,
          0.6987506062643036,
          0.7093848136054204,
          0.7200190209465369,
          0.7306532282876537,
          0.7412874356287704,
          0.751921642969887,
          0.7625558503110037,
          0.7731900576521202,
          0.783824264993237,
          0.7944584723343535,
          0.8050926796754703,
          0.815726887016587,
          0.8263610943577038,
          0.8369953016988203,
          0.8476295090399371,
          0.8582637163810538,
          0.8688979237221703,
          0.8795321310632871,
          0.8901663384044036,
          0.9008005457455204,
          0.9114347530866369,
          0.9220689604277537,
          0.9327031677688704,
          0.9433373751099869,
          0.9539715824511037,
          0.9646057897922202,
          0.975239997133337,
          0.9858742044744535,
          0.9965084118155703,
          1.007142619156687,
          1.0177768264978038,
          1.0284110338389203,
          1.039045241180037,
          1.0496794485211538,
          1.0603136558622703,
          1.070947863203387,
          1.0815820705445036,
          1.0922162778856204,
          1.102850485226737,
          1.1134846925678537,
          1.1241188999089704,
          1.134753107250087,
          1.1453873145912037,
          1.1560215219323202,
          1.166655729273437,
          1.1772899366145535,
          1.1879241439556703,
          1.1985583512967868,
          1.2091925586379035,
          1.2198267659790203,
          1.2304609733201368,
          1.2410951806612536,
          1.25172938800237,
          1.2623635953434869,
          1.2729978026846036,
          1.2836320100257201,
          1.294266217366837,
          1.3049004247079536,
          1.3155346320490702,
          1.326168839390187,
          1.3368030467313037,
          1.3474372540724202,
          1.3580714614135367,
          1.3687056687546537,
          1.3793398760957702,
          1.3899740834368868,
          1.4006082907780033,
          1.4112424981191203,
          1.4218767054602368,
          1.4325109128013533,
          1.4431451201424703,
          1.4537793274835868,
          1.4644135348247034,
          1.4750477421658201,
          1.4856819495069369,
          1.4963161568480534,
          1.5069503641891702,
          1.517584571530287,
          1.5282187788714034,
          1.5388529862125202,
          1.5494871935536367,
          1.5601214008947535,
          1.5707556082358702,
          1.5813898155769868,
          1.5920240229181033,
          1.6026582302592203,
          1.6132924376003368,
          1.6239266449414533,
          1.6345608522825703,
          1.6451950596236868,
          1.6558292669648034,
          1.66646347430592,
          1.6770976816470369,
          1.6877318889881534,
          1.69836609632927,
          1.709000303670387,
          1.7196345110115034,
          1.73026871835262,
          1.7409029256937365,
          1.7515371330348535,
          1.76217134037597,
          1.7728055477170868,
          1.7834397550582033,
          1.79407396239932,
          1.8047081697404368,
          1.8153423770815533,
          1.82597658442267,
          1.8366107917637868,
          1.8472449991049034,
          1.8578792064460197,
          1.8685134137871369,
          1.8791476211282532,
          1.88978182846937,
          1.9004160358104867,
          1.9110502431516034,
          1.9216844504927202,
          1.9323186578338365,
          1.9429528651749532,
          1.95358707251607,
          1.9642212798571868
         ]
        }
       ],
       "layout": {
        "hovermode": "closest",
        "template": {
         "data": {
          "bar": [
           {
            "error_x": {
             "color": "#2a3f5f"
            },
            "error_y": {
             "color": "#2a3f5f"
            },
            "marker": {
             "line": {
              "color": "#E5ECF6",
              "width": 0.5
             },
             "pattern": {
              "fillmode": "overlay",
              "size": 10,
              "solidity": 0.2
             }
            },
            "type": "bar"
           }
          ],
          "barpolar": [
           {
            "marker": {
             "line": {
              "color": "#E5ECF6",
              "width": 0.5
             },
             "pattern": {
              "fillmode": "overlay",
              "size": 10,
              "solidity": 0.2
             }
            },
            "type": "barpolar"
           }
          ],
          "carpet": [
           {
            "aaxis": {
             "endlinecolor": "#2a3f5f",
             "gridcolor": "white",
             "linecolor": "white",
             "minorgridcolor": "white",
             "startlinecolor": "#2a3f5f"
            },
            "baxis": {
             "endlinecolor": "#2a3f5f",
             "gridcolor": "white",
             "linecolor": "white",
             "minorgridcolor": "white",
             "startlinecolor": "#2a3f5f"
            },
            "type": "carpet"
           }
          ],
          "choropleth": [
           {
            "colorbar": {
             "outlinewidth": 0,
             "ticks": ""
            },
            "type": "choropleth"
           }
          ],
          "contour": [
           {
            "colorbar": {
             "outlinewidth": 0,
             "ticks": ""
            },
            "colorscale": [
             [
              0,
              "#0d0887"
             ],
             [
              0.1111111111111111,
              "#46039f"
             ],
             [
              0.2222222222222222,
              "#7201a8"
             ],
             [
              0.3333333333333333,
              "#9c179e"
             ],
             [
              0.4444444444444444,
              "#bd3786"
             ],
             [
              0.5555555555555556,
              "#d8576b"
             ],
             [
              0.6666666666666666,
              "#ed7953"
             ],
             [
              0.7777777777777778,
              "#fb9f3a"
             ],
             [
              0.8888888888888888,
              "#fdca26"
             ],
             [
              1,
              "#f0f921"
             ]
            ],
            "type": "contour"
           }
          ],
          "contourcarpet": [
           {
            "colorbar": {
             "outlinewidth": 0,
             "ticks": ""
            },
            "type": "contourcarpet"
           }
          ],
          "heatmap": [
           {
            "colorbar": {
             "outlinewidth": 0,
             "ticks": ""
            },
            "colorscale": [
             [
              0,
              "#0d0887"
             ],
             [
              0.1111111111111111,
              "#46039f"
             ],
             [
              0.2222222222222222,
              "#7201a8"
             ],
             [
              0.3333333333333333,
              "#9c179e"
             ],
             [
              0.4444444444444444,
              "#bd3786"
             ],
             [
              0.5555555555555556,
              "#d8576b"
             ],
             [
              0.6666666666666666,
              "#ed7953"
             ],
             [
              0.7777777777777778,
              "#fb9f3a"
             ],
             [
              0.8888888888888888,
              "#fdca26"
             ],
             [
              1,
              "#f0f921"
             ]
            ],
            "type": "heatmap"
           }
          ],
          "heatmapgl": [
           {
            "colorbar": {
             "outlinewidth": 0,
             "ticks": ""
            },
            "colorscale": [
             [
              0,
              "#0d0887"
             ],
             [
              0.1111111111111111,
              "#46039f"
             ],
             [
              0.2222222222222222,
              "#7201a8"
             ],
             [
              0.3333333333333333,
              "#9c179e"
             ],
             [
              0.4444444444444444,
              "#bd3786"
             ],
             [
              0.5555555555555556,
              "#d8576b"
             ],
             [
              0.6666666666666666,
              "#ed7953"
             ],
             [
              0.7777777777777778,
              "#fb9f3a"
             ],
             [
              0.8888888888888888,
              "#fdca26"
             ],
             [
              1,
              "#f0f921"
             ]
            ],
            "type": "heatmapgl"
           }
          ],
          "histogram": [
           {
            "marker": {
             "pattern": {
              "fillmode": "overlay",
              "size": 10,
              "solidity": 0.2
             }
            },
            "type": "histogram"
           }
          ],
          "histogram2d": [
           {
            "colorbar": {
             "outlinewidth": 0,
             "ticks": ""
            },
            "colorscale": [
             [
              0,
              "#0d0887"
             ],
             [
              0.1111111111111111,
              "#46039f"
             ],
             [
              0.2222222222222222,
              "#7201a8"
             ],
             [
              0.3333333333333333,
              "#9c179e"
             ],
             [
              0.4444444444444444,
              "#bd3786"
             ],
             [
              0.5555555555555556,
              "#d8576b"
             ],
             [
              0.6666666666666666,
              "#ed7953"
             ],
             [
              0.7777777777777778,
              "#fb9f3a"
             ],
             [
              0.8888888888888888,
              "#fdca26"
             ],
             [
              1,
              "#f0f921"
             ]
            ],
            "type": "histogram2d"
           }
          ],
          "histogram2dcontour": [
           {
            "colorbar": {
             "outlinewidth": 0,
             "ticks": ""
            },
            "colorscale": [
             [
              0,
              "#0d0887"
             ],
             [
              0.1111111111111111,
              "#46039f"
             ],
             [
              0.2222222222222222,
              "#7201a8"
             ],
             [
              0.3333333333333333,
              "#9c179e"
             ],
             [
              0.4444444444444444,
              "#bd3786"
             ],
             [
              0.5555555555555556,
              "#d8576b"
             ],
             [
              0.6666666666666666,
              "#ed7953"
             ],
             [
              0.7777777777777778,
              "#fb9f3a"
             ],
             [
              0.8888888888888888,
              "#fdca26"
             ],
             [
              1,
              "#f0f921"
             ]
            ],
            "type": "histogram2dcontour"
           }
          ],
          "mesh3d": [
           {
            "colorbar": {
             "outlinewidth": 0,
             "ticks": ""
            },
            "type": "mesh3d"
           }
          ],
          "parcoords": [
           {
            "line": {
             "colorbar": {
              "outlinewidth": 0,
              "ticks": ""
             }
            },
            "type": "parcoords"
           }
          ],
          "pie": [
           {
            "automargin": true,
            "type": "pie"
           }
          ],
          "scatter": [
           {
            "fillpattern": {
             "fillmode": "overlay",
             "size": 10,
             "solidity": 0.2
            },
            "type": "scatter"
           }
          ],
          "scatter3d": [
           {
            "line": {
             "colorbar": {
              "outlinewidth": 0,
              "ticks": ""
             }
            },
            "marker": {
             "colorbar": {
              "outlinewidth": 0,
              "ticks": ""
             }
            },
            "type": "scatter3d"
           }
          ],
          "scattercarpet": [
           {
            "marker": {
             "colorbar": {
              "outlinewidth": 0,
              "ticks": ""
             }
            },
            "type": "scattercarpet"
           }
          ],
          "scattergeo": [
           {
            "marker": {
             "colorbar": {
              "outlinewidth": 0,
              "ticks": ""
             }
            },
            "type": "scattergeo"
           }
          ],
          "scattergl": [
           {
            "marker": {
             "colorbar": {
              "outlinewidth": 0,
              "ticks": ""
             }
            },
            "type": "scattergl"
           }
          ],
          "scattermapbox": [
           {
            "marker": {
             "colorbar": {
              "outlinewidth": 0,
              "ticks": ""
             }
            },
            "type": "scattermapbox"
           }
          ],
          "scatterpolar": [
           {
            "marker": {
             "colorbar": {
              "outlinewidth": 0,
              "ticks": ""
             }
            },
            "type": "scatterpolar"
           }
          ],
          "scatterpolargl": [
           {
            "marker": {
             "colorbar": {
              "outlinewidth": 0,
              "ticks": ""
             }
            },
            "type": "scatterpolargl"
           }
          ],
          "scatterternary": [
           {
            "marker": {
             "colorbar": {
              "outlinewidth": 0,
              "ticks": ""
             }
            },
            "type": "scatterternary"
           }
          ],
          "surface": [
           {
            "colorbar": {
             "outlinewidth": 0,
             "ticks": ""
            },
            "colorscale": [
             [
              0,
              "#0d0887"
             ],
             [
              0.1111111111111111,
              "#46039f"
             ],
             [
              0.2222222222222222,
              "#7201a8"
             ],
             [
              0.3333333333333333,
              "#9c179e"
             ],
             [
              0.4444444444444444,
              "#bd3786"
             ],
             [
              0.5555555555555556,
              "#d8576b"
             ],
             [
              0.6666666666666666,
              "#ed7953"
             ],
             [
              0.7777777777777778,
              "#fb9f3a"
             ],
             [
              0.8888888888888888,
              "#fdca26"
             ],
             [
              1,
              "#f0f921"
             ]
            ],
            "type": "surface"
           }
          ],
          "table": [
           {
            "cells": {
             "fill": {
              "color": "#EBF0F8"
             },
             "line": {
              "color": "white"
             }
            },
            "header": {
             "fill": {
              "color": "#C8D4E3"
             },
             "line": {
              "color": "white"
             }
            },
            "type": "table"
           }
          ]
         },
         "layout": {
          "annotationdefaults": {
           "arrowcolor": "#2a3f5f",
           "arrowhead": 0,
           "arrowwidth": 1
          },
          "autotypenumbers": "strict",
          "coloraxis": {
           "colorbar": {
            "outlinewidth": 0,
            "ticks": ""
           }
          },
          "colorscale": {
           "diverging": [
            [
             0,
             "#8e0152"
            ],
            [
             0.1,
             "#c51b7d"
            ],
            [
             0.2,
             "#de77ae"
            ],
            [
             0.3,
             "#f1b6da"
            ],
            [
             0.4,
             "#fde0ef"
            ],
            [
             0.5,
             "#f7f7f7"
            ],
            [
             0.6,
             "#e6f5d0"
            ],
            [
             0.7,
             "#b8e186"
            ],
            [
             0.8,
             "#7fbc41"
            ],
            [
             0.9,
             "#4d9221"
            ],
            [
             1,
             "#276419"
            ]
           ],
           "sequential": [
            [
             0,
             "#0d0887"
            ],
            [
             0.1111111111111111,
             "#46039f"
            ],
            [
             0.2222222222222222,
             "#7201a8"
            ],
            [
             0.3333333333333333,
             "#9c179e"
            ],
            [
             0.4444444444444444,
             "#bd3786"
            ],
            [
             0.5555555555555556,
             "#d8576b"
            ],
            [
             0.6666666666666666,
             "#ed7953"
            ],
            [
             0.7777777777777778,
             "#fb9f3a"
            ],
            [
             0.8888888888888888,
             "#fdca26"
            ],
            [
             1,
             "#f0f921"
            ]
           ],
           "sequentialminus": [
            [
             0,
             "#0d0887"
            ],
            [
             0.1111111111111111,
             "#46039f"
            ],
            [
             0.2222222222222222,
             "#7201a8"
            ],
            [
             0.3333333333333333,
             "#9c179e"
            ],
            [
             0.4444444444444444,
             "#bd3786"
            ],
            [
             0.5555555555555556,
             "#d8576b"
            ],
            [
             0.6666666666666666,
             "#ed7953"
            ],
            [
             0.7777777777777778,
             "#fb9f3a"
            ],
            [
             0.8888888888888888,
             "#fdca26"
            ],
            [
             1,
             "#f0f921"
            ]
           ]
          },
          "colorway": [
           "#636efa",
           "#EF553B",
           "#00cc96",
           "#ab63fa",
           "#FFA15A",
           "#19d3f3",
           "#FF6692",
           "#B6E880",
           "#FF97FF",
           "#FECB52"
          ],
          "font": {
           "color": "#2a3f5f"
          },
          "geo": {
           "bgcolor": "white",
           "lakecolor": "white",
           "landcolor": "#E5ECF6",
           "showlakes": true,
           "showland": true,
           "subunitcolor": "white"
          },
          "hoverlabel": {
           "align": "left"
          },
          "hovermode": "closest",
          "mapbox": {
           "style": "light"
          },
          "paper_bgcolor": "white",
          "plot_bgcolor": "#E5ECF6",
          "polar": {
           "angularaxis": {
            "gridcolor": "white",
            "linecolor": "white",
            "ticks": ""
           },
           "bgcolor": "#E5ECF6",
           "radialaxis": {
            "gridcolor": "white",
            "linecolor": "white",
            "ticks": ""
           }
          },
          "scene": {
           "xaxis": {
            "backgroundcolor": "#E5ECF6",
            "gridcolor": "white",
            "gridwidth": 2,
            "linecolor": "white",
            "showbackground": true,
            "ticks": "",
            "zerolinecolor": "white"
           },
           "yaxis": {
            "backgroundcolor": "#E5ECF6",
            "gridcolor": "white",
            "gridwidth": 2,
            "linecolor": "white",
            "showbackground": true,
            "ticks": "",
            "zerolinecolor": "white"
           },
           "zaxis": {
            "backgroundcolor": "#E5ECF6",
            "gridcolor": "white",
            "gridwidth": 2,
            "linecolor": "white",
            "showbackground": true,
            "ticks": "",
            "zerolinecolor": "white"
           }
          },
          "shapedefaults": {
           "line": {
            "color": "#2a3f5f"
           }
          },
          "ternary": {
           "aaxis": {
            "gridcolor": "white",
            "linecolor": "white",
            "ticks": ""
           },
           "baxis": {
            "gridcolor": "white",
            "linecolor": "white",
            "ticks": ""
           },
           "bgcolor": "#E5ECF6",
           "caxis": {
            "gridcolor": "white",
            "linecolor": "white",
            "ticks": ""
           }
          },
          "title": {
           "x": 0.05
          },
          "xaxis": {
           "automargin": true,
           "gridcolor": "white",
           "linecolor": "white",
           "ticks": "",
           "title": {
            "standoff": 15
           },
           "zerolinecolor": "white",
           "zerolinewidth": 2
          },
          "yaxis": {
           "automargin": true,
           "gridcolor": "white",
           "linecolor": "white",
           "ticks": "",
           "title": {
            "standoff": 15
           },
           "zerolinecolor": "white",
           "zerolinewidth": 2
          }
         }
        },
        "title": {
         "text": "Stacked Linear Models for All Outcomes"
        },
        "xaxis": {
         "title": {
          "text": "Crit Chance"
         }
        },
        "yaxis": {
         "title": {
          "text": "Outcomes"
         },
         "type": "linear"
        }
       }
      },
      "text/html": [
       "<div>                            <div id=\"bde51e88-2a7e-4541-af33-727bcff5e1ed\" class=\"plotly-graph-div\" style=\"height:525px; width:100%;\"></div>            <script type=\"text/javascript\">                require([\"plotly\"], function(Plotly) {                    window.PLOTLYENV=window.PLOTLYENV || {};                                    if (document.getElementById(\"bde51e88-2a7e-4541-af33-727bcff5e1ed\")) {                    Plotly.newPlot(                        \"bde51e88-2a7e-4541-af33-727bcff5e1ed\",                        [{\"line\":{\"color\":\"red\"},\"mode\":\"lines\",\"name\":\"LinearRegression - Legendary\",\"x\":[0.0,30.150753768844222,60.301507537688444,90.45226130653266,120.60301507537689,150.7537688442211,180.90452261306532,211.05527638190955,241.20603015075378,271.356783919598,301.5075376884422,331.65829145728645,361.80904522613065,391.9597989949749,422.1105527638191,452.26130653266335,482.41206030150755,512.5628140703518,542.713567839196,572.8643216080402,603.0150753768844,633.1658291457287,663.3165829145729,693.4673366834171,723.6180904522613,753.7688442211055,783.9195979899498,814.070351758794,844.2211055276382,874.3718592964824,904.5226130653267,934.6733668341709,964.8241206030151,994.9748743718593,1025.1256281407036,1055.2763819095478,1085.427135678392,1115.5778894472362,1145.7286432160804,1175.8793969849246,1206.0301507537688,1236.180904522613,1266.3316582914574,1296.4824120603016,1326.6331658291458,1356.78391959799,1386.9346733668342,1417.0854271356784,1447.2361809045226,1477.3869346733668,1507.537688442211,1537.6884422110554,1567.8391959798996,1597.9899497487438,1628.140703517588,1658.2914572864322,1688.4422110552764,1718.5929648241206,1748.7437185929648,1778.894472361809,1809.0452261306534,1839.1959798994976,1869.3467336683418,1899.497487437186,1929.6482412060302,1959.7989949748744,1989.9497487437186,2020.1005025125628,2050.251256281407,2080.402010050251,2110.5527638190956,2140.7035175879396,2170.854271356784,2201.005025125628,2231.1557788944724,2261.306532663317,2291.457286432161,2321.608040201005,2351.758793969849,2381.9095477386936,2412.0603015075376,2442.211055276382,2472.361809045226,2502.5125628140704,2532.663316582915,2562.814070351759,2592.964824120603,2623.115577889447,2653.2663316582916,2683.4170854271356,2713.56783919598,2743.718592964824,2773.8693467336684,2804.020100502513,2834.170854271357,2864.321608040201,2894.472361809045,2924.6231155778896,2954.7738693467336,2984.924623115578,3015.075376884422,3045.2261306532664,3075.376884422111,3105.527638190955,3135.6783919597992,3165.829145728643,3195.9798994974876,3226.1306532663316,3256.281407035176,3286.43216080402,3316.5829145728644,3346.733668341709,3376.884422110553,3407.0351758793972,3437.185929648241,3467.3366834170856,3497.4874371859296,3527.638190954774,3557.788944723618,3587.9396984924624,3618.090452261307,3648.241206030151,3678.3919597989952,3708.542713567839,3738.6934673366836,3768.8442211055276,3798.994974874372,3829.145728643216,3859.2964824120604,3889.447236180905,3919.597989949749,3949.7487437185932,3979.899497487437,4010.0502512562816,4040.2010050251256,4070.35175879397,4100.502512562814,4130.653266331658,4160.804020100502,4190.954773869347,4221.105527638191,4251.256281407035,4281.407035175879,4311.557788944724,4341.708542713568,4371.859296482412,4402.010050251256,4432.160804020101,4462.311557788945,4492.462311557789,4522.613065326634,4552.763819095478,4582.914572864322,4613.065326633166,4643.21608040201,4673.366834170854,4703.517587939698,4733.668341708543,4763.819095477387,4793.969849246231,4824.120603015075,4854.27135678392,4884.422110552764,4914.572864321608,4944.723618090452,4974.874371859297,5005.025125628141,5035.175879396985,5065.32663316583,5095.477386934674,5125.628140703518,5155.778894472362,5185.929648241206,5216.08040201005,5246.231155778894,5276.381909547739,5306.532663316583,5336.683417085427,5366.834170854271,5396.984924623116,5427.13567839196,5457.286432160804,5487.437185929648,5517.587939698493,5547.738693467337,5577.889447236181,5608.040201005026,5638.19095477387,5668.341708542714,5698.492462311558,5728.643216080402,5758.793969849246,5788.94472361809,5819.095477386935,5849.246231155779,5879.396984924623,5909.547738693467,5939.698492462312,5969.849246231156,6000.0],\"y\":[1.93737847370631,2.042861028106529,2.1483435825067474,2.2538261369069663,2.3593086913071852,2.4647912457074037,2.5702738001076226,2.6757563545078416,2.7812389089080605,2.8867214633082794,2.992204017708498,3.097686572108717,3.2031691265089357,3.308651680909154,3.414134235309373,3.519616789709592,3.6250993441098105,3.73058189851003,3.8360644529102483,3.9415470073104673,4.047029561710685,4.1525121161109055,4.257994670511124,4.3634772249113425,4.468959779311561,4.574442333711779,4.679924888111999,4.785407442512218,4.890889996912437,4.996372551312655,5.101855105712874,5.207337660113093,5.312820214513311,5.418302768913531,5.523785323313749,5.629267877713968,5.734750432114187,5.840232986514406,5.945715540914625,6.051198095314843,6.156680649715062,6.26216320411528,6.367645758515501,6.473128312915719,6.578610867315938,6.684093421716156,6.7895759761163745,6.895058530516593,7.0005410849168115,7.106023639317032,7.21150619371725,7.316988748117469,7.422471302517687,7.527953856917907,7.633436411318126,7.738918965718344,7.844401520118563,7.949884074518781,8.055366628919,8.160849183319218,8.266331737719439,8.371814292119657,8.477296846519875,8.582779400920094,8.688261955320312,8.793744509720533,8.899227064120751,9.00470961852097,9.110192172921188,9.215674727321407,9.321157281721627,9.426639836121844,9.532122390522064,9.637604944922282,9.7430874993225,9.848570053722721,9.95405260812294,10.059535162523158,10.165017716923376,10.270500271323597,10.375982825723813,10.481465380124034,10.586947934524252,10.69243048892447,10.79791304332469,10.903395597724908,11.008878152125128,11.114360706525346,11.219843260925565,11.325325815325783,11.430808369726003,11.53629092412622,11.64177347852644,11.747256032926659,11.852738587326877,11.958221141727098,12.063703696127314,12.169186250527535,12.274668804927753,12.380151359327972,12.48563391372819,12.59111646812841,12.696599022528629,12.802081576928847,12.907564131329066,13.013046685729284,13.118529240129504,13.224011794529721,13.329494348929941,13.43497690333016,13.540459457730378,13.645942012130599,13.751424566530815,13.856907120931035,13.962389675331254,14.067872229731472,14.173354784131691,14.278837338531911,14.384319892932128,14.489802447332348,14.595285001732567,14.700767556132785,14.806250110533005,14.911732664933222,15.017215219333442,15.12269777373366,15.22818032813388,15.333662882534098,15.439145436934316,15.544627991334536,15.650110545734755,15.755593100134973,15.861075654535192,15.966558208935412,16.07204076333563,16.177523317735847,16.283005872136066,16.388488426536284,16.493970980936503,16.599453535336725,16.704936089736943,16.81041864413716,16.915901198537377,17.0213837529376,17.126866307337817,17.232348861738036,17.337831416138254,17.443313970538473,17.54879652493869,17.65427907933891,17.75976163373913,17.86524418813935,17.97072674253957,18.076209296939787,18.181691851340005,18.287174405740224,18.392656960140442,18.498139514540664,18.603622068940883,18.709104623341098,18.814587177741316,18.92006973214154,19.025552286541757,19.131034840941975,19.236517395342194,19.341999949742412,19.44748250414263,19.55296505854285,19.65844761294307,19.76393016734329,19.869412721743505,19.974895276143723,20.080377830543945,20.185860384944164,20.291342939344382,20.3968254937446,20.50230804814482,20.607790602545037,20.713273156945256,20.818755711345478,20.924238265745696,21.02972082014591,21.13520337454613,21.240685928946352,21.34616848334657,21.45165103774679,21.557133592147007,21.662616146547226,21.768098700947444,21.873581255347663,21.979063809747885,22.084546364148103,22.190028918548318,22.29551147294854,22.40099402734876,22.506476581748977,22.611959136149196,22.717441690549414,22.822924244949633,22.92840679934985],\"type\":\"scatter\"},{\"line\":{\"color\":\"blue\"},\"mode\":\"lines\",\"name\":\"LinearRegression - Fabled\",\"x\":[0.0,30.150753768844222,60.301507537688444,90.45226130653266,120.60301507537689,150.7537688442211,180.90452261306532,211.05527638190955,241.20603015075378,271.356783919598,301.5075376884422,331.65829145728645,361.80904522613065,391.9597989949749,422.1105527638191,452.26130653266335,482.41206030150755,512.5628140703518,542.713567839196,572.8643216080402,603.0150753768844,633.1658291457287,663.3165829145729,693.4673366834171,723.6180904522613,753.7688442211055,783.9195979899498,814.070351758794,844.2211055276382,874.3718592964824,904.5226130653267,934.6733668341709,964.8241206030151,994.9748743718593,1025.1256281407036,1055.2763819095478,1085.427135678392,1115.5778894472362,1145.7286432160804,1175.8793969849246,1206.0301507537688,1236.180904522613,1266.3316582914574,1296.4824120603016,1326.6331658291458,1356.78391959799,1386.9346733668342,1417.0854271356784,1447.2361809045226,1477.3869346733668,1507.537688442211,1537.6884422110554,1567.8391959798996,1597.9899497487438,1628.140703517588,1658.2914572864322,1688.4422110552764,1718.5929648241206,1748.7437185929648,1778.894472361809,1809.0452261306534,1839.1959798994976,1869.3467336683418,1899.497487437186,1929.6482412060302,1959.7989949748744,1989.9497487437186,2020.1005025125628,2050.251256281407,2080.402010050251,2110.5527638190956,2140.7035175879396,2170.854271356784,2201.005025125628,2231.1557788944724,2261.306532663317,2291.457286432161,2321.608040201005,2351.758793969849,2381.9095477386936,2412.0603015075376,2442.211055276382,2472.361809045226,2502.5125628140704,2532.663316582915,2562.814070351759,2592.964824120603,2623.115577889447,2653.2663316582916,2683.4170854271356,2713.56783919598,2743.718592964824,2773.8693467336684,2804.020100502513,2834.170854271357,2864.321608040201,2894.472361809045,2924.6231155778896,2954.7738693467336,2984.924623115578,3015.075376884422,3045.2261306532664,3075.376884422111,3105.527638190955,3135.6783919597992,3165.829145728643,3195.9798994974876,3226.1306532663316,3256.281407035176,3286.43216080402,3316.5829145728644,3346.733668341709,3376.884422110553,3407.0351758793972,3437.185929648241,3467.3366834170856,3497.4874371859296,3527.638190954774,3557.788944723618,3587.9396984924624,3618.090452261307,3648.241206030151,3678.3919597989952,3708.542713567839,3738.6934673366836,3768.8442211055276,3798.994974874372,3829.145728643216,3859.2964824120604,3889.447236180905,3919.597989949749,3949.7487437185932,3979.899497487437,4010.0502512562816,4040.2010050251256,4070.35175879397,4100.502512562814,4130.653266331658,4160.804020100502,4190.954773869347,4221.105527638191,4251.256281407035,4281.407035175879,4311.557788944724,4341.708542713568,4371.859296482412,4402.010050251256,4432.160804020101,4462.311557788945,4492.462311557789,4522.613065326634,4552.763819095478,4582.914572864322,4613.065326633166,4643.21608040201,4673.366834170854,4703.517587939698,4733.668341708543,4763.819095477387,4793.969849246231,4824.120603015075,4854.27135678392,4884.422110552764,4914.572864321608,4944.723618090452,4974.874371859297,5005.025125628141,5035.175879396985,5065.32663316583,5095.477386934674,5125.628140703518,5155.778894472362,5185.929648241206,5216.08040201005,5246.231155778894,5276.381909547739,5306.532663316583,5336.683417085427,5366.834170854271,5396.984924623116,5427.13567839196,5457.286432160804,5487.437185929648,5517.587939698493,5547.738693467337,5577.889447236181,5608.040201005026,5638.19095477387,5668.341708542714,5698.492462311558,5728.643216080402,5758.793969849246,5788.94472361809,5819.095477386935,5849.246231155779,5879.396984924623,5909.547738693467,5939.698492462312,5969.849246231156,6000.0],\"y\":[-0.05939303148823383,0.0003457339157926301,0.06008449931981909,0.11982326472384555,0.179562030127872,0.23930079553189842,0.29903956093592493,0.3587783263399514,0.41851709174397783,0.47825585714800434,0.5379946225520307,0.5977333879560572,0.6574721533600837,0.7172109187641101,0.7769496841681366,0.836688449572163,0.8964272149761895,0.956165980380216,1.0159047457842425,1.0756435111882687,1.1353822765922952,1.1951210419963219,1.2548598074003483,1.3145985728043748,1.3743373382084012,1.4340761036124274,1.493814869016454,1.5535536344204806,1.613292399824507,1.6730311652285335,1.73276993063256,1.7925086960365864,1.8522474614406128,1.9119862268446393,1.971724992248666,2.031463757652692,2.091202523056719,2.150941288460745,2.2106800538647713,2.270418819268798,2.330157584672824,2.389896350076851,2.4496351154808775,2.5093738808849038,2.5691126462889304,2.6288514116929567,2.6885901770969833,2.7483289425010096,2.8080677079050362,2.8678064733090625,2.9275452387130887,2.987284004117116,3.047022769521142,3.1067615349251687,3.166500300329195,3.226239065733221,3.285977831137248,3.345716596541274,3.4054553619453007,3.465194127349327,3.5249328927533536,3.5846716581573803,3.6444104235614065,3.704149188965433,3.7638879543694594,3.8236267197734857,3.8833654851775123,3.943104250581539,4.002843015985565,4.062581781389591,4.122320546793619,4.182059312197644,4.241798077601672,4.301536843005698,4.3612756084097235,4.421014373813751,4.480753139217777,4.540491904621804,4.60023067002583,4.659969435429856,4.719708200833882,4.779446966237909,4.839185731641935,4.898924497045963,4.9586632624499885,5.018402027854014,5.078140793258042,5.137879558662068,5.197618324066095,5.257357089470121,5.317095854874147,5.3768346202781725,5.4365733856822,5.496312151086228,5.556050916490253,5.615789681894279,5.675528447298307,5.7352672127023325,5.795005978106358,5.854744743510386,5.914483508914412,5.974222274318439,6.033961039722465,6.093699805126491,6.153438570530518,6.213177335934544,6.272916101338572,6.3326548667425975,6.392393632146623,6.452132397550649,6.511871162954677,6.571609928358704,6.63134869376273,6.691087459166756,6.7508262245707815,6.810564989974809,6.870303755378835,6.930042520782862,6.989781286186888,7.049520051590914,7.1092588169949416,7.168997582398967,7.228736347802995,7.288475113207021,7.3482138786110465,7.407952644015072,7.4676914094191,7.527430174823126,7.587168940227153,7.646907705631179,7.706646471035205,7.766385236439232,7.826124001843258,7.885862767247286,7.945601532651311,8.005340298055337,8.065079063459365,8.12481782886339,8.184556594267416,8.244295359671444,8.30403412507547,8.363772890479495,8.423511655883521,8.48325042128755,8.542989186691576,8.602727952095602,8.662466717499628,8.722205482903655,8.781944248307681,8.841683013711707,8.901421779115735,8.96116054451976,9.020899309923786,9.080638075327814,9.140376840731841,9.200115606135867,9.259854371539893,9.31959313694392,9.379331902347946,9.439070667751972,9.498809433155998,9.558548198560025,9.618286963964051,9.678025729368079,9.737764494772104,9.797503260176132,9.857242025580158,9.916980790984184,9.976719556388211,10.036458321792237,10.096197087196263,10.155935852600289,10.215674618004316,10.275413383408344,10.33515214881237,10.394890914216397,10.454629679620423,10.514368445024449,10.574107210428474,10.633845975832502,10.693584741236528,10.753323506640553,10.81306227204458,10.872801037448609,10.932539802852634,10.99227856825666,11.052017333660688,11.111756099064714,11.17149486446874,11.231233629872765,11.290972395276793,11.350711160680818,11.410449926084846,11.470188691488874,11.5299274568929,11.589666222296925,11.649404987700951,11.709143753104978,11.768882518509004,11.82862128391303],\"type\":\"scatter\"},{\"line\":{\"color\":\"green\"},\"mode\":\"lines\",\"name\":\"LinearRegression - Mythical\",\"x\":[0.0,30.150753768844222,60.301507537688444,90.45226130653266,120.60301507537689,150.7537688442211,180.90452261306532,211.05527638190955,241.20603015075378,271.356783919598,301.5075376884422,331.65829145728645,361.80904522613065,391.9597989949749,422.1105527638191,452.26130653266335,482.41206030150755,512.5628140703518,542.713567839196,572.8643216080402,603.0150753768844,633.1658291457287,663.3165829145729,693.4673366834171,723.6180904522613,753.7688442211055,783.9195979899498,814.070351758794,844.2211055276382,874.3718592964824,904.5226130653267,934.6733668341709,964.8241206030151,994.9748743718593,1025.1256281407036,1055.2763819095478,1085.427135678392,1115.5778894472362,1145.7286432160804,1175.8793969849246,1206.0301507537688,1236.180904522613,1266.3316582914574,1296.4824120603016,1326.6331658291458,1356.78391959799,1386.9346733668342,1417.0854271356784,1447.2361809045226,1477.3869346733668,1507.537688442211,1537.6884422110554,1567.8391959798996,1597.9899497487438,1628.140703517588,1658.2914572864322,1688.4422110552764,1718.5929648241206,1748.7437185929648,1778.894472361809,1809.0452261306534,1839.1959798994976,1869.3467336683418,1899.497487437186,1929.6482412060302,1959.7989949748744,1989.9497487437186,2020.1005025125628,2050.251256281407,2080.402010050251,2110.5527638190956,2140.7035175879396,2170.854271356784,2201.005025125628,2231.1557788944724,2261.306532663317,2291.457286432161,2321.608040201005,2351.758793969849,2381.9095477386936,2412.0603015075376,2442.211055276382,2472.361809045226,2502.5125628140704,2532.663316582915,2562.814070351759,2592.964824120603,2623.115577889447,2653.2663316582916,2683.4170854271356,2713.56783919598,2743.718592964824,2773.8693467336684,2804.020100502513,2834.170854271357,2864.321608040201,2894.472361809045,2924.6231155778896,2954.7738693467336,2984.924623115578,3015.075376884422,3045.2261306532664,3075.376884422111,3105.527638190955,3135.6783919597992,3165.829145728643,3195.9798994974876,3226.1306532663316,3256.281407035176,3286.43216080402,3316.5829145728644,3346.733668341709,3376.884422110553,3407.0351758793972,3437.185929648241,3467.3366834170856,3497.4874371859296,3527.638190954774,3557.788944723618,3587.9396984924624,3618.090452261307,3648.241206030151,3678.3919597989952,3708.542713567839,3738.6934673366836,3768.8442211055276,3798.994974874372,3829.145728643216,3859.2964824120604,3889.447236180905,3919.597989949749,3949.7487437185932,3979.899497487437,4010.0502512562816,4040.2010050251256,4070.35175879397,4100.502512562814,4130.653266331658,4160.804020100502,4190.954773869347,4221.105527638191,4251.256281407035,4281.407035175879,4311.557788944724,4341.708542713568,4371.859296482412,4402.010050251256,4432.160804020101,4462.311557788945,4492.462311557789,4522.613065326634,4552.763819095478,4582.914572864322,4613.065326633166,4643.21608040201,4673.366834170854,4703.517587939698,4733.668341708543,4763.819095477387,4793.969849246231,4824.120603015075,4854.27135678392,4884.422110552764,4914.572864321608,4944.723618090452,4974.874371859297,5005.025125628141,5035.175879396985,5065.32663316583,5095.477386934674,5125.628140703518,5155.778894472362,5185.929648241206,5216.08040201005,5246.231155778894,5276.381909547739,5306.532663316583,5336.683417085427,5366.834170854271,5396.984924623116,5427.13567839196,5457.286432160804,5487.437185929648,5517.587939698493,5547.738693467337,5577.889447236181,5608.040201005026,5638.19095477387,5668.341708542714,5698.492462311558,5728.643216080402,5758.793969849246,5788.94472361809,5819.095477386935,5849.246231155779,5879.396984924623,5909.547738693467,5939.698492462312,5969.849246231156,6000.0],\"y\":[-0.1519859810250293,-0.14135177368391263,-0.13071756634279597,-0.12008335900167932,-0.10944915166056265,-0.09881494431944599,-0.08818073697832933,-0.07754652963721266,-0.066912322296096,-0.056278114954979336,-0.04564390761386268,-0.03500970027274601,-0.024375492931629356,-0.013741285590512686,-0.003107078249396017,0.007527129091720652,0.018161336432837294,0.028795543773953963,0.03942975111507063,0.050063958456187274,0.06069816579730394,0.07133237313842064,0.08196658047953728,0.09260078782065395,0.10323499516177059,0.11386920250288723,0.12450340984400393,0.13513761718512057,0.14577182452623727,0.1564060318673539,0.1670402392084706,0.17767444654958725,0.1883086538907039,0.19894286123182053,0.20957706857293723,0.22021127591405393,0.23084548325517057,0.2414796905962872,0.25211389793740385,0.26274810527852055,0.2733823126196372,0.28401651996075383,0.2946507273018706,0.3052849346429872,0.31591914198410387,0.3265533493252205,0.3371875566663372,0.34782176400745385,0.3584559713485705,0.36909017868968713,0.3797243860308038,0.3903585933719205,0.40099280071303717,0.4116270080541538,0.42226121539527045,0.4328954227363872,0.44352963007750384,0.4541638374186205,0.46479804475973713,0.47543225210085377,0.4860664594419705,0.49670066678308716,0.5073348741242039,0.5179690814653204,0.5286032888064371,0.5392374961475537,0.5498717034886704,0.5605059108297872,0.5711401181709037,0.5817743255120205,0.5924085328531372,0.6030427401942537,0.6136769475353705,0.624311154876487,0.6349453622176038,0.6455795695587205,0.6562137768998371,0.6668479842409538,0.6774821915820703,0.6881163989231871,0.6987506062643036,0.7093848136054204,0.7200190209465369,0.7306532282876537,0.7412874356287704,0.751921642969887,0.7625558503110037,0.7731900576521202,0.783824264993237,0.7944584723343535,0.8050926796754703,0.815726887016587,0.8263610943577038,0.8369953016988203,0.8476295090399371,0.8582637163810538,0.8688979237221703,0.8795321310632871,0.8901663384044036,0.9008005457455204,0.9114347530866369,0.9220689604277537,0.9327031677688704,0.9433373751099869,0.9539715824511037,0.9646057897922202,0.975239997133337,0.9858742044744535,0.9965084118155703,1.007142619156687,1.0177768264978038,1.0284110338389203,1.039045241180037,1.0496794485211538,1.0603136558622703,1.070947863203387,1.0815820705445036,1.0922162778856204,1.102850485226737,1.1134846925678537,1.1241188999089704,1.134753107250087,1.1453873145912037,1.1560215219323202,1.166655729273437,1.1772899366145535,1.1879241439556703,1.1985583512967868,1.2091925586379035,1.2198267659790203,1.2304609733201368,1.2410951806612536,1.25172938800237,1.2623635953434869,1.2729978026846036,1.2836320100257201,1.294266217366837,1.3049004247079536,1.3155346320490702,1.326168839390187,1.3368030467313037,1.3474372540724202,1.3580714614135367,1.3687056687546537,1.3793398760957702,1.3899740834368868,1.4006082907780033,1.4112424981191203,1.4218767054602368,1.4325109128013533,1.4431451201424703,1.4537793274835868,1.4644135348247034,1.4750477421658201,1.4856819495069369,1.4963161568480534,1.5069503641891702,1.517584571530287,1.5282187788714034,1.5388529862125202,1.5494871935536367,1.5601214008947535,1.5707556082358702,1.5813898155769868,1.5920240229181033,1.6026582302592203,1.6132924376003368,1.6239266449414533,1.6345608522825703,1.6451950596236868,1.6558292669648034,1.66646347430592,1.6770976816470369,1.6877318889881534,1.69836609632927,1.709000303670387,1.7196345110115034,1.73026871835262,1.7409029256937365,1.7515371330348535,1.76217134037597,1.7728055477170868,1.7834397550582033,1.79407396239932,1.8047081697404368,1.8153423770815533,1.82597658442267,1.8366107917637868,1.8472449991049034,1.8578792064460197,1.8685134137871369,1.8791476211282532,1.88978182846937,1.9004160358104867,1.9110502431516034,1.9216844504927202,1.9323186578338365,1.9429528651749532,1.95358707251607,1.9642212798571868],\"type\":\"scatter\"}],                        {\"hovermode\":\"closest\",\"template\":{\"data\":{\"barpolar\":[{\"marker\":{\"line\":{\"color\":\"#E5ECF6\",\"width\":0.5},\"pattern\":{\"fillmode\":\"overlay\",\"size\":10,\"solidity\":0.2}},\"type\":\"barpolar\"}],\"bar\":[{\"error_x\":{\"color\":\"#2a3f5f\"},\"error_y\":{\"color\":\"#2a3f5f\"},\"marker\":{\"line\":{\"color\":\"#E5ECF6\",\"width\":0.5},\"pattern\":{\"fillmode\":\"overlay\",\"size\":10,\"solidity\":0.2}},\"type\":\"bar\"}],\"carpet\":[{\"aaxis\":{\"endlinecolor\":\"#2a3f5f\",\"gridcolor\":\"white\",\"linecolor\":\"white\",\"minorgridcolor\":\"white\",\"startlinecolor\":\"#2a3f5f\"},\"baxis\":{\"endlinecolor\":\"#2a3f5f\",\"gridcolor\":\"white\",\"linecolor\":\"white\",\"minorgridcolor\":\"white\",\"startlinecolor\":\"#2a3f5f\"},\"type\":\"carpet\"}],\"choropleth\":[{\"colorbar\":{\"outlinewidth\":0,\"ticks\":\"\"},\"type\":\"choropleth\"}],\"contourcarpet\":[{\"colorbar\":{\"outlinewidth\":0,\"ticks\":\"\"},\"type\":\"contourcarpet\"}],\"contour\":[{\"colorbar\":{\"outlinewidth\":0,\"ticks\":\"\"},\"colorscale\":[[0.0,\"#0d0887\"],[0.1111111111111111,\"#46039f\"],[0.2222222222222222,\"#7201a8\"],[0.3333333333333333,\"#9c179e\"],[0.4444444444444444,\"#bd3786\"],[0.5555555555555556,\"#d8576b\"],[0.6666666666666666,\"#ed7953\"],[0.7777777777777778,\"#fb9f3a\"],[0.8888888888888888,\"#fdca26\"],[1.0,\"#f0f921\"]],\"type\":\"contour\"}],\"heatmapgl\":[{\"colorbar\":{\"outlinewidth\":0,\"ticks\":\"\"},\"colorscale\":[[0.0,\"#0d0887\"],[0.1111111111111111,\"#46039f\"],[0.2222222222222222,\"#7201a8\"],[0.3333333333333333,\"#9c179e\"],[0.4444444444444444,\"#bd3786\"],[0.5555555555555556,\"#d8576b\"],[0.6666666666666666,\"#ed7953\"],[0.7777777777777778,\"#fb9f3a\"],[0.8888888888888888,\"#fdca26\"],[1.0,\"#f0f921\"]],\"type\":\"heatmapgl\"}],\"heatmap\":[{\"colorbar\":{\"outlinewidth\":0,\"ticks\":\"\"},\"colorscale\":[[0.0,\"#0d0887\"],[0.1111111111111111,\"#46039f\"],[0.2222222222222222,\"#7201a8\"],[0.3333333333333333,\"#9c179e\"],[0.4444444444444444,\"#bd3786\"],[0.5555555555555556,\"#d8576b\"],[0.6666666666666666,\"#ed7953\"],[0.7777777777777778,\"#fb9f3a\"],[0.8888888888888888,\"#fdca26\"],[1.0,\"#f0f921\"]],\"type\":\"heatmap\"}],\"histogram2dcontour\":[{\"colorbar\":{\"outlinewidth\":0,\"ticks\":\"\"},\"colorscale\":[[0.0,\"#0d0887\"],[0.1111111111111111,\"#46039f\"],[0.2222222222222222,\"#7201a8\"],[0.3333333333333333,\"#9c179e\"],[0.4444444444444444,\"#bd3786\"],[0.5555555555555556,\"#d8576b\"],[0.6666666666666666,\"#ed7953\"],[0.7777777777777778,\"#fb9f3a\"],[0.8888888888888888,\"#fdca26\"],[1.0,\"#f0f921\"]],\"type\":\"histogram2dcontour\"}],\"histogram2d\":[{\"colorbar\":{\"outlinewidth\":0,\"ticks\":\"\"},\"colorscale\":[[0.0,\"#0d0887\"],[0.1111111111111111,\"#46039f\"],[0.2222222222222222,\"#7201a8\"],[0.3333333333333333,\"#9c179e\"],[0.4444444444444444,\"#bd3786\"],[0.5555555555555556,\"#d8576b\"],[0.6666666666666666,\"#ed7953\"],[0.7777777777777778,\"#fb9f3a\"],[0.8888888888888888,\"#fdca26\"],[1.0,\"#f0f921\"]],\"type\":\"histogram2d\"}],\"histogram\":[{\"marker\":{\"pattern\":{\"fillmode\":\"overlay\",\"size\":10,\"solidity\":0.2}},\"type\":\"histogram\"}],\"mesh3d\":[{\"colorbar\":{\"outlinewidth\":0,\"ticks\":\"\"},\"type\":\"mesh3d\"}],\"parcoords\":[{\"line\":{\"colorbar\":{\"outlinewidth\":0,\"ticks\":\"\"}},\"type\":\"parcoords\"}],\"pie\":[{\"automargin\":true,\"type\":\"pie\"}],\"scatter3d\":[{\"line\":{\"colorbar\":{\"outlinewidth\":0,\"ticks\":\"\"}},\"marker\":{\"colorbar\":{\"outlinewidth\":0,\"ticks\":\"\"}},\"type\":\"scatter3d\"}],\"scattercarpet\":[{\"marker\":{\"colorbar\":{\"outlinewidth\":0,\"ticks\":\"\"}},\"type\":\"scattercarpet\"}],\"scattergeo\":[{\"marker\":{\"colorbar\":{\"outlinewidth\":0,\"ticks\":\"\"}},\"type\":\"scattergeo\"}],\"scattergl\":[{\"marker\":{\"colorbar\":{\"outlinewidth\":0,\"ticks\":\"\"}},\"type\":\"scattergl\"}],\"scattermapbox\":[{\"marker\":{\"colorbar\":{\"outlinewidth\":0,\"ticks\":\"\"}},\"type\":\"scattermapbox\"}],\"scatterpolargl\":[{\"marker\":{\"colorbar\":{\"outlinewidth\":0,\"ticks\":\"\"}},\"type\":\"scatterpolargl\"}],\"scatterpolar\":[{\"marker\":{\"colorbar\":{\"outlinewidth\":0,\"ticks\":\"\"}},\"type\":\"scatterpolar\"}],\"scatter\":[{\"fillpattern\":{\"fillmode\":\"overlay\",\"size\":10,\"solidity\":0.2},\"type\":\"scatter\"}],\"scatterternary\":[{\"marker\":{\"colorbar\":{\"outlinewidth\":0,\"ticks\":\"\"}},\"type\":\"scatterternary\"}],\"surface\":[{\"colorbar\":{\"outlinewidth\":0,\"ticks\":\"\"},\"colorscale\":[[0.0,\"#0d0887\"],[0.1111111111111111,\"#46039f\"],[0.2222222222222222,\"#7201a8\"],[0.3333333333333333,\"#9c179e\"],[0.4444444444444444,\"#bd3786\"],[0.5555555555555556,\"#d8576b\"],[0.6666666666666666,\"#ed7953\"],[0.7777777777777778,\"#fb9f3a\"],[0.8888888888888888,\"#fdca26\"],[1.0,\"#f0f921\"]],\"type\":\"surface\"}],\"table\":[{\"cells\":{\"fill\":{\"color\":\"#EBF0F8\"},\"line\":{\"color\":\"white\"}},\"header\":{\"fill\":{\"color\":\"#C8D4E3\"},\"line\":{\"color\":\"white\"}},\"type\":\"table\"}]},\"layout\":{\"annotationdefaults\":{\"arrowcolor\":\"#2a3f5f\",\"arrowhead\":0,\"arrowwidth\":1},\"autotypenumbers\":\"strict\",\"coloraxis\":{\"colorbar\":{\"outlinewidth\":0,\"ticks\":\"\"}},\"colorscale\":{\"diverging\":[[0,\"#8e0152\"],[0.1,\"#c51b7d\"],[0.2,\"#de77ae\"],[0.3,\"#f1b6da\"],[0.4,\"#fde0ef\"],[0.5,\"#f7f7f7\"],[0.6,\"#e6f5d0\"],[0.7,\"#b8e186\"],[0.8,\"#7fbc41\"],[0.9,\"#4d9221\"],[1,\"#276419\"]],\"sequential\":[[0.0,\"#0d0887\"],[0.1111111111111111,\"#46039f\"],[0.2222222222222222,\"#7201a8\"],[0.3333333333333333,\"#9c179e\"],[0.4444444444444444,\"#bd3786\"],[0.5555555555555556,\"#d8576b\"],[0.6666666666666666,\"#ed7953\"],[0.7777777777777778,\"#fb9f3a\"],[0.8888888888888888,\"#fdca26\"],[1.0,\"#f0f921\"]],\"sequentialminus\":[[0.0,\"#0d0887\"],[0.1111111111111111,\"#46039f\"],[0.2222222222222222,\"#7201a8\"],[0.3333333333333333,\"#9c179e\"],[0.4444444444444444,\"#bd3786\"],[0.5555555555555556,\"#d8576b\"],[0.6666666666666666,\"#ed7953\"],[0.7777777777777778,\"#fb9f3a\"],[0.8888888888888888,\"#fdca26\"],[1.0,\"#f0f921\"]]},\"colorway\":[\"#636efa\",\"#EF553B\",\"#00cc96\",\"#ab63fa\",\"#FFA15A\",\"#19d3f3\",\"#FF6692\",\"#B6E880\",\"#FF97FF\",\"#FECB52\"],\"font\":{\"color\":\"#2a3f5f\"},\"geo\":{\"bgcolor\":\"white\",\"lakecolor\":\"white\",\"landcolor\":\"#E5ECF6\",\"showlakes\":true,\"showland\":true,\"subunitcolor\":\"white\"},\"hoverlabel\":{\"align\":\"left\"},\"hovermode\":\"closest\",\"mapbox\":{\"style\":\"light\"},\"paper_bgcolor\":\"white\",\"plot_bgcolor\":\"#E5ECF6\",\"polar\":{\"angularaxis\":{\"gridcolor\":\"white\",\"linecolor\":\"white\",\"ticks\":\"\"},\"bgcolor\":\"#E5ECF6\",\"radialaxis\":{\"gridcolor\":\"white\",\"linecolor\":\"white\",\"ticks\":\"\"}},\"scene\":{\"xaxis\":{\"backgroundcolor\":\"#E5ECF6\",\"gridcolor\":\"white\",\"gridwidth\":2,\"linecolor\":\"white\",\"showbackground\":true,\"ticks\":\"\",\"zerolinecolor\":\"white\"},\"yaxis\":{\"backgroundcolor\":\"#E5ECF6\",\"gridcolor\":\"white\",\"gridwidth\":2,\"linecolor\":\"white\",\"showbackground\":true,\"ticks\":\"\",\"zerolinecolor\":\"white\"},\"zaxis\":{\"backgroundcolor\":\"#E5ECF6\",\"gridcolor\":\"white\",\"gridwidth\":2,\"linecolor\":\"white\",\"showbackground\":true,\"ticks\":\"\",\"zerolinecolor\":\"white\"}},\"shapedefaults\":{\"line\":{\"color\":\"#2a3f5f\"}},\"ternary\":{\"aaxis\":{\"gridcolor\":\"white\",\"linecolor\":\"white\",\"ticks\":\"\"},\"baxis\":{\"gridcolor\":\"white\",\"linecolor\":\"white\",\"ticks\":\"\"},\"bgcolor\":\"#E5ECF6\",\"caxis\":{\"gridcolor\":\"white\",\"linecolor\":\"white\",\"ticks\":\"\"}},\"title\":{\"x\":0.05},\"xaxis\":{\"automargin\":true,\"gridcolor\":\"white\",\"linecolor\":\"white\",\"ticks\":\"\",\"title\":{\"standoff\":15},\"zerolinecolor\":\"white\",\"zerolinewidth\":2},\"yaxis\":{\"automargin\":true,\"gridcolor\":\"white\",\"linecolor\":\"white\",\"ticks\":\"\",\"title\":{\"standoff\":15},\"zerolinecolor\":\"white\",\"zerolinewidth\":2}}},\"title\":{\"text\":\"Stacked Linear Models for All Outcomes\"},\"xaxis\":{\"title\":{\"text\":\"Crit Chance\"}},\"yaxis\":{\"title\":{\"text\":\"Outcomes\"},\"type\":\"linear\"}},                        {\"responsive\": true}                    ).then(function(){\n",
       "                            \n",
       "var gd = document.getElementById('bde51e88-2a7e-4541-af33-727bcff5e1ed');\n",
       "var x = new MutationObserver(function (mutations, observer) {{\n",
       "        var display = window.getComputedStyle(gd).display;\n",
       "        if (!display || display === 'none') {{\n",
       "            console.log([gd, 'removed!']);\n",
       "            Plotly.purge(gd);\n",
       "            observer.disconnect();\n",
       "        }}\n",
       "}});\n",
       "\n",
       "// Listen for the removal of the full notebook cells\n",
       "var notebookContainer = gd.closest('#notebook-container');\n",
       "if (notebookContainer) {{\n",
       "    x.observe(notebookContainer, {childList: true});\n",
       "}}\n",
       "\n",
       "// Listen for the clearing of the current output cell\n",
       "var outputEl = gd.closest('.output');\n",
       "if (outputEl) {{\n",
       "    x.observe(outputEl, {childList: true});\n",
       "}}\n",
       "\n",
       "                        })                };                });            </script>        </div>"
      ]
     },
     "metadata": {},
     "output_type": "display_data"
    }
   ],
   "source": [
    "import plotly.offline as pyo\n",
    "import plotly.graph_objs as go\n",
    "\n",
    "def plot_stacked_linear_models(X, Y_list, Y_names, models, colors, title=\"Stacked Linear Models\", xlabel=\"Crit Chance\", ylabel=\"Outcomes\", log_scale=False):\n",
    "    # Generate new X values for prediction beyond the dataset\n",
    "    X_new = np.linspace(0, 6000, 200).reshape(-1, 1)\n",
    "\n",
    "    # Create an empty list to store traces\n",
    "    traces = []\n",
    "\n",
    "    # Train each model and add the traces to the list\n",
    "    for model in models:\n",
    "        for Y, Y_name, color in zip(Y_list, Y_names, colors):\n",
    "            model.fit(X, Y)\n",
    "            y_pred = model.predict(X_new)\n",
    "            trace = go.Scatter(x=X_new.reshape(-1), y=y_pred.reshape(-1), mode=\"lines\", name=f\"{model.__class__.__name__} - {Y_name}\", line=dict(color=color))\n",
    "            traces.append(trace)\n",
    "\n",
    "    # Set plot title and labels\n",
    "    layout = go.Layout(\n",
    "        title=title,\n",
    "        xaxis=dict(title=xlabel),\n",
    "        yaxis=dict(title=ylabel, type=\"log\" if log_scale else \"linear\"),\n",
    "        hovermode=\"closest\"\n",
    "    )\n",
    "\n",
    "    # Create the figure with traces and layout\n",
    "    fig = go.Figure(data=traces, layout=layout)\n",
    "\n",
    "    # Show the plot\n",
    "    fig.show()\n",
    "    \n",
    "    # Show the plot\n",
    "    pyo.init_notebook_mode(connected=True)\n",
    "    pyo.iplot(fig)\n",
    "\n",
    "# Define the models and their colors\n",
    "models = [\n",
    "    LinearRegression(),\n",
    "]\n",
    "\n",
    "colors = [\"red\", \"blue\", \"green\", \"orange\", \"purple\", \"brown\"]\n",
    "\n",
    "# Use the defined function to create a visual for all outcomes\n",
    "temp_df = df\n",
    "\n",
    "# Add Normal crit column\n",
    "temp_df['Normal'] = temp_df.apply(lambda x: 100 - sum(x[['Legendary', 'Fabled', 'Mythical']]), axis=1)\n",
    "outcomes = [\"Legendary\", \"Fabled\", \"Mythical\"]\n",
    "Y_list = [temp_df[outcome] for outcome in outcomes]\n",
    "\n",
    "plot_stacked_linear_models(X, Y_list, outcomes, models, colors, title=\"Stacked Linear Models for All Outcomes\", xlabel=\"Crit Chance\", ylabel=\"Outcomes\", log_scale=False)\n"
   ]
  }
 ],
 "metadata": {
  "kernelspec": {
   "display_name": "env",
   "language": "python",
   "name": "python3"
  },
  "language_info": {
   "codemirror_mode": {
    "name": "ipython",
    "version": 3
   },
   "file_extension": ".py",
   "mimetype": "text/x-python",
   "name": "python",
   "nbconvert_exporter": "python",
   "pygments_lexer": "ipython3",
   "version": "3.10.6"
  },
  "orig_nbformat": 4
 },
 "nbformat": 4,
 "nbformat_minor": 2
}
